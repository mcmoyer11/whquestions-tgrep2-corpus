{
 "cells": [
  {
   "cell_type": "markdown",
   "metadata": {},
   "source": [
    "# sample generator for embedded questions\n",
    "This notebook is for creating the random sample .txt files for the experiment."
   ]
  },
  {
   "cell_type": "code",
   "execution_count": 3,
   "metadata": {},
   "outputs": [],
   "source": [
    "import pandas as pd\n",
    "import numpy as np"
   ]
  },
  {
   "cell_type": "markdown",
   "metadata": {},
   "source": [
    " # Contents\n",
    " 1. [Constrain the data set to stimuli set](#Constrain-the-dataset-to-stimuli-set)\n",
    " 2. [Figuring out the distribution of factors per list](#Figuring-out-the-distribution-of-factors-per-list)\n",
    " 3. [Figure out how to collapse the matrix verb columns](#Figure-out-how-to-collapse-the-matrix-verb-columns)\n",
    " 4. [Add in the paraphrases](#Add-in-the-paraphrases)\n",
    " 5. [Split EntireSentence on Question](#Split-EntireSentence-on-Question)\n",
    " 6. [Controls](#Controls)\n",
    " 7. [Balancing factors](#Balancing-factors)\n",
    "     1. [Modal Balancing](#Modal-Balancing)\n",
    "     2. [Wh Balancing](#Wh-Balancing)\n",
    "         1. [Who](#Who)\n",
    "         2. [What](#What)\n",
    "         3. [Where](#Where)\n",
    "         4. [When](#When)\n",
    "         5. [How](#How)\n",
    "         6. [Why](#Why)\n",
    " 8. [Generating-random-samples](#Generating-random-samples)\n",
    "     1. [First Iteration](#First-Iteration)\n",
    "     2. [Second Iteration](#Second-Itreation)\n",
    "     3. [Third Iteration](#Third-Iteration)\n",
    "     4. [Fourth Iteration](#Fourth-Iteration)\n",
    "     5. [Fifth Iteration](#Fifth-Iteration)\n",
    "     6. [Sixth Iteration](#Sixth-Iteration)\n",
    "     7. [Final Set](#Final-Set)\n",
    " 9. [Pilot Samples](#Pilot-Samples)"
   ]
  },
  {
   "cell_type": "code",
   "execution_count": 4,
   "metadata": {},
   "outputs": [],
   "source": [
    "# import the database file from the TGrep2 searching\n",
    "df = pd.read_csv(\"../results/swbd.tab\", sep='\\t', engine='python')"
   ]
  },
  {
   "cell_type": "code",
   "execution_count": null,
   "metadata": {
    "scrolled": true
   },
   "outputs": [],
   "source": []
  },
  {
   "cell_type": "code",
   "execution_count": 5,
   "metadata": {},
   "outputs": [],
   "source": [
    "# This makes the display show more info\n",
    "pd.set_option('display.max_rows', None)\n",
    "pd.set_option('display.max_colwidth', None)"
   ]
  },
  {
   "cell_type": "code",
   "execution_count": 6,
   "metadata": {},
   "outputs": [
    {
     "data": {
      "text/html": [
       "<div>\n",
       "<style scoped>\n",
       "    .dataframe tbody tr th:only-of-type {\n",
       "        vertical-align: middle;\n",
       "    }\n",
       "\n",
       "    .dataframe tbody tr th {\n",
       "        vertical-align: top;\n",
       "    }\n",
       "\n",
       "    .dataframe thead th {\n",
       "        text-align: right;\n",
       "    }\n",
       "</style>\n",
       "<table border=\"1\" class=\"dataframe\">\n",
       "  <thead>\n",
       "    <tr style=\"text-align: right;\">\n",
       "      <th></th>\n",
       "      <th>QuestionType</th>\n",
       "      <th>Question</th>\n",
       "    </tr>\n",
       "  </thead>\n",
       "  <tbody>\n",
       "    <tr>\n",
       "      <th>0</th>\n",
       "      <td>adjunct</td>\n",
       "      <td>0.075203</td>\n",
       "    </tr>\n",
       "    <tr>\n",
       "      <th>1</th>\n",
       "      <td>cleft</td>\n",
       "      <td>0.064712</td>\n",
       "    </tr>\n",
       "    <tr>\n",
       "      <th>2</th>\n",
       "      <td>embadjunct</td>\n",
       "      <td>0.236886</td>\n",
       "    </tr>\n",
       "    <tr>\n",
       "      <th>3</th>\n",
       "      <td>embedded</td>\n",
       "      <td>0.160800</td>\n",
       "    </tr>\n",
       "    <tr>\n",
       "      <th>4</th>\n",
       "      <td>fragment</td>\n",
       "      <td>0.067654</td>\n",
       "    </tr>\n",
       "    <tr>\n",
       "      <th>5</th>\n",
       "      <td>relative</td>\n",
       "      <td>0.133150</td>\n",
       "    </tr>\n",
       "    <tr>\n",
       "      <th>6</th>\n",
       "      <td>root</td>\n",
       "      <td>0.124424</td>\n",
       "    </tr>\n",
       "    <tr>\n",
       "      <th>7</th>\n",
       "      <td>subject</td>\n",
       "      <td>0.137072</td>\n",
       "    </tr>\n",
       "  </tbody>\n",
       "</table>\n",
       "</div>"
      ],
      "text/plain": [
       "  QuestionType  Question\n",
       "0      adjunct  0.075203\n",
       "1        cleft  0.064712\n",
       "2   embadjunct  0.236886\n",
       "3     embedded  0.160800\n",
       "4     fragment  0.067654\n",
       "5     relative  0.133150\n",
       "6         root  0.124424\n",
       "7      subject  0.137072"
      ]
     },
     "execution_count": 6,
     "metadata": {},
     "output_type": "execute_result"
    }
   ],
   "source": [
    "df.pivot_table(index=['QuestionType'], values=\"Question\", aggfunc=len).groupby([\"QuestionType\"]).Question.transform(lambda x: x/len(df)).reset_index()"
   ]
  },
  {
   "cell_type": "markdown",
   "metadata": {},
   "source": [
    "# Constrain the dataset to stimuli set\n",
    "for experimental mock-up\n",
    "\n",
    "First we have to remove the questions that we don;t want to include:\n",
    "1. embedded questions only\n",
    "2. no degree questions\n",
    "3. no identity questions\n",
    "4. generally only monomorphemic wh-phrases\n",
    "5. only who-, what-, where-, when-, how-, and why-questions"
   ]
  },
  {
   "cell_type": "code",
   "execution_count": 8,
   "metadata": {},
   "outputs": [],
   "source": [
    "critical = df[(df['QuestionType'] == 'embedded') # only root questions\n",
    "              & \n",
    "              (df['DegreeQ'] == 'no' ) # no degree questions\n",
    "              &\n",
    "              (df['IdentityQ'] == \"no\") # no identity questions\n",
    "              &\n",
    "              (df['WhPhaseType'] == \"monomorphemic\") # no identity questions\n",
    "              &\n",
    "              (df['Wh'].isin(['how','How','where','Where','who','Who','what','What','why','Why','when','When']))] # just these wh-words]"
   ]
  },
  {
   "cell_type": "code",
   "execution_count": 9,
   "metadata": {},
   "outputs": [
    {
     "data": {
      "text/plain": [
       "1073"
      ]
     },
     "execution_count": 9,
     "metadata": {},
     "output_type": "execute_result"
    }
   ],
   "source": [
    "len(critical)"
   ]
  },
  {
   "cell_type": "markdown",
   "metadata": {},
   "source": [
    "### Figuring out how many lists\n",
    "\n",
    "1073/30 = 35.76\n",
    "\n",
    "35 lists x 30 = 1050\n",
    "\n",
    "1073-1050 = 23\n",
    "\n",
    "35 lists of 30, 1 list of 23\n",
    "\n",
    "\n",
    "### Number of participants\n",
    "36 lists x 30 participants per list = 1080 participants"
   ]
  },
  {
   "cell_type": "markdown",
   "metadata": {},
   "source": [
    "# Combine contexts with constrained db"
   ]
  },
  {
   "cell_type": "code",
   "execution_count": 44,
   "metadata": {},
   "outputs": [],
   "source": [
    "# read in df with contexts\n",
    "cntxts = pd.read_csv(\"swbd_contexts.csv\")"
   ]
  },
  {
   "cell_type": "code",
   "execution_count": 45,
   "metadata": {},
   "outputs": [],
   "source": [
    "cntxts = cntxts.drop(columns=\"FollowingContext\")"
   ]
  },
  {
   "cell_type": "code",
   "execution_count": 46,
   "metadata": {},
   "outputs": [],
   "source": [
    "# get the indixes from critical\n",
    "crit_index = critical.Item_ID"
   ]
  },
  {
   "cell_type": "markdown",
   "metadata": {},
   "source": [
    "### Merge back in Wh and ModalPresent colums"
   ]
  },
  {
   "cell_type": "code",
   "execution_count": 139,
   "metadata": {},
   "outputs": [
    {
     "data": {
      "text/plain": [
       "Wh     Finite\n",
       "how    no         92\n",
       "       yes       156\n",
       "what   no         25\n",
       "       yes       365\n",
       "when   yes        21\n",
       "where  no          5\n",
       "       yes       122\n",
       "who    no          2\n",
       "       yes        53\n",
       "why    yes        67\n",
       "Name: Wh, dtype: int64"
      ]
     },
     "execution_count": 139,
     "metadata": {},
     "output_type": "execute_result"
    }
   ],
   "source": [
    "critical.groupby(['Wh','Finite'])['Wh'].count()"
   ]
  },
  {
   "cell_type": "code",
   "execution_count": 140,
   "metadata": {},
   "outputs": [],
   "source": [
    "df_WhMod = critical[[\"Item_ID\",\"Wh\",\"ModalPresent\",\"Finite\",\"Question\"]].rename(columns={\"Item_ID\": \"TGrepID\"})"
   ]
  },
  {
   "cell_type": "code",
   "execution_count": 141,
   "metadata": {},
   "outputs": [],
   "source": [
    "# subset to the items that are just the ones filtered in the previos section\n",
    "\n",
    "# otherwise, if using the database file with contexts directly in there, then this step\n",
    "# is not necessary\n",
    "df_valid = cntxts[cntxts[\"TGrepID\"].isin(set(crit_index))]"
   ]
  },
  {
   "cell_type": "code",
   "execution_count": 185,
   "metadata": {},
   "outputs": [],
   "source": [
    "# Merge\n",
    "df_valid = df_valid.merge(df_WhMod, how = 'inner', indicator=False)"
   ]
  },
  {
   "cell_type": "markdown",
   "metadata": {},
   "source": [
    "# Merge ModalPresent and Finiteness into one Modal Column"
   ]
  },
  {
   "cell_type": "code",
   "execution_count": 186,
   "metadata": {},
   "outputs": [],
   "source": [
    "modP = df_valid[df_valid.ModalPresent == \"yes\"].TGrepID\n",
    "nonfin = df_valid[df_valid.Finite == \"no\"].TGrepID"
   ]
  },
  {
   "cell_type": "code",
   "execution_count": 187,
   "metadata": {},
   "outputs": [],
   "source": [
    "mods = pd.concat([modP,nonfin])"
   ]
  },
  {
   "cell_type": "code",
   "execution_count": 188,
   "metadata": {},
   "outputs": [],
   "source": [
    "df_valid[\"Modal\"] = \"\""
   ]
  },
  {
   "cell_type": "code",
   "execution_count": 189,
   "metadata": {},
   "outputs": [],
   "source": [
    "df_valid_mods = df_valid[df_valid[\"TGrepID\"].isin(set(mods))].assign(Modal = \"yes\")\n",
    "df_valid_nomods = df_valid[~df_valid[\"TGrepID\"].isin(set(mods))].assign(Modal = \"no\")"
   ]
  },
  {
   "cell_type": "code",
   "execution_count": 190,
   "metadata": {},
   "outputs": [],
   "source": [
    "df_valid = pd.concat([df_valid_mods,df_valid_nomods])"
   ]
  },
  {
   "cell_type": "code",
   "execution_count": 191,
   "metadata": {},
   "outputs": [
    {
     "data": {
      "text/plain": [
       "1073"
      ]
     },
     "execution_count": 191,
     "metadata": {},
     "output_type": "execute_result"
    }
   ],
   "source": [
    "len(df_valid)"
   ]
  },
  {
   "cell_type": "markdown",
   "metadata": {},
   "source": [
    "# Split EntireSentence on Question \n",
    "This is necessary because we need to bold the question only and not the Matrix in the experimental file"
   ]
  },
  {
   "cell_type": "code",
   "execution_count": 199,
   "metadata": {},
   "outputs": [],
   "source": [
    "# split EntireSentence at the string that matches the value in the 'question' column\n",
    "df_valid[\"Matrix\"] = df_valid.apply(lambda x: x['EntireSentence'].replace(x['Question'],\"\").strip(),axis=1)"
   ]
  },
  {
   "cell_type": "code",
   "execution_count": 200,
   "metadata": {},
   "outputs": [],
   "source": [
    "# split that last punctuation off, to be added back on in .js script\n",
    "df_valid[\"punct\"] = df_valid[\"Matrix\"].apply(lambda x: list(x)[-1])"
   ]
  },
  {
   "cell_type": "code",
   "execution_count": 202,
   "metadata": {},
   "outputs": [],
   "source": [
    "# remove that final punct from the Matrix column\n",
    "df_valid[\"Matrix\"] = df_valid[\"Matrix\"].apply(lambda x: x.replace(list(x)[-1], ' '))"
   ]
  },
  {
   "cell_type": "markdown",
   "metadata": {},
   "source": [
    "# Add in the paraphrases\n",
    "this should take as input the entire constrained dataframe from the above section, and then generate the paraphrases\n",
    "\n",
    "For Who questions: Who is a person...? / Who is some person...? / \"Who is every person...\" / \"Who is the person...\""
   ]
  },
  {
   "cell_type": "code",
   "execution_count": 203,
   "metadata": {},
   "outputs": [],
   "source": [
    "who = df_valid[df_valid[\"Wh\"] == \"who\"]\n",
    "where = df_valid[df_valid[\"Wh\"] == \"where\"]\n",
    "how = df_valid[df_valid[\"Wh\"] == \"how\"]\n",
    "when = df_valid[df_valid[\"Wh\"] == \"when\"]\n",
    "why = df_valid[df_valid[\"Wh\"] == \"why\"]\n",
    "what = df_valid[df_valid[\"Wh\"] == \"what\"]"
   ]
  },
  {
   "cell_type": "code",
   "execution_count": 204,
   "metadata": {},
   "outputs": [
    {
     "name": "stderr",
     "output_type": "stream",
     "text": [
      "<ipython-input-204-42af90f9edbb>:1: SettingWithCopyWarning: \n",
      "A value is trying to be set on a copy of a slice from a DataFrame.\n",
      "Try using .loc[row_indexer,col_indexer] = value instead\n",
      "\n",
      "See the caveats in the documentation: https://pandas.pydata.org/pandas-docs/stable/user_guide/indexing.html#returning-a-view-versus-a-copy\n",
      "  who[\"AResponse\"] = \"...who is a person...\"\n",
      "<ipython-input-204-42af90f9edbb>:3: SettingWithCopyWarning: \n",
      "A value is trying to be set on a copy of a slice from a DataFrame.\n",
      "Try using .loc[row_indexer,col_indexer] = value instead\n",
      "\n",
      "See the caveats in the documentation: https://pandas.pydata.org/pandas-docs/stable/user_guide/indexing.html#returning-a-view-versus-a-copy\n",
      "  who[\"AllResponse\"] = \"...who is every person...\"\n",
      "<ipython-input-204-42af90f9edbb>:4: SettingWithCopyWarning: \n",
      "A value is trying to be set on a copy of a slice from a DataFrame.\n",
      "Try using .loc[row_indexer,col_indexer] = value instead\n",
      "\n",
      "See the caveats in the documentation: https://pandas.pydata.org/pandas-docs/stable/user_guide/indexing.html#returning-a-view-versus-a-copy\n",
      "  who[\"TheResponse\"] = \"...who is the person...\"\n",
      "<ipython-input-204-42af90f9edbb>:7: SettingWithCopyWarning: \n",
      "A value is trying to be set on a copy of a slice from a DataFrame.\n",
      "Try using .loc[row_indexer,col_indexer] = value instead\n",
      "\n",
      "See the caveats in the documentation: https://pandas.pydata.org/pandas-docs/stable/user_guide/indexing.html#returning-a-view-versus-a-copy\n",
      "  where[\"AResponse\"] = \"...what is a place...\"\n",
      "<ipython-input-204-42af90f9edbb>:9: SettingWithCopyWarning: \n",
      "A value is trying to be set on a copy of a slice from a DataFrame.\n",
      "Try using .loc[row_indexer,col_indexer] = value instead\n",
      "\n",
      "See the caveats in the documentation: https://pandas.pydata.org/pandas-docs/stable/user_guide/indexing.html#returning-a-view-versus-a-copy\n",
      "  where[\"AllResponse\"] = \"...what is every place...\"\n",
      "<ipython-input-204-42af90f9edbb>:10: SettingWithCopyWarning: \n",
      "A value is trying to be set on a copy of a slice from a DataFrame.\n",
      "Try using .loc[row_indexer,col_indexer] = value instead\n",
      "\n",
      "See the caveats in the documentation: https://pandas.pydata.org/pandas-docs/stable/user_guide/indexing.html#returning-a-view-versus-a-copy\n",
      "  where[\"TheResponse\"] = \"...what is the place...\"\n",
      "<ipython-input-204-42af90f9edbb>:13: SettingWithCopyWarning: \n",
      "A value is trying to be set on a copy of a slice from a DataFrame.\n",
      "Try using .loc[row_indexer,col_indexer] = value instead\n",
      "\n",
      "See the caveats in the documentation: https://pandas.pydata.org/pandas-docs/stable/user_guide/indexing.html#returning-a-view-versus-a-copy\n",
      "  how[\"AResponse\"] = \"...what is a way...\"\n",
      "<ipython-input-204-42af90f9edbb>:15: SettingWithCopyWarning: \n",
      "A value is trying to be set on a copy of a slice from a DataFrame.\n",
      "Try using .loc[row_indexer,col_indexer] = value instead\n",
      "\n",
      "See the caveats in the documentation: https://pandas.pydata.org/pandas-docs/stable/user_guide/indexing.html#returning-a-view-versus-a-copy\n",
      "  how[\"AllResponse\"] = \"...what is every way...\"\n",
      "<ipython-input-204-42af90f9edbb>:16: SettingWithCopyWarning: \n",
      "A value is trying to be set on a copy of a slice from a DataFrame.\n",
      "Try using .loc[row_indexer,col_indexer] = value instead\n",
      "\n",
      "See the caveats in the documentation: https://pandas.pydata.org/pandas-docs/stable/user_guide/indexing.html#returning-a-view-versus-a-copy\n",
      "  how[\"TheResponse\"] = \"...what is the way...\"\n",
      "<ipython-input-204-42af90f9edbb>:18: SettingWithCopyWarning: \n",
      "A value is trying to be set on a copy of a slice from a DataFrame.\n",
      "Try using .loc[row_indexer,col_indexer] = value instead\n",
      "\n",
      "See the caveats in the documentation: https://pandas.pydata.org/pandas-docs/stable/user_guide/indexing.html#returning-a-view-versus-a-copy\n",
      "  when[\"AResponse\"] = \"...what is a time...\"\n",
      "<ipython-input-204-42af90f9edbb>:20: SettingWithCopyWarning: \n",
      "A value is trying to be set on a copy of a slice from a DataFrame.\n",
      "Try using .loc[row_indexer,col_indexer] = value instead\n",
      "\n",
      "See the caveats in the documentation: https://pandas.pydata.org/pandas-docs/stable/user_guide/indexing.html#returning-a-view-versus-a-copy\n",
      "  when[\"AllResponse\"] = \"...what is every time...\"\n",
      "<ipython-input-204-42af90f9edbb>:21: SettingWithCopyWarning: \n",
      "A value is trying to be set on a copy of a slice from a DataFrame.\n",
      "Try using .loc[row_indexer,col_indexer] = value instead\n",
      "\n",
      "See the caveats in the documentation: https://pandas.pydata.org/pandas-docs/stable/user_guide/indexing.html#returning-a-view-versus-a-copy\n",
      "  when[\"TheResponse\"] = \"...what is the time...\"\n",
      "<ipython-input-204-42af90f9edbb>:24: SettingWithCopyWarning: \n",
      "A value is trying to be set on a copy of a slice from a DataFrame.\n",
      "Try using .loc[row_indexer,col_indexer] = value instead\n",
      "\n",
      "See the caveats in the documentation: https://pandas.pydata.org/pandas-docs/stable/user_guide/indexing.html#returning-a-view-versus-a-copy\n",
      "  why[\"AResponse\"] = \"...what is a reason...\"\n",
      "<ipython-input-204-42af90f9edbb>:26: SettingWithCopyWarning: \n",
      "A value is trying to be set on a copy of a slice from a DataFrame.\n",
      "Try using .loc[row_indexer,col_indexer] = value instead\n",
      "\n",
      "See the caveats in the documentation: https://pandas.pydata.org/pandas-docs/stable/user_guide/indexing.html#returning-a-view-versus-a-copy\n",
      "  why[\"AllResponse\"] = \"...what is every reason...\"\n",
      "<ipython-input-204-42af90f9edbb>:27: SettingWithCopyWarning: \n",
      "A value is trying to be set on a copy of a slice from a DataFrame.\n",
      "Try using .loc[row_indexer,col_indexer] = value instead\n",
      "\n",
      "See the caveats in the documentation: https://pandas.pydata.org/pandas-docs/stable/user_guide/indexing.html#returning-a-view-versus-a-copy\n",
      "  why[\"TheResponse\"] = \"...what is the reason...\"\n",
      "<ipython-input-204-42af90f9edbb>:30: SettingWithCopyWarning: \n",
      "A value is trying to be set on a copy of a slice from a DataFrame.\n",
      "Try using .loc[row_indexer,col_indexer] = value instead\n",
      "\n",
      "See the caveats in the documentation: https://pandas.pydata.org/pandas-docs/stable/user_guide/indexing.html#returning-a-view-versus-a-copy\n",
      "  what[\"AResponse\"] = \"...what is a thing...\"\n",
      "<ipython-input-204-42af90f9edbb>:32: SettingWithCopyWarning: \n",
      "A value is trying to be set on a copy of a slice from a DataFrame.\n",
      "Try using .loc[row_indexer,col_indexer] = value instead\n",
      "\n",
      "See the caveats in the documentation: https://pandas.pydata.org/pandas-docs/stable/user_guide/indexing.html#returning-a-view-versus-a-copy\n",
      "  what[\"AllResponse\"] = \"...what is every thing...\"\n",
      "<ipython-input-204-42af90f9edbb>:33: SettingWithCopyWarning: \n",
      "A value is trying to be set on a copy of a slice from a DataFrame.\n",
      "Try using .loc[row_indexer,col_indexer] = value instead\n",
      "\n",
      "See the caveats in the documentation: https://pandas.pydata.org/pandas-docs/stable/user_guide/indexing.html#returning-a-view-versus-a-copy\n",
      "  what[\"TheResponse\"] = \"...what is the thing...\"\n"
     ]
    }
   ],
   "source": [
    "who[\"AResponse\"] = \"...who is a person...\"\n",
    "# who[\"SomeResponse\"] = \"Who is some person...\"\n",
    "who[\"AllResponse\"] = \"...who is every person...\"\n",
    "who[\"TheResponse\"] = \"...who is the person...\"\n",
    "\n",
    "\n",
    "where[\"AResponse\"] = \"...what is a place...\"\n",
    "# where[\"SomeResponse\"] = \"What is some place...\"\n",
    "where[\"AllResponse\"] = \"...what is every place...\"\n",
    "where[\"TheResponse\"] = \"...what is the place...\"\n",
    "\n",
    "\n",
    "how[\"AResponse\"] = \"...what is a way...\"\n",
    "# how[\"SomeResponse\"] = \"What is some way...\"\n",
    "how[\"AllResponse\"] = \"...what is every way...\"\n",
    "how[\"TheResponse\"] = \"...what is the way...\"\n",
    "\n",
    "when[\"AResponse\"] = \"...what is a time...\"\n",
    "# when[\"SomeResponse\"] = \"What is some time...\"\n",
    "when[\"AllResponse\"] = \"...what is every time...\"\n",
    "when[\"TheResponse\"] = \"...what is the time...\"\n",
    "\n",
    "\n",
    "why[\"AResponse\"] = \"...what is a reason...\"\n",
    "# why[\"SomeResponse\"] = \"What is some reason...\"\n",
    "why[\"AllResponse\"] = \"...what is every reason...\"\n",
    "why[\"TheResponse\"] = \"...what is the reason...\"\n",
    "\n",
    "\n",
    "what[\"AResponse\"] = \"...what is a thing...\"\n",
    "# what[\"SomeResponse\"] = \"What is some thing...\"\n",
    "what[\"AllResponse\"] = \"...what is every thing...\"\n",
    "what[\"TheResponse\"] = \"...what is the thing...\""
   ]
  },
  {
   "cell_type": "code",
   "execution_count": 205,
   "metadata": {},
   "outputs": [],
   "source": [
    "df_final = pd.concat([who,where,how,why,when,what])"
   ]
  },
  {
   "cell_type": "code",
   "execution_count": 22,
   "metadata": {},
   "outputs": [
    {
     "data": {
      "text/plain": [
       "1073"
      ]
     },
     "execution_count": 22,
     "metadata": {},
     "output_type": "execute_result"
    }
   ],
   "source": [
    "len(df_final)"
   ]
  },
  {
   "cell_type": "markdown",
   "metadata": {},
   "source": [
    "# Controls"
   ]
  },
  {
   "cell_type": "code",
   "execution_count": 96,
   "metadata": {},
   "outputs": [],
   "source": [
    "controls = pd.read_csv(\"../../experiments/clean_corpus/controls.csv\")"
   ]
  },
  {
   "cell_type": "code",
   "execution_count": 206,
   "metadata": {},
   "outputs": [],
   "source": [
    "# Add columns to make merging datasets easier\n",
    "controls[\"Wh\"] = \"none\"\n",
    "controls[\"ModalPresent\"] = \"no\"\n",
    "controls[\"Question\"] = controls[\"EntireSentence\"]\n",
    "controls[\"punct\"] = \"\"\n",
    "controls[\"Matrix\"] = \"\"\n",
    "controls[\"Modal\"] = \"\""
   ]
  },
  {
   "cell_type": "code",
   "execution_count": 207,
   "metadata": {},
   "outputs": [],
   "source": [
    "controls = controls[[\"TGrepID\",\"EntireSentence\",\"PreceedingContext\",\"Matrix\",\"Question\",\"Wh\",\"Modal\",\"punct\",\"AResponse\",\"AllResponse\",\"TheResponse\"]]"
   ]
  },
  {
   "cell_type": "code",
   "execution_count": null,
   "metadata": {},
   "outputs": [],
   "source": []
  },
  {
   "cell_type": "markdown",
   "metadata": {},
   "source": [
    "# Balancing factors"
   ]
  },
  {
   "cell_type": "code",
   "execution_count": 52,
   "metadata": {},
   "outputs": [
    {
     "data": {
      "text/plain": [
       "1073"
      ]
     },
     "execution_count": 52,
     "metadata": {},
     "output_type": "execute_result"
    }
   ],
   "source": [
    "len(df_final)"
   ]
  },
  {
   "cell_type": "code",
   "execution_count": 53,
   "metadata": {},
   "outputs": [
    {
     "data": {
      "text/plain": [
       "23"
      ]
     },
     "execution_count": 53,
     "metadata": {},
     "output_type": "execute_result"
    }
   ],
   "source": [
    "1073 - 30*35"
   ]
  },
  {
   "cell_type": "code",
   "execution_count": 210,
   "metadata": {},
   "outputs": [
    {
     "data": {
      "text/plain": [
       "1073"
      ]
     },
     "execution_count": 210,
     "metadata": {},
     "output_type": "execute_result"
    }
   ],
   "source": [
    "# 35 lists of 30, 1 list of 23\n",
    "30*35 + 23"
   ]
  },
  {
   "cell_type": "code",
   "execution_count": 215,
   "metadata": {},
   "outputs": [
    {
     "data": {
      "text/plain": [
       "9"
      ]
     },
     "execution_count": 215,
     "metadata": {},
     "output_type": "execute_result"
    }
   ],
   "source": [
    "289 - (35*8)"
   ]
  },
  {
   "cell_type": "code",
   "execution_count": 216,
   "metadata": {},
   "outputs": [
    {
     "data": {
      "text/plain": [
       "289"
      ]
     },
     "execution_count": 216,
     "metadata": {},
     "output_type": "execute_result"
    }
   ],
   "source": [
    "35*8 + 1*9"
   ]
  },
  {
   "cell_type": "markdown",
   "metadata": {},
   "source": [
    "## Modal Balancing\n",
    "- Lists 1-35: 8\n",
    "- List 36: 9"
   ]
  },
  {
   "cell_type": "code",
   "execution_count": 208,
   "metadata": {},
   "outputs": [
    {
     "data": {
      "text/plain": [
       "Modal\n",
       "no     784\n",
       "yes    289\n",
       "Name: Modal, dtype: int64"
      ]
     },
     "execution_count": 208,
     "metadata": {},
     "output_type": "execute_result"
    }
   ],
   "source": [
    "df_final.groupby([\"Modal\"])[\"Modal\"].count()"
   ]
  },
  {
   "cell_type": "markdown",
   "metadata": {},
   "source": [
    "Modals"
   ]
  },
  {
   "cell_type": "code",
   "execution_count": 209,
   "metadata": {},
   "outputs": [
    {
     "data": {
      "text/html": [
       "<div>\n",
       "<style scoped>\n",
       "    .dataframe tbody tr th:only-of-type {\n",
       "        vertical-align: middle;\n",
       "    }\n",
       "\n",
       "    .dataframe tbody tr th {\n",
       "        vertical-align: top;\n",
       "    }\n",
       "\n",
       "    .dataframe thead th {\n",
       "        text-align: right;\n",
       "    }\n",
       "</style>\n",
       "<table border=\"1\" class=\"dataframe\">\n",
       "  <thead>\n",
       "    <tr style=\"text-align: right;\">\n",
       "      <th></th>\n",
       "      <th>Modal</th>\n",
       "      <th>Question</th>\n",
       "    </tr>\n",
       "  </thead>\n",
       "  <tbody>\n",
       "    <tr>\n",
       "      <th>0</th>\n",
       "      <td>no</td>\n",
       "      <td>0.730662</td>\n",
       "    </tr>\n",
       "    <tr>\n",
       "      <th>1</th>\n",
       "      <td>yes</td>\n",
       "      <td>0.269338</td>\n",
       "    </tr>\n",
       "  </tbody>\n",
       "</table>\n",
       "</div>"
      ],
      "text/plain": [
       "  Modal  Question\n",
       "0    no  0.730662\n",
       "1   yes  0.269338"
      ]
     },
     "execution_count": 209,
     "metadata": {},
     "output_type": "execute_result"
    }
   ],
   "source": [
    "df_final.pivot_table(index=['Modal'], values=\"Question\", aggfunc=len).groupby([\"Modal\"]).Question.transform(lambda x: x/len(df_final)).reset_index()"
   ]
  },
  {
   "cell_type": "code",
   "execution_count": 207,
   "metadata": {},
   "outputs": [
    {
     "data": {
      "text/html": [
       "<div>\n",
       "<style scoped>\n",
       "    .dataframe tbody tr th:only-of-type {\n",
       "        vertical-align: middle;\n",
       "    }\n",
       "\n",
       "    .dataframe tbody tr th {\n",
       "        vertical-align: top;\n",
       "    }\n",
       "\n",
       "    .dataframe thead th {\n",
       "        text-align: right;\n",
       "    }\n",
       "</style>\n",
       "<table border=\"1\" class=\"dataframe\">\n",
       "  <thead>\n",
       "    <tr style=\"text-align: right;\">\n",
       "      <th></th>\n",
       "      <th>Wh</th>\n",
       "      <th>Question</th>\n",
       "    </tr>\n",
       "  </thead>\n",
       "  <tbody>\n",
       "    <tr>\n",
       "      <th>0</th>\n",
       "      <td>how</td>\n",
       "      <td>0.269338</td>\n",
       "    </tr>\n",
       "    <tr>\n",
       "      <th>1</th>\n",
       "      <td>what</td>\n",
       "      <td>0.416589</td>\n",
       "    </tr>\n",
       "    <tr>\n",
       "      <th>2</th>\n",
       "      <td>when</td>\n",
       "      <td>0.025163</td>\n",
       "    </tr>\n",
       "    <tr>\n",
       "      <th>3</th>\n",
       "      <td>where</td>\n",
       "      <td>0.158434</td>\n",
       "    </tr>\n",
       "    <tr>\n",
       "      <th>4</th>\n",
       "      <td>who</td>\n",
       "      <td>0.053122</td>\n",
       "    </tr>\n",
       "    <tr>\n",
       "      <th>5</th>\n",
       "      <td>why</td>\n",
       "      <td>0.077353</td>\n",
       "    </tr>\n",
       "  </tbody>\n",
       "</table>\n",
       "</div>"
      ],
      "text/plain": [
       "      Wh  Question\n",
       "0    how  0.269338\n",
       "1   what  0.416589\n",
       "2   when  0.025163\n",
       "3  where  0.158434\n",
       "4    who  0.053122\n",
       "5    why  0.077353"
      ]
     },
     "execution_count": 207,
     "metadata": {},
     "output_type": "execute_result"
    }
   ],
   "source": [
    "df_final.pivot_table(index=['Wh'], values=\"Question\", aggfunc=len).groupby([\"Wh\"]).Question.transform(lambda x: x/len(df_final)).reset_index()"
   ]
  },
  {
   "cell_type": "code",
   "execution_count": 270,
   "metadata": {},
   "outputs": [],
   "source": [
    "df_final = pd.concat([who,where,how,why,when,what])"
   ]
  },
  {
   "cell_type": "code",
   "execution_count": 254,
   "metadata": {},
   "outputs": [
    {
     "data": {
      "text/plain": [
       "1073"
      ]
     },
     "execution_count": 254,
     "metadata": {},
     "output_type": "execute_result"
    }
   ],
   "source": [
    "len(df_final)"
   ]
  },
  {
   "cell_type": "markdown",
   "metadata": {},
   "source": [
    "# Generating random samples"
   ]
  },
  {
   "cell_type": "markdown",
   "metadata": {},
   "source": [
    "## First Iteration"
   ]
  },
  {
   "cell_type": "markdown",
   "metadata": {},
   "source": [
    "Lists 1-21 (30): 21\n",
    "    1 when ... 21\n",
    "    2 who .... 42\n",
    "    2 why .... 42\n",
    "    5 where ...105\n",
    "    8 how ....168\n",
    "    12 what ...252\n",
    "\n",
    "Modals = 5"
   ]
  },
  {
   "cell_type": "code",
   "execution_count": 238,
   "metadata": {},
   "outputs": [
    {
     "data": {
      "text/plain": [
       "Wh     Modal\n",
       "how    no       156\n",
       "       yes      133\n",
       "what   no       365\n",
       "       yes       82\n",
       "when   no        21\n",
       "       yes        6\n",
       "where  no       122\n",
       "       yes       48\n",
       "who    no        53\n",
       "       yes        4\n",
       "why    no        67\n",
       "       yes       16\n",
       "Name: Wh, dtype: int64"
      ]
     },
     "execution_count": 238,
     "metadata": {},
     "output_type": "execute_result"
    }
   ],
   "source": [
    "df_final.groupby([\"Wh\",\"Modal\"])[\"Wh\"].count()"
   ]
  },
  {
   "cell_type": "code",
   "execution_count": 224,
   "metadata": {},
   "outputs": [
    {
     "data": {
      "text/plain": [
       "Modal\n",
       "no     403\n",
       "yes     70\n",
       "Name: Modal, dtype: int64"
      ]
     },
     "execution_count": 224,
     "metadata": {},
     "output_type": "execute_result"
    }
   ],
   "source": [
    "df_final.groupby([\"Modal\"])[\"Modal\"].count()"
   ]
  },
  {
   "cell_type": "code",
   "execution_count": 352,
   "metadata": {},
   "outputs": [],
   "source": [
    "df_final = pd.concat([who,where,how,why,when,what])"
   ]
  },
  {
   "cell_type": "code",
   "execution_count": 353,
   "metadata": {},
   "outputs": [
    {
     "data": {
      "text/plain": [
       "1073"
      ]
     },
     "execution_count": 353,
     "metadata": {},
     "output_type": "execute_result"
    }
   ],
   "source": [
    "len(df_final)"
   ]
  },
  {
   "cell_type": "code",
   "execution_count": 354,
   "metadata": {},
   "outputs": [
    {
     "data": {
      "text/plain": [
       "1073"
      ]
     },
     "execution_count": 354,
     "metadata": {},
     "output_type": "execute_result"
    }
   ],
   "source": [
    "len(df_final)"
   ]
  },
  {
   "cell_type": "code",
   "execution_count": 355,
   "metadata": {},
   "outputs": [
    {
     "name": "stdout",
     "output_type": "stream",
     "text": [
      "loop2 1, 0\n",
      "who: 2, 0\n",
      "why: 1, 1\n",
      "where: 1, 4\n",
      "how: 5, 3\n",
      "what: 12, 0\n",
      "total #1 = 36\n",
      "loop2 1, 0\n",
      "who: 2, 0\n",
      "why: 2, 0\n",
      "where: 4, 1\n",
      "how: 3, 5\n",
      "what: 10, 2\n",
      "total #2 = 36\n",
      "loop2 1, 0\n",
      "who: 2, 0\n",
      "why: 1, 1\n",
      "where: 4, 1\n",
      "how: 3, 5\n",
      "what: 11, 1\n",
      "total #3 = 36\n",
      "loop2 1, 0\n",
      "who: 2, 0\n",
      "why: 2, 0\n",
      "where: 4, 1\n",
      "how: 1, 7\n",
      "what: 12, 0\n",
      "total #4 = 36\n",
      "loop2 1, 0\n",
      "who: 1, 1\n",
      "why: 2, 0\n",
      "where: 4, 1\n",
      "how: 3, 5\n",
      "what: 11, 1\n",
      "total #5 = 36\n",
      "loop2 1, 0\n",
      "who: 2, 0\n",
      "why: 1, 1\n",
      "where: 3, 2\n",
      "how: 5, 3\n",
      "what: 10, 2\n",
      "total #6 = 36\n",
      "loop2 1, 0\n",
      "who: 2, 0\n",
      "why: 2, 0\n",
      "where: 5, 0\n",
      "how: 3, 5\n",
      "what: 9, 3\n",
      "total #7 = 36\n",
      "when: 1, 1\n",
      "who: 2, 0\n",
      "why: 2, 0\n",
      "where: 4, 1\n",
      "how: 4, 4\n",
      "what: 10, 2\n",
      "total #8 = 36\n",
      "loop2 1, 0\n",
      "who: 2, 0\n",
      "why: 1, 1\n",
      "where: 3, 2\n",
      "how: 4, 4\n",
      "what: 11, 1\n",
      "total #9 = 36\n",
      "when: 1, 1\n",
      "who: 2, 0\n",
      "why: 1, 1\n",
      "where: 5, 0\n",
      "how: 6, 2\n",
      "what: 8, 4\n",
      "total #10 = 36\n",
      "loop2 1, 0\n",
      "who: 2, 0\n",
      "why: 2, 0\n",
      "where: 4, 1\n",
      "how: 7, 1\n",
      "what: 6, 6\n",
      "total #11 = 36\n",
      "loop2 1, 0\n",
      "who: 2, 0\n",
      "why: 2, 0\n",
      "where: 5, 0\n",
      "how: 6, 2\n",
      "what: 6, 6\n",
      "total #12 = 36\n",
      "loop2 1, 0\n",
      "who: 2, 0\n",
      "why: 1, 1\n",
      "where: 5, 0\n",
      "how: 3, 5\n",
      "what: 10, 2\n",
      "total #13 = 36\n",
      "loop2 1, 0\n",
      "who: 2, 0\n",
      "why: 2, 0\n",
      "where: 4, 1\n",
      "how: 5, 3\n",
      "what: 8, 4\n",
      "total #14 = 36\n",
      "loop2 1, 0\n",
      "who: 2, 0\n",
      "why: 2, 0\n",
      "where: 4, 1\n",
      "how: 5, 3\n",
      "what: 8, 4\n",
      "total #15 = 36\n",
      "when: 1, 1\n",
      "who: 2, 0\n",
      "why: 0, 2\n",
      "where: 5, 0\n",
      "how: 5, 3\n",
      "what: 10, 2\n",
      "total #16 = 36\n",
      "loop2 1, 0\n",
      "who: 2, 0\n",
      "why: 2, 0\n",
      "where: 4, 1\n",
      "how: 2, 6\n",
      "what: 11, 1\n",
      "total #17 = 36\n",
      "loop2 1, 0\n",
      "who: 1, 1\n",
      "why: 2, 0\n",
      "where: 2, 3\n",
      "how: 7, 1\n",
      "what: 9, 3\n",
      "total #18 = 36\n",
      "when: 1, 1\n",
      "who: 1, 1\n",
      "why: 1, 1\n",
      "where: 4, 1\n",
      "how: 5, 3\n",
      "what: 11, 1\n",
      "total #19 = 36\n",
      "loop2 1, 0\n",
      "who: 1, 1\n",
      "why: 2, 0\n",
      "where: 3, 2\n",
      "how: 4, 4\n",
      "what: 11, 1\n",
      "total #20 = 36\n",
      "loop2 1, 0\n",
      "who: 2, 0\n",
      "why: 2, 0\n",
      "where: 4, 1\n",
      "how: 5, 3\n",
      "what: 8, 4\n",
      "total #21 = 36\n"
     ]
    }
   ],
   "source": [
    "for n in range(1,22):\n",
    "    mod_sample = df_final[df_final[\"Modal\"] == \"yes\"].sample(8)\n",
    "\n",
    "    i = len(mod_sample[mod_sample[\"Wh\"] == \"why\"])\n",
    "    j = len(mod_sample[mod_sample[\"Wh\"] == \"when\"])\n",
    "    k = len(mod_sample[mod_sample[\"Wh\"] == \"what\"])\n",
    "    l = len(mod_sample[mod_sample[\"Wh\"] == \"how\"])\n",
    "    m = len(mod_sample[mod_sample[\"Wh\"] == \"who\"])\n",
    "    o = len(mod_sample[mod_sample[\"Wh\"] == \"where\"])\n",
    "    df_final = df_final.drop(mod_sample.index)\n",
    "\n",
    "    when_sample = pd.DataFrame(columns=df_final.columns)\n",
    "    if j >= 1:\n",
    "        print(f\"when: {j}, {j}\")\n",
    "        when_sample\n",
    "    else:\n",
    "        ws = df_final[(df_final[\"Wh\"]==\"when\") & (df_final[\"Modal\"] == \"no\")].sample(1)\n",
    "        when_sample = pd.concat([when_sample,ws])\n",
    "        print(f\"loop2 {len(when_sample)}, {j}\")\n",
    "        when_sample\n",
    "    df_final = df_final.drop(when_sample.index)\n",
    "\n",
    "    who_sample = df_final[\n",
    "        (df_final[\"Wh\"] == \"who\") &\n",
    "        (df_final[\"Modal\"] == \"no\")\n",
    "    ].sample(2-m)\n",
    "    print(f\"who: {len(who_sample)}, {m}\")\n",
    "    df_final = df_final.drop(who_sample.index)  \n",
    "\n",
    "#     who_sample = pd.DataFrame(columns=df_final.columns)\n",
    "#     if m >= 2:\n",
    "#         print(f\"who: {j}, {j}\")\n",
    "#         who_sample\n",
    "#     else:\n",
    "#         ws = df_final[(df_final[\"Wh\"]==\"who\") & (df_final[\"Modal\"] == \"no\")].sample(2)\n",
    "#         who_sample = pd.concat([who_sample,ws])\n",
    "#         print(f\"loop2 {len(who_sample)}, {j}\")\n",
    "#         who_sample\n",
    "#     df_final = df_final.drop(who_sample.index)\n",
    "    \n",
    "#     why_sample = pd.DataFrame(columns=df_final.columns)\n",
    "#     if j >= 1:\n",
    "#         print(f\"why: {j}, {j}\")\n",
    "#         why_sample\n",
    "#     else:\n",
    "#         ws = df_final[(df_final[\"Wh\"]==\"why\") & (df_final[\"Modal\"] == \"no\")].sample(1)\n",
    "#         why_sample = pd.concat([why_sample,ws])\n",
    "#         print(f\"loop2 {len(why_sample)}, {j}\")\n",
    "#         why_sample\n",
    "#     df_final = df_final.drop(why_sample.index)  \n",
    "    \n",
    "    why_sample = df_final[\n",
    "        (df_final[\"Wh\"] == \"why\") &\n",
    "        (df_final[\"Modal\"] == \"no\")\n",
    "    ].sample(2-i)\n",
    "    print(f\"why: {len(why_sample)}, {i}\")\n",
    "    df_final = df_final.drop(why_sample.index)\n",
    "    \n",
    "    where_sample = df_final[\n",
    "        (df_final[\"Wh\"] == \"where\") &\n",
    "        (df_final[\"Modal\"] == \"no\")\n",
    "    ].sample(5-o)\n",
    "    print(f\"where: {len(where_sample)}, {o}\")\n",
    "    df_final = df_final.drop(where_sample.index)\n",
    "\n",
    "    how_sample = df_final[\n",
    "        (df_final[\"Wh\"] == \"how\") &\n",
    "        (df_final[\"Modal\"] == \"no\")\n",
    "    ].sample(8-l)\n",
    "    print(f\"how: {len(how_sample)}, {l}\")\n",
    "    df_final = df_final.drop(how_sample.index)    \n",
    "    \n",
    "    what_sample = df_final[\n",
    "        (df_final[\"Wh\"] == \"what\") &\n",
    "        (df_final[\"Modal\"] == \"no\")\n",
    "    ].sample(12-k)\n",
    "    print(f\"what: {len(what_sample)}, {k}\")\n",
    "    df_final = df_final.drop(what_sample.index)\n",
    "    \n",
    "    total = pd.concat([mod_sample,why_sample,when_sample,what_sample,how_sample,who_sample,where_sample,controls])\n",
    "    print(f\"total #{n} = {len(total)}\")\n",
    "    # save to file\n",
    "    filename = f\"../../experiments/clean_corpus/04_experiment/corpus_{n}.txt\".format(n=n)\n",
    "    total.to_csv(filename,header=True,sep=\"\\t\",index=False)"
   ]
  },
  {
   "cell_type": "code",
   "execution_count": 356,
   "metadata": {},
   "outputs": [
    {
     "data": {
      "text/plain": [
       "443"
      ]
     },
     "execution_count": 356,
     "metadata": {},
     "output_type": "execute_result"
    }
   ],
   "source": [
    "1073 - 21*30"
   ]
  },
  {
   "cell_type": "code",
   "execution_count": 357,
   "metadata": {},
   "outputs": [
    {
     "data": {
      "text/plain": [
       "443"
      ]
     },
     "execution_count": 357,
     "metadata": {},
     "output_type": "execute_result"
    }
   ],
   "source": [
    "len(df_final)"
   ]
  },
  {
   "cell_type": "code",
   "execution_count": 348,
   "metadata": {},
   "outputs": [
    {
     "data": {
      "text/plain": [
       "Wh     ModalPresent\n",
       "how    no              105\n",
       "       yes              16\n",
       "what   no              167\n",
       "       yes              28\n",
       "when   no                3\n",
       "       yes               3\n",
       "where  no               44\n",
       "       yes              21\n",
       "who    no               15\n",
       "why    no               33\n",
       "       yes               8\n",
       "Name: Wh, dtype: int64"
      ]
     },
     "execution_count": 348,
     "metadata": {},
     "output_type": "execute_result"
    }
   ],
   "source": [
    "df_final.groupby([\"Wh\",\"ModalPresent\"])[\"Wh\"].count()"
   ]
  },
  {
   "cell_type": "code",
   "execution_count": 350,
   "metadata": {},
   "outputs": [
    {
     "data": {
      "text/plain": [
       "ModalPresent\n",
       "no     367\n",
       "yes     76\n",
       "Name: ModalPresent, dtype: int64"
      ]
     },
     "execution_count": 350,
     "metadata": {},
     "output_type": "execute_result"
    }
   ],
   "source": [
    "df_final.groupby([\"ModalPresent\"])[\"ModalPresent\"].count()"
   ]
  },
  {
   "cell_type": "code",
   "execution_count": 329,
   "metadata": {},
   "outputs": [
    {
     "data": {
      "text/plain": [
       "443"
      ]
     },
     "execution_count": 329,
     "metadata": {},
     "output_type": "execute_result"
    }
   ],
   "source": [
    "1073 - 30*21"
   ]
  },
  {
   "cell_type": "code",
   "execution_count": 328,
   "metadata": {},
   "outputs": [
    {
     "data": {
      "text/plain": [
       "443"
      ]
     },
     "execution_count": 328,
     "metadata": {},
     "output_type": "execute_result"
    }
   ],
   "source": [
    "len(df_final)"
   ]
  },
  {
   "cell_type": "markdown",
   "metadata": {},
   "source": [
    "## Second iteration"
   ]
  },
  {
   "cell_type": "markdown",
   "metadata": {},
   "source": [
    "Modal 22-36 =  4\n",
    "\n",
    "List 22-27 (30): <<<< 6\n",
    "    1 when ...6\n",
    "    1 who ....6\n",
    "    2 why  ...12\n",
    "    5 where ..30\n",
    "    8 how  ...48\n",
    "    13 what ...78"
   ]
  },
  {
   "cell_type": "code",
   "execution_count": 358,
   "metadata": {},
   "outputs": [],
   "source": [
    "for n in range(22,28):\n",
    "    mod_sample = df_final[df_final[\"Modal\"] == \"yes\"].sample(8)\n",
    "\n",
    "    i = len(mod_sample[mod_sample[\"Wh\"] == \"why\"])\n",
    "    j = len(mod_sample[mod_sample[\"Wh\"] == \"when\"])\n",
    "    k = len(mod_sample[mod_sample[\"Wh\"] == \"what\"])\n",
    "    l = len(mod_sample[mod_sample[\"Wh\"] == \"how\"])\n",
    "    m = len(mod_sample[mod_sample[\"Wh\"] == \"who\"])\n",
    "    o = len(mod_sample[mod_sample[\"Wh\"] == \"where\"])\n",
    "    df_final = df_final.drop(mod_sample.index)\n",
    "\n",
    "    when_sample = pd.DataFrame(columns=df_final.columns)\n",
    "    if j >= 1:\n",
    "        # make an empty dataframe\n",
    "        when_sample\n",
    "    else:\n",
    "        ws = df_final[(df_final[\"Wh\"]==\"when\")].sample(1)\n",
    "        when_sample = pd.concat([when_sample,ws])\n",
    "        when_sample\n",
    "    df_final = df_final.drop(when_sample.index)\n",
    "    \n",
    "    who_sample = df_final[\n",
    "        (df_final[\"Wh\"] == \"who\") &\n",
    "        (df_final[\"Modal\"] == \"no\")\n",
    "    ].sample(1-m)\n",
    "    df_final = df_final.drop(who_sample.index)    \n",
    "    \n",
    "    why_sample = df_final[\n",
    "        (df_final[\"Wh\"] == \"why\") &\n",
    "        (df_final[\"Modal\"] == \"no\")\n",
    "    ].sample(2-i)\n",
    "    df_final = df_final.drop(why_sample.index)\n",
    "    \n",
    "    where_sample = df_final[\n",
    "        (df_final[\"Wh\"] == \"where\") &\n",
    "        (df_final[\"Modal\"] == \"no\")\n",
    "    ].sample(5-o)\n",
    "    df_final = df_final.drop(where_sample.index)\n",
    "\n",
    "    how_sample = df_final[\n",
    "        (df_final[\"Wh\"] == \"how\") &\n",
    "        (df_final[\"Modal\"] == \"no\")\n",
    "    ].sample(8-l)\n",
    "    df_final = df_final.drop(how_sample.index)    \n",
    "    \n",
    "    what_sample = df_final[\n",
    "        (df_final[\"Wh\"] == \"what\") &\n",
    "        (df_final[\"Modal\"] == \"no\")\n",
    "    ].sample(13-k)\n",
    "    df_final = df_final.drop(what_sample.index)\n",
    "    \n",
    "    total = pd.concat([mod_sample,when_sample,why_sample,what_sample,how_sample,who_sample,where_sample,controls])\n",
    "\n",
    "    # save to file\n",
    "    filename = f\"../../experiments/clean_corpus/04_experiment/corpus_{n}.txt\".format(n=n)\n",
    "    total.to_csv(filename,header=True,sep=\"\\t\",index=False)"
   ]
  },
  {
   "cell_type": "code",
   "execution_count": 360,
   "metadata": {},
   "outputs": [
    {
     "data": {
      "text/plain": [
       "263"
      ]
     },
     "execution_count": 360,
     "metadata": {},
     "output_type": "execute_result"
    }
   ],
   "source": [
    "443 - 6*30"
   ]
  },
  {
   "cell_type": "code",
   "execution_count": 359,
   "metadata": {},
   "outputs": [
    {
     "data": {
      "text/plain": [
       "263"
      ]
     },
     "execution_count": 359,
     "metadata": {},
     "output_type": "execute_result"
    }
   ],
   "source": [
    "len(df_final)"
   ]
  },
  {
   "cell_type": "code",
   "execution_count": 361,
   "metadata": {},
   "outputs": [
    {
     "data": {
      "text/plain": [
       "ModalPresent\n",
       "no     227\n",
       "yes     36\n",
       "Name: ModalPresent, dtype: int64"
      ]
     },
     "execution_count": 361,
     "metadata": {},
     "output_type": "execute_result"
    }
   ],
   "source": [
    "df_final.groupby([\"ModalPresent\"])[\"ModalPresent\"].count()"
   ]
  },
  {
   "cell_type": "code",
   "execution_count": null,
   "metadata": {},
   "outputs": [],
   "source": []
  },
  {
   "cell_type": "code",
   "execution_count": 120,
   "metadata": {},
   "outputs": [
    {
     "data": {
      "text/plain": [
       "Wh\n",
       "how       73\n",
       "what     117\n",
       "where     35\n",
       "who        9\n",
       "why       29\n",
       "Name: Wh, dtype: int64"
      ]
     },
     "execution_count": 120,
     "metadata": {},
     "output_type": "execute_result"
    }
   ],
   "source": [
    "df_final.groupby([\"Wh\"])[\"Wh\"].count()"
   ]
  },
  {
   "cell_type": "markdown",
   "metadata": {},
   "source": [
    "## Third iteration"
   ]
  },
  {
   "cell_type": "markdown",
   "metadata": {},
   "source": [
    "List 28-30 (30): 3\n",
    "    0 when....\n",
    "    1 who ....3\n",
    "    3 why ....9\n",
    "    5 where....15\n",
    "    9 how......27\n",
    "    12 what ...36"
   ]
  },
  {
   "cell_type": "code",
   "execution_count": 362,
   "metadata": {},
   "outputs": [],
   "source": [
    "for n in range(28,31):\n",
    "    mod_sample = df_final[df_final[\"Modal\"] == \"yes\"].sample(8)\n",
    "\n",
    "    i = len(mod_sample[mod_sample[\"Wh\"] == \"why\"])\n",
    "    k = len(mod_sample[mod_sample[\"Wh\"] == \"what\"])\n",
    "    l = len(mod_sample[mod_sample[\"Wh\"] == \"how\"])\n",
    "    m = len(mod_sample[mod_sample[\"Wh\"] == \"who\"])\n",
    "    o = len(mod_sample[mod_sample[\"Wh\"] == \"where\"])\n",
    "    df_final = df_final.drop(mod_sample.index)\n",
    "\n",
    "    who_sample = df_final[\n",
    "        (df_final[\"Wh\"] == \"who\") &\n",
    "        (df_final[\"Modal\"] == \"no\")\n",
    "    ].sample(1-m)\n",
    "    df_final = df_final.drop(who_sample.index)    \n",
    "    \n",
    "    why_sample = df_final[\n",
    "        (df_final[\"Wh\"] == \"why\") &\n",
    "        (df_final[\"Modal\"] == \"no\")\n",
    "    ].sample(3-i)\n",
    "    df_final = df_final.drop(why_sample.index)\n",
    "    \n",
    "    where_sample = df_final[\n",
    "        (df_final[\"Wh\"] == \"where\") &\n",
    "        (df_final[\"Modal\"] == \"no\")\n",
    "    ].sample(5-o)\n",
    "    df_final = df_final.drop(where_sample.index)\n",
    "\n",
    "    how_sample = df_final[\n",
    "        (df_final[\"Wh\"] == \"how\") &\n",
    "        (df_final[\"Modal\"] == \"no\")\n",
    "    ].sample(9-l)\n",
    "    df_final = df_final.drop(how_sample.index)    \n",
    "    \n",
    "    what_sample = df_final[\n",
    "        (df_final[\"Wh\"] == \"what\") &\n",
    "        (df_final[\"Modal\"] == \"no\")\n",
    "    ].sample(12-k)\n",
    "    df_final = df_final.drop(what_sample.index)\n",
    "    \n",
    "    total = pd.concat([mod_sample,why_sample,what_sample,how_sample,who_sample,where_sample,controls])\n",
    "\n",
    "    # save to file\n",
    "    filename = f\"../../experiments/clean_corpus/04_experiment/corpus_{n}.txt\".format(n=n)\n",
    "    total.to_csv(filename,header=True,sep=\"\\t\",index=False)"
   ]
  },
  {
   "cell_type": "code",
   "execution_count": 363,
   "metadata": {},
   "outputs": [
    {
     "data": {
      "text/plain": [
       "173"
      ]
     },
     "execution_count": 363,
     "metadata": {},
     "output_type": "execute_result"
    }
   ],
   "source": [
    "len(df_final)"
   ]
  },
  {
   "cell_type": "code",
   "execution_count": 364,
   "metadata": {},
   "outputs": [
    {
     "data": {
      "text/plain": [
       "173"
      ]
     },
     "execution_count": 364,
     "metadata": {},
     "output_type": "execute_result"
    }
   ],
   "source": [
    "263 - 30*3"
   ]
  },
  {
   "cell_type": "code",
   "execution_count": 365,
   "metadata": {},
   "outputs": [
    {
     "data": {
      "text/plain": [
       "Wh     ModalPresent\n",
       "how    no              39\n",
       "       yes              7\n",
       "what   no              75\n",
       "       yes              6\n",
       "where  no              13\n",
       "       yes              7\n",
       "who    no               6\n",
       "why    no              17\n",
       "       yes              3\n",
       "Name: Wh, dtype: int64"
      ]
     },
     "execution_count": 365,
     "metadata": {},
     "output_type": "execute_result"
    }
   ],
   "source": [
    "df_final.groupby([\"Wh\",\"ModalPresent\"])[\"Wh\"].count()"
   ]
  },
  {
   "cell_type": "markdown",
   "metadata": {},
   "source": [
    "## Fourth Iteration\n",
    "\n",
    "List 31-32 (30): 2\n",
    "    0 when...0\n",
    "    1 who....2\n",
    "    3 why....6\n",
    "    4 where..8\n",
    "    9 how....18\n",
    "    13 what..26"
   ]
  },
  {
   "cell_type": "code",
   "execution_count": 366,
   "metadata": {},
   "outputs": [],
   "source": [
    "for n in range(31,33):\n",
    "    mod_sample = df_final[df_final[\"Modal\"] == \"yes\"].sample(8)\n",
    "\n",
    "    i = len(mod_sample[mod_sample[\"Wh\"] == \"why\"])\n",
    "    k = len(mod_sample[mod_sample[\"Wh\"] == \"what\"])\n",
    "    l = len(mod_sample[mod_sample[\"Wh\"] == \"how\"])\n",
    "    m = len(mod_sample[mod_sample[\"Wh\"] == \"who\"])\n",
    "    o = len(mod_sample[mod_sample[\"Wh\"] == \"where\"])\n",
    "    df_final = df_final.drop(mod_sample.index)\n",
    "\n",
    "    who_sample = df_final[\n",
    "        (df_final[\"Wh\"] == \"who\") &\n",
    "        (df_final[\"Modal\"] == \"no\")\n",
    "    ].sample(1-m)\n",
    "    df_final = df_final.drop(who_sample.index)    \n",
    "    \n",
    "    why_sample = df_final[\n",
    "        (df_final[\"Wh\"] == \"why\") &\n",
    "        (df_final[\"Modal\"] == \"no\")\n",
    "    ].sample(3-i)\n",
    "    df_final = df_final.drop(why_sample.index)\n",
    "    \n",
    "    where_sample = df_final[\n",
    "        (df_final[\"Wh\"] == \"where\") &\n",
    "        (df_final[\"Modal\"] == \"no\")\n",
    "    ].sample(4-o)\n",
    "    df_final = df_final.drop(where_sample.index)\n",
    "\n",
    "    how_sample = df_final[\n",
    "        (df_final[\"Wh\"] == \"how\") &\n",
    "        (df_final[\"Modal\"] == \"no\")\n",
    "    ].sample(9-l)\n",
    "    df_final = df_final.drop(how_sample.index)    \n",
    "    \n",
    "    what_sample = df_final[\n",
    "        (df_final[\"Wh\"] == \"what\") &\n",
    "        (df_final[\"Modal\"] == \"no\")\n",
    "    ].sample(13-k)\n",
    "    df_final = df_final.drop(what_sample.index)\n",
    "    \n",
    "    total = pd.concat([mod_sample,why_sample,what_sample,how_sample,who_sample,where_sample,controls])\n",
    "\n",
    "    # save to file\n",
    "    filename = f\"../../experiments/clean_corpus/03_experiment/corpus_{n}.txt\".format(n=n)\n",
    "    total.to_csv(filename,header=True,sep=\"\\t\",index=False)"
   ]
  },
  {
   "cell_type": "code",
   "execution_count": 367,
   "metadata": {},
   "outputs": [
    {
     "data": {
      "text/plain": [
       "113"
      ]
     },
     "execution_count": 367,
     "metadata": {},
     "output_type": "execute_result"
    }
   ],
   "source": [
    "len(df_final)"
   ]
  },
  {
   "cell_type": "code",
   "execution_count": 368,
   "metadata": {},
   "outputs": [
    {
     "data": {
      "text/plain": [
       "113"
      ]
     },
     "execution_count": 368,
     "metadata": {},
     "output_type": "execute_result"
    }
   ],
   "source": [
    "173 - 30*2"
   ]
  },
  {
   "cell_type": "code",
   "execution_count": 369,
   "metadata": {},
   "outputs": [
    {
     "data": {
      "text/plain": [
       "Wh\n",
       "how      28\n",
       "what     55\n",
       "where    12\n",
       "who       4\n",
       "why      14\n",
       "Name: Wh, dtype: int64"
      ]
     },
     "execution_count": 369,
     "metadata": {},
     "output_type": "execute_result"
    }
   ],
   "source": [
    "df_final.groupby([\"Wh\"])[\"Wh\"].count()"
   ]
  },
  {
   "cell_type": "code",
   "execution_count": null,
   "metadata": {},
   "outputs": [],
   "source": []
  },
  {
   "cell_type": "markdown",
   "metadata": {},
   "source": [
    "## Fifth Iteration\n",
    "\n",
    "List 33 (30): 1\n",
    "    0 when...0\n",
    "    1 who....1\n",
    "    3 why....3\n",
    "    5 where..5\n",
    "    7 how....7\n",
    "    14 what..14"
   ]
  },
  {
   "cell_type": "code",
   "execution_count": 370,
   "metadata": {},
   "outputs": [],
   "source": [
    "for n in range(33,34):\n",
    "    mod_sample = df_final[df_final[\"Modal\"] == \"yes\"].sample(8)\n",
    "\n",
    "    i = len(mod_sample[mod_sample[\"Wh\"] == \"why\"])\n",
    "    k = len(mod_sample[mod_sample[\"Wh\"] == \"what\"])\n",
    "    l = len(mod_sample[mod_sample[\"Wh\"] == \"how\"])\n",
    "    m = len(mod_sample[mod_sample[\"Wh\"] == \"who\"])\n",
    "    o = len(mod_sample[mod_sample[\"Wh\"] == \"where\"])\n",
    "    df_final = df_final.drop(mod_sample.index)\n",
    "\n",
    "    who_sample = df_final[\n",
    "        (df_final[\"Wh\"] == \"who\") &\n",
    "        (df_final[\"Modal\"] == \"no\")\n",
    "    ].sample(1-m)\n",
    "    df_final = df_final.drop(who_sample.index)    \n",
    "    \n",
    "    why_sample = df_final[\n",
    "        (df_final[\"Wh\"] == \"why\") &\n",
    "        (df_final[\"Modal\"] == \"no\")\n",
    "    ].sample(3-i)\n",
    "    df_final = df_final.drop(why_sample.index)\n",
    "    \n",
    "    where_sample = df_final[\n",
    "        (df_final[\"Wh\"] == \"where\") &\n",
    "        (df_final[\"Modal\"] == \"no\")\n",
    "    ].sample(5-o)\n",
    "    df_final = df_final.drop(where_sample.index)\n",
    "\n",
    "    how_sample = df_final[\n",
    "        (df_final[\"Wh\"] == \"how\") &\n",
    "        (df_final[\"Modal\"] == \"no\")\n",
    "    ].sample(7-l)\n",
    "    df_final = df_final.drop(how_sample.index)    \n",
    "    \n",
    "    what_sample = df_final[\n",
    "        (df_final[\"Wh\"] == \"what\") &\n",
    "        (df_final[\"Modal\"] == \"no\")\n",
    "    ].sample(14-k)\n",
    "    df_final = df_final.drop(what_sample.index)\n",
    "    \n",
    "    total = pd.concat([mod_sample,why_sample,what_sample,how_sample,who_sample,where_sample,controls])\n",
    "\n",
    "    # save to file\n",
    "    filename = f\"../../experiments/clean_corpus/04_experiment/corpus_{n}.txt\".format(n=n)\n",
    "    total.to_csv(filename,header=True,sep=\"\\t\",index=False)"
   ]
  },
  {
   "cell_type": "code",
   "execution_count": 371,
   "metadata": {},
   "outputs": [
    {
     "data": {
      "text/plain": [
       "83"
      ]
     },
     "execution_count": 371,
     "metadata": {},
     "output_type": "execute_result"
    }
   ],
   "source": [
    "len(df_final)"
   ]
  },
  {
   "cell_type": "code",
   "execution_count": 373,
   "metadata": {},
   "outputs": [
    {
     "data": {
      "text/plain": [
       "83"
      ]
     },
     "execution_count": 373,
     "metadata": {},
     "output_type": "execute_result"
    }
   ],
   "source": [
    "113 - 1*30"
   ]
  },
  {
   "cell_type": "markdown",
   "metadata": {},
   "source": [
    "## Sixth Iteration\n",
    "\n",
    "List 34-35 (30): 2\n",
    "    0 when....0\n",
    "    1 who.....2\n",
    "    3 why.....6\n",
    "    3 where...6\n",
    "    7 how.....14\n",
    "    16 what...32"
   ]
  },
  {
   "cell_type": "code",
   "execution_count": 374,
   "metadata": {},
   "outputs": [],
   "source": [
    "for n in range(34,36):\n",
    "    mod_sample = df_final[df_final[\"Modal\"] == \"yes\"].sample(8)\n",
    "\n",
    "    i = len(mod_sample[mod_sample[\"Wh\"] == \"why\"])\n",
    "    k = len(mod_sample[mod_sample[\"Wh\"] == \"what\"])\n",
    "    l = len(mod_sample[mod_sample[\"Wh\"] == \"how\"])\n",
    "    m = len(mod_sample[mod_sample[\"Wh\"] == \"who\"])\n",
    "    o = len(mod_sample[mod_sample[\"Wh\"] == \"where\"])\n",
    "    df_final = df_final.drop(mod_sample.index)\n",
    "\n",
    "    who_sample = df_final[\n",
    "        (df_final[\"Wh\"] == \"who\") &\n",
    "        (df_final[\"Modal\"] == \"no\")\n",
    "    ].sample(1-m)\n",
    "    df_final = df_final.drop(who_sample.index)    \n",
    "    \n",
    "    why_sample = df_final[\n",
    "        (df_final[\"Wh\"] == \"why\") &\n",
    "        (df_final[\"Modal\"] == \"no\")\n",
    "    ].sample(3-i)\n",
    "    df_final = df_final.drop(why_sample.index)\n",
    "    \n",
    "    \n",
    "#     where_sample = pd.DataFrame(columns=df_final.columns)\n",
    "#     if j >= 1:\n",
    "#         print(f\"when: {j}, {j}\")\n",
    "#         # make an empty dataframe\n",
    "#         WS2 = df_final[(df_final[\"Wh\"] == \"why\") & (df_final[\"Modal\"] == \"no\")].sample(3)\n",
    "#         where_sample = pd.concat([where_sample,WS2])\n",
    "#     else:\n",
    "#         where_sample = pd.concat([where_sample,df_final[df_final[\"Modal\"] == \"no\"].sample(3)])\n",
    "# #         print(f\"loop2 {len(when_sample)}, {j}\")\n",
    "#         where_sample\n",
    "#     df_final = df_final.drop(when_sample.index)\n",
    "    \n",
    "    where_sample = df_final[\n",
    "        (df_final[\"Wh\"] == \"where\") &\n",
    "        (df_final[\"Modal\"] == \"no\")\n",
    "    ].sample(3-o)\n",
    "    df_final = df_final.drop(where_sample.index)\n",
    "\n",
    "    how_sample = df_final[\n",
    "        (df_final[\"Wh\"] == \"how\") &\n",
    "        (df_final[\"Modal\"] == \"no\")\n",
    "    ].sample(7-l)\n",
    "    df_final = df_final.drop(how_sample.index)    \n",
    "    \n",
    "    what_sample = df_final[\n",
    "        (df_final[\"Wh\"] == \"what\") &\n",
    "        (df_final[\"Modal\"] == \"no\")\n",
    "    ].sample(16-k)\n",
    "    df_final = df_final.drop(what_sample.index)\n",
    "    \n",
    "    total = pd.concat([mod_sample,why_sample,what_sample,how_sample,who_sample,where_sample,controls])\n",
    "\n",
    "    # save to file\n",
    "    filename = f\"../../experiments/clean_corpus/04_experiment/corpus_{n}.txt\".format(n=n)\n",
    "    total.to_csv(filename,header=True,sep=\"\\t\",index=False)"
   ]
  },
  {
   "cell_type": "code",
   "execution_count": 375,
   "metadata": {},
   "outputs": [
    {
     "data": {
      "text/plain": [
       "23"
      ]
     },
     "execution_count": 375,
     "metadata": {},
     "output_type": "execute_result"
    }
   ],
   "source": [
    "len(df_final)"
   ]
  },
  {
   "cell_type": "code",
   "execution_count": 376,
   "metadata": {},
   "outputs": [
    {
     "data": {
      "text/plain": [
       "23"
      ]
     },
     "execution_count": 376,
     "metadata": {},
     "output_type": "execute_result"
    }
   ],
   "source": [
    "83 - 2*30"
   ]
  },
  {
   "cell_type": "markdown",
   "metadata": {},
   "source": [
    "## Final Set\n",
    "\n",
    "List 36 (23): <--target = 23\n",
    "    0 when\n",
    "    1 who\n",
    "    5 why\n",
    "    1 where\n",
    "    7 how\n",
    "    9 what"
   ]
  },
  {
   "cell_type": "code",
   "execution_count": 377,
   "metadata": {},
   "outputs": [],
   "source": [
    "last = pd.concat([df_final,controls])"
   ]
  },
  {
   "cell_type": "code",
   "execution_count": 378,
   "metadata": {},
   "outputs": [],
   "source": [
    "last.to_csv(\"../../experiments/clean_corpus/04_experiment/corpus_36.txt\",header=True,sep=\"\\t\",index=False)"
   ]
  },
  {
   "cell_type": "markdown",
   "metadata": {},
   "source": [
    "# Pilot Samples"
   ]
  },
  {
   "cell_type": "code",
   "execution_count": 40,
   "metadata": {},
   "outputs": [
    {
     "data": {
      "text/html": [
       "<div>\n",
       "<style scoped>\n",
       "    .dataframe tbody tr th:only-of-type {\n",
       "        vertical-align: middle;\n",
       "    }\n",
       "\n",
       "    .dataframe tbody tr th {\n",
       "        vertical-align: top;\n",
       "    }\n",
       "\n",
       "    .dataframe thead th {\n",
       "        text-align: right;\n",
       "    }\n",
       "</style>\n",
       "<table border=\"1\" class=\"dataframe\">\n",
       "  <thead>\n",
       "    <tr style=\"text-align: right;\">\n",
       "      <th></th>\n",
       "      <th>Wh</th>\n",
       "      <th>EntireSentence</th>\n",
       "    </tr>\n",
       "  </thead>\n",
       "  <tbody>\n",
       "    <tr>\n",
       "      <th>0</th>\n",
       "      <td>how</td>\n",
       "      <td>0.256433</td>\n",
       "    </tr>\n",
       "    <tr>\n",
       "      <th>1</th>\n",
       "      <td>what</td>\n",
       "      <td>0.411713</td>\n",
       "    </tr>\n",
       "    <tr>\n",
       "      <th>2</th>\n",
       "      <td>when</td>\n",
       "      <td>0.023957</td>\n",
       "    </tr>\n",
       "    <tr>\n",
       "      <th>3</th>\n",
       "      <td>where</td>\n",
       "      <td>0.150843</td>\n",
       "    </tr>\n",
       "    <tr>\n",
       "      <th>4</th>\n",
       "      <td>which</td>\n",
       "      <td>0.032831</td>\n",
       "    </tr>\n",
       "    <tr>\n",
       "      <th>5</th>\n",
       "      <td>who</td>\n",
       "      <td>0.050577</td>\n",
       "    </tr>\n",
       "    <tr>\n",
       "      <th>6</th>\n",
       "      <td>why</td>\n",
       "      <td>0.073647</td>\n",
       "    </tr>\n",
       "  </tbody>\n",
       "</table>\n",
       "</div>"
      ],
      "text/plain": [
       "      Wh  EntireSentence\n",
       "0    how        0.256433\n",
       "1   what        0.411713\n",
       "2   when        0.023957\n",
       "3  where        0.150843\n",
       "4  which        0.032831\n",
       "5    who        0.050577\n",
       "6    why        0.073647"
      ]
     },
     "execution_count": 40,
     "metadata": {},
     "output_type": "execute_result"
    }
   ],
   "source": [
    "df_final.pivot_table(index=['Wh'], values=\"EntireSentence\", aggfunc=len).groupby([\"Wh\"]).EntireSentence.transform(lambda x: x/len(df_final)).reset_index()"
   ]
  },
  {
   "cell_type": "code",
   "execution_count": 164,
   "metadata": {},
   "outputs": [],
   "source": [
    "eq_pilot = df_final.sample(10,random_state=666)"
   ]
  },
  {
   "cell_type": "code",
   "execution_count": 166,
   "metadata": {},
   "outputs": [],
   "source": [
    "eqp = pd.concat([eq_pilot,controls])"
   ]
  },
  {
   "cell_type": "code",
   "execution_count": 167,
   "metadata": {},
   "outputs": [],
   "source": [
    "eqp.to_csv(\"../../experiments/clean_corpus/04_experiment/pilot.txt\",header=True,sep=\"\\t\",index=False)"
   ]
  },
  {
   "cell_type": "code",
   "execution_count": 116,
   "metadata": {},
   "outputs": [
    {
     "data": {
      "text/plain": [
       "99.5"
      ]
     },
     "execution_count": 116,
     "metadata": {},
     "output_type": "execute_result"
    }
   ],
   "source": []
  },
  {
   "cell_type": "code",
   "execution_count": 125,
   "metadata": {},
   "outputs": [],
   "source": [
    "mod_sample = df_final[df_final[\"ModalPresent\"] == \"yes\"].sample(1)\n",
    "\n",
    "i = len(mod_sample[mod_sample[\"Wh\"] == \"why\"])\n",
    "j = len(mod_sample[mod_sample[\"Wh\"] == \"when\"])\n",
    "k = len(mod_sample[mod_sample[\"Wh\"] == \"what\"])\n",
    "l = len(mod_sample[mod_sample[\"Wh\"] == \"how\"])\n",
    "m = len(mod_sample[mod_sample[\"Wh\"] == \"who\"])\n",
    "n = len(mod_sample[mod_sample[\"Wh\"] == \"where\"])\n",
    "n = len(mod_sample[mod_sample[\"Wh\"] == \"which\"])\n",
    "df_final = df_final.drop(mod_sample.index)\n",
    "\n",
    "why_sample = df_final[\n",
    "    (df_final[\"Wh\"] == \"why\") &\n",
    "    (df_final[\"ModalPresent\"] == \"no\")\n",
    "                     ].sample(1-i)\n",
    "df_final = df_final.drop(why_sample.index)\n",
    "\n",
    "when_sample = df_final[\n",
    "    (df_final[\"Wh\"] == \"when\") &\n",
    "    (df_final[\"ModalPresent\"] == \"no\")].sample(1-j)\n",
    "df_final = df_final.drop(when_sample.index)\n",
    "\n",
    "what_sample = df_final[\n",
    "    (df_final[\"Wh\"] == \"what\") &\n",
    "    (df_final[\"ModalPresent\"] == \"no\")].sample(5-k)\n",
    "df_final = df_final.drop(what_sample.index)\n",
    "\n",
    "how_sample = df_final[\n",
    "    (df_final[\"Wh\"] == \"how\") &\n",
    "    (df_final[\"ModalPresent\"] == \"no\")\n",
    "                     ].sample(1-l)\n",
    "df_final = df_final.drop(how_sample.index)\n",
    "\n",
    "who_sample = df_final[\n",
    "    (df_final[\"Wh\"] == \"who\") &\n",
    "    (df_final[\"ModalPresent\"] == \"no\")].sample(1-m)\n",
    "df_final = df_final.drop(who_sample.index)\n",
    "\n",
    "where_sample = df_final[\n",
    "    (df_final[\"Wh\"] == \"where\") &\n",
    "    (df_final[\"ModalPresent\"] == \"no\")].sample(1-n)\n",
    "df_final = df_final.drop(where_sample.index)\n"
   ]
  },
  {
   "cell_type": "code",
   "execution_count": 128,
   "metadata": {},
   "outputs": [],
   "source": [
    "total = pd.concat([mod_sample,why_sample,when_sample,what_sample,how_sample,who_sample,where_sample,controls])\n",
    "\n",
    "# save to file\n"
   ]
  },
  {
   "cell_type": "code",
   "execution_count": null,
   "metadata": {},
   "outputs": [],
   "source": []
  },
  {
   "cell_type": "code",
   "execution_count": 129,
   "metadata": {},
   "outputs": [],
   "source": [
    "total.to_csv(\"../../experiments/clean_corpus/04_experiment/pilot.txt\",header=True,sep=\"\\t\",index=False)"
   ]
  },
  {
   "cell_type": "code",
   "execution_count": null,
   "metadata": {},
   "outputs": [],
   "source": []
  }
 ],
 "metadata": {
  "kernelspec": {
   "display_name": "Python 3",
   "language": "python",
   "name": "python3"
  },
  "language_info": {
   "codemirror_mode": {
    "name": "ipython",
    "version": 3
   },
   "file_extension": ".py",
   "mimetype": "text/x-python",
   "name": "python",
   "nbconvert_exporter": "python",
   "pygments_lexer": "ipython3",
   "version": "3.8.3"
  }
 },
 "nbformat": 4,
 "nbformat_minor": 4
}
