{
 "cells": [
  {
   "cell_type": "markdown",
   "metadata": {},
   "source": [
    "# sample generator for who, where, how\n",
    "This notebook is for creating the random sample .txt files for the experiment."
   ]
  },
  {
   "cell_type": "code",
   "execution_count": 1,
   "metadata": {},
   "outputs": [],
   "source": [
    "import pandas as pd\n",
    "import numpy as np"
   ]
  },
  {
   "cell_type": "markdown",
   "metadata": {},
   "source": [
    " ## Contents\n",
    " 1. [Create separate file with contexts](#Create-separate-file-with-contexts)\n",
    " 2. [Create separate file without contexts](#Create-separate-file-without-contexts)\n",
    " 3. [Creating the files for the experiment](#Creating-files-for-the-experiment)\n",
    " 4. [Automate Paraphrase Generator](#Automate-pharaphrase-generator)\n"
   ]
  },
  {
   "cell_type": "code",
   "execution_count": 2,
   "metadata": {},
   "outputs": [],
   "source": [
    "# import the database file from the TGrep2 searching\n",
    "df = pd.read_csv(\"../results/swbd.tab\", sep='\\t', engine='python')"
   ]
  },
  {
   "cell_type": "code",
   "execution_count": null,
   "metadata": {
    "scrolled": true
   },
   "outputs": [],
   "source": []
  },
  {
   "cell_type": "code",
   "execution_count": 3,
   "metadata": {},
   "outputs": [],
   "source": [
    "# This makes the display show more info\n",
    "pd.set_option('display.max_rows', None)\n",
    "pd.set_option('display.max_colwidth', None)"
   ]
  },
  {
   "cell_type": "markdown",
   "metadata": {},
   "source": [
    "# Creating the files for the experiment"
   ]
  },
  {
   "cell_type": "markdown",
   "metadata": {},
   "source": [
    "## Constrain dataset\n",
    "for experimental mock-up\n",
    "\n",
    "First we have to remove the questions that we don;t want to include:\n",
    "1. non-embedded or root questions\n",
    "2. no degree questions\n",
    "3. no identity questions\n",
    "4. generally only monomorphemic wh-phrases\n",
    "5. only who-, where-, and how-questions"
   ]
  },
  {
   "cell_type": "code",
   "execution_count": 7,
   "metadata": {},
   "outputs": [],
   "source": [
    "# distribution before "
   ]
  },
  {
   "cell_type": "code",
   "execution_count": 9,
   "metadata": {},
   "outputs": [
    {
     "data": {
      "text/plain": [
       "Index(['Item_ID', 'Sentence', 'HaveNeedTo', 'Finite', 'ModalPresent',\n",
       "       'QuestionType', 'DegreeQ', 'SubjectAuxInv', 'WhAll', 'MatrixNegPresent',\n",
       "       'EmbeddedNegPresent', 'QuantifiedSubject', 'QuantifiedPredicate', 'Wh',\n",
       "       'MatrixNegation', 'MatrixDoSupport', 'MatrixPred1', 'MatrixPred2',\n",
       "       'MatVerbPart', 'Modal', 'EmbeddedNegation', 'Verb1', 'Verb2', 'Verb3',\n",
       "       'DeterminerSubject', 'DeterminerNonSubject', 'FullWhPhrase',\n",
       "       'DeterminerSubjPresent', 'DeterminerNonSubjPresent', 'WhNode',\n",
       "       'WhParse', 'Question', 'SentenceParse', 'WhPhaseType', 'IdentityQ'],\n",
       "      dtype='object')"
      ]
     },
     "execution_count": 9,
     "metadata": {},
     "output_type": "execute_result"
    }
   ],
   "source": [
    "df.columns"
   ]
  },
  {
   "cell_type": "code",
   "execution_count": 11,
   "metadata": {},
   "outputs": [
    {
     "data": {
      "text/html": [
       "<div>\n",
       "<style scoped>\n",
       "    .dataframe tbody tr th:only-of-type {\n",
       "        vertical-align: middle;\n",
       "    }\n",
       "\n",
       "    .dataframe tbody tr th {\n",
       "        vertical-align: top;\n",
       "    }\n",
       "\n",
       "    .dataframe thead th {\n",
       "        text-align: right;\n",
       "    }\n",
       "</style>\n",
       "<table border=\"1\" class=\"dataframe\">\n",
       "  <thead>\n",
       "    <tr style=\"text-align: right;\">\n",
       "      <th></th>\n",
       "      <th>QuestionType</th>\n",
       "      <th>Question</th>\n",
       "    </tr>\n",
       "  </thead>\n",
       "  <tbody>\n",
       "    <tr>\n",
       "      <th>0</th>\n",
       "      <td>adjunct</td>\n",
       "      <td>0.075988</td>\n",
       "    </tr>\n",
       "    <tr>\n",
       "      <th>1</th>\n",
       "      <td>embadjunct</td>\n",
       "      <td>0.235415</td>\n",
       "    </tr>\n",
       "    <tr>\n",
       "      <th>2</th>\n",
       "      <td>embedded</td>\n",
       "      <td>0.295911</td>\n",
       "    </tr>\n",
       "    <tr>\n",
       "      <th>3</th>\n",
       "      <td>exclamation</td>\n",
       "      <td>0.003334</td>\n",
       "    </tr>\n",
       "    <tr>\n",
       "      <th>4</th>\n",
       "      <td>fragment</td>\n",
       "      <td>0.012354</td>\n",
       "    </tr>\n",
       "    <tr>\n",
       "      <th>5</th>\n",
       "      <td>relative</td>\n",
       "      <td>0.135111</td>\n",
       "    </tr>\n",
       "    <tr>\n",
       "      <th>6</th>\n",
       "      <td>root</td>\n",
       "      <td>0.168546</td>\n",
       "    </tr>\n",
       "    <tr>\n",
       "      <th>7</th>\n",
       "      <td>subject</td>\n",
       "      <td>0.073341</td>\n",
       "    </tr>\n",
       "  </tbody>\n",
       "</table>\n",
       "</div>"
      ],
      "text/plain": [
       "  QuestionType  Question\n",
       "0      adjunct  0.075988\n",
       "1   embadjunct  0.235415\n",
       "2     embedded  0.295911\n",
       "3  exclamation  0.003334\n",
       "4     fragment  0.012354\n",
       "5     relative  0.135111\n",
       "6         root  0.168546\n",
       "7      subject  0.073341"
      ]
     },
     "execution_count": 11,
     "metadata": {},
     "output_type": "execute_result"
    }
   ],
   "source": [
    "df.pivot_table(index=['QuestionType'], values=\"Question\", aggfunc=len).groupby([\"QuestionType\"]).Question.transform(lambda x: x/len(df)).reset_index()"
   ]
  },
  {
   "cell_type": "code",
   "execution_count": null,
   "metadata": {},
   "outputs": [],
   "source": [
    "df.pivot_table(index=['QuestionType'], values=\"Question\", aggfunc=len).groupby([\"QuestionType\"]).Question.transform(lambda x: x/len(df)).reset_index()"
   ]
  },
  {
   "cell_type": "code",
   "execution_count": 3,
   "metadata": {},
   "outputs": [],
   "source": [
    "critical = df[(df['QuestionType'] == 'root') # only root questions\n",
    "              & \n",
    "              (df['DegreeQ'] == 'no' ) # no degree questions\n",
    "              &\n",
    "              (df['IdentityQ'] == \"no\") # no identity questions\n",
    "              &\n",
    "              (df['Wh'].isin(['how','How','where','Where','who','Who'])) # just these wh-words\n",
    "              &\n",
    "              (df['WhPhaseType'] == 'monomorphemic') # monomorphic wh only (might get anything not go by degQ)\n",
    "             ]"
   ]
  },
  {
   "cell_type": "code",
   "execution_count": 12,
   "metadata": {},
   "outputs": [
    {
     "data": {
      "text/html": [
       "<div>\n",
       "<style scoped>\n",
       "    .dataframe tbody tr th:only-of-type {\n",
       "        vertical-align: middle;\n",
       "    }\n",
       "\n",
       "    .dataframe tbody tr th {\n",
       "        vertical-align: top;\n",
       "    }\n",
       "\n",
       "    .dataframe thead th {\n",
       "        text-align: right;\n",
       "    }\n",
       "</style>\n",
       "<table border=\"1\" class=\"dataframe\">\n",
       "  <thead>\n",
       "    <tr style=\"text-align: right;\">\n",
       "      <th></th>\n",
       "      <th>ModalPresent</th>\n",
       "      <th>Question</th>\n",
       "    </tr>\n",
       "  </thead>\n",
       "  <tbody>\n",
       "    <tr>\n",
       "      <th>0</th>\n",
       "      <td>no</td>\n",
       "      <td>0.880597</td>\n",
       "    </tr>\n",
       "    <tr>\n",
       "      <th>1</th>\n",
       "      <td>yes</td>\n",
       "      <td>0.119403</td>\n",
       "    </tr>\n",
       "  </tbody>\n",
       "</table>\n",
       "</div>"
      ],
      "text/plain": [
       "  ModalPresent  Question\n",
       "0           no  0.880597\n",
       "1          yes  0.119403"
      ]
     },
     "execution_count": 12,
     "metadata": {},
     "output_type": "execute_result"
    }
   ],
   "source": [
    "critical.pivot_table(index=['ModalPresent'], values=\"Question\", aggfunc=len).groupby([\"ModalPresent\"]).Question.transform(lambda x: x/len(critical)).reset_index()"
   ]
  },
  {
   "cell_type": "code",
   "execution_count": 14,
   "metadata": {},
   "outputs": [
    {
     "data": {
      "text/html": [
       "<div>\n",
       "<style scoped>\n",
       "    .dataframe tbody tr th:only-of-type {\n",
       "        vertical-align: middle;\n",
       "    }\n",
       "\n",
       "    .dataframe tbody tr th {\n",
       "        vertical-align: top;\n",
       "    }\n",
       "\n",
       "    .dataframe thead th {\n",
       "        text-align: right;\n",
       "    }\n",
       "</style>\n",
       "<table border=\"1\" class=\"dataframe\">\n",
       "  <thead>\n",
       "    <tr style=\"text-align: right;\">\n",
       "      <th></th>\n",
       "      <th>Wh</th>\n",
       "      <th>Question</th>\n",
       "    </tr>\n",
       "  </thead>\n",
       "  <tbody>\n",
       "    <tr>\n",
       "      <th>0</th>\n",
       "      <td>how</td>\n",
       "      <td>0.549254</td>\n",
       "    </tr>\n",
       "    <tr>\n",
       "      <th>1</th>\n",
       "      <td>where</td>\n",
       "      <td>0.289552</td>\n",
       "    </tr>\n",
       "    <tr>\n",
       "      <th>2</th>\n",
       "      <td>who</td>\n",
       "      <td>0.161194</td>\n",
       "    </tr>\n",
       "  </tbody>\n",
       "</table>\n",
       "</div>"
      ],
      "text/plain": [
       "      Wh  Question\n",
       "0    how  0.549254\n",
       "1  where  0.289552\n",
       "2    who  0.161194"
      ]
     },
     "execution_count": 14,
     "metadata": {},
     "output_type": "execute_result"
    }
   ],
   "source": [
    "critical.pivot_table(index=['Wh'], values=\"Question\", aggfunc=len).groupby([\"Wh\"]).Question.transform(lambda x: x/len(critical)).reset_index()"
   ]
  },
  {
   "cell_type": "code",
   "execution_count": 18,
   "metadata": {},
   "outputs": [
    {
     "data": {
      "text/html": [
       "<div>\n",
       "<style scoped>\n",
       "    .dataframe tbody tr th:only-of-type {\n",
       "        vertical-align: middle;\n",
       "    }\n",
       "\n",
       "    .dataframe tbody tr th {\n",
       "        vertical-align: top;\n",
       "    }\n",
       "\n",
       "    .dataframe thead th {\n",
       "        text-align: right;\n",
       "    }\n",
       "</style>\n",
       "<table border=\"1\" class=\"dataframe\">\n",
       "  <thead>\n",
       "    <tr style=\"text-align: right;\">\n",
       "      <th></th>\n",
       "      <th>Wh</th>\n",
       "      <th>ModalPresent</th>\n",
       "      <th>Question</th>\n",
       "    </tr>\n",
       "  </thead>\n",
       "  <tbody>\n",
       "    <tr>\n",
       "      <th>0</th>\n",
       "      <td>how</td>\n",
       "      <td>no</td>\n",
       "      <td>46.567164</td>\n",
       "    </tr>\n",
       "    <tr>\n",
       "      <th>1</th>\n",
       "      <td>how</td>\n",
       "      <td>yes</td>\n",
       "      <td>8.358209</td>\n",
       "    </tr>\n",
       "    <tr>\n",
       "      <th>2</th>\n",
       "      <td>where</td>\n",
       "      <td>no</td>\n",
       "      <td>27.761194</td>\n",
       "    </tr>\n",
       "    <tr>\n",
       "      <th>3</th>\n",
       "      <td>where</td>\n",
       "      <td>yes</td>\n",
       "      <td>1.194030</td>\n",
       "    </tr>\n",
       "    <tr>\n",
       "      <th>4</th>\n",
       "      <td>who</td>\n",
       "      <td>no</td>\n",
       "      <td>13.731343</td>\n",
       "    </tr>\n",
       "    <tr>\n",
       "      <th>5</th>\n",
       "      <td>who</td>\n",
       "      <td>yes</td>\n",
       "      <td>2.388060</td>\n",
       "    </tr>\n",
       "  </tbody>\n",
       "</table>\n",
       "</div>"
      ],
      "text/plain": [
       "      Wh ModalPresent   Question\n",
       "0    how           no  46.567164\n",
       "1    how          yes   8.358209\n",
       "2  where           no  27.761194\n",
       "3  where          yes   1.194030\n",
       "4    who           no  13.731343\n",
       "5    who          yes   2.388060"
      ]
     },
     "execution_count": 18,
     "metadata": {},
     "output_type": "execute_result"
    }
   ],
   "source": [
    "critical.pivot_table(index=['Wh','ModalPresent'], values=\"Question\", aggfunc=len).groupby([\"Wh\"]).Question.transform(lambda x: x/len(critical)*100).reset_index()"
   ]
  },
  {
   "cell_type": "markdown",
   "metadata": {},
   "source": [
    "should contain about 4 modal in each batch\n",
    "10 lists of 30\n",
    "1 list of 35\n",
    "\n",
    "balance so that there are 3 modals \n",
    "\n",
    "\n",
    "QUESTION PHRASING\n",
    "avoid using 'paraphrase'\n",
    "1. based on the question in red, which of the following does the speaker want to know?\n",
    "2. \"none of the above\"\n",
    "3. ellipsis before the \n",
    "4. practice examples that are fake from the literature clear MS/MA answers....\n",
    "4. get rid of trace\n",
    "\n",
    "should be a way to highlight just the question, and not the entire sentence\n",
    "\"how can you tell where it's going to come down at\"\n",
    "\n",
    "\n",
    "is there a way to reorder the elements of the question to create the paraphrase\n",
    "strip the \"do\" and insert \"that\"\n",
    "\n",
    "\n",
    "rhetorical questions: \"so my family may say that on occasion, who knows\"\n",
    "\n",
    "Piloting\n",
    "10 items that will be repiloted for each different testing \n",
    "\n",
    "vary between subjects the order of the paraphrases\n",
    "sample randomly at the beginning of the experiment what the order is\n",
    "but keep it consistent in the experiment and change between subjects\n",
    "\n",
    "\n",
    "By monday post on proliferate*\n",
    "\n",
    "\n",
    "\n",
    "look at the lab wifi for pre-registration on OSF\n",
    "\n",
    "get R going...."
   ]
  },
  {
   "cell_type": "code",
   "execution_count": null,
   "metadata": {},
   "outputs": [],
   "source": []
  },
  {
   "cell_type": "markdown",
   "metadata": {},
   "source": [
    "## Paraphrase Generator\n",
    "this should take as input the entire constrained dataframe from the above section, and then generate the paraphrases\n",
    "\n",
    "For Who questions: Who is a person...? / Who is some person...? / \"Who is every person...\" / \"Who is the person...\""
   ]
  },
  {
   "cell_type": "code",
   "execution_count": 4,
   "metadata": {},
   "outputs": [],
   "source": [
    "# read in df with contexts\n",
    "cntxts = pd.read_csv(\"swbd_contexts.csv\")"
   ]
  },
  {
   "cell_type": "code",
   "execution_count": 5,
   "metadata": {},
   "outputs": [],
   "source": [
    "cntxts = cntxts.drop(columns=\"FollowingContext\")"
   ]
  },
  {
   "cell_type": "code",
   "execution_count": 6,
   "metadata": {},
   "outputs": [],
   "source": [
    "# get the indixes from critical\n",
    "crit_index = critical.Item_ID"
   ]
  },
  {
   "cell_type": "code",
   "execution_count": null,
   "metadata": {},
   "outputs": [],
   "source": []
  },
  {
   "cell_type": "markdown",
   "metadata": {},
   "source": [
    "Merge back in Wh and ModalPresent colums"
   ]
  },
  {
   "cell_type": "code",
   "execution_count": 7,
   "metadata": {},
   "outputs": [],
   "source": [
    "df_WhMod = critical[[\"Item_ID\",\"Wh\",\"ModalPresent\"]].rename(columns={\"Item_ID\": \"TGrepID\"})"
   ]
  },
  {
   "cell_type": "code",
   "execution_count": 8,
   "metadata": {},
   "outputs": [],
   "source": [
    "# subset to the items that are just the ones filtered in the previos section\n",
    "\n",
    "# otherwise, if using the database file with contexts directly in there, then this step\n",
    "# is not necessary\n",
    "df_valid = cntxts[cntxts[\"TGrepID\"].isin(set(crit_index))]"
   ]
  },
  {
   "cell_type": "code",
   "execution_count": 10,
   "metadata": {},
   "outputs": [
    {
     "data": {
      "text/plain": [
       "335"
      ]
     },
     "execution_count": 10,
     "metadata": {},
     "output_type": "execute_result"
    }
   ],
   "source": [
    "len(df_valid)"
   ]
  },
  {
   "cell_type": "code",
   "execution_count": null,
   "metadata": {},
   "outputs": [],
   "source": []
  },
  {
   "cell_type": "code",
   "execution_count": 9,
   "metadata": {},
   "outputs": [],
   "source": [
    "df_valid = df_valid.merge(df_WhMod, how = 'inner', indicator=False)"
   ]
  },
  {
   "cell_type": "code",
   "execution_count": 11,
   "metadata": {},
   "outputs": [
    {
     "data": {
      "text/plain": [
       "335"
      ]
     },
     "execution_count": 11,
     "metadata": {},
     "output_type": "execute_result"
    }
   ],
   "source": [
    "len(df_valid)"
   ]
  },
  {
   "cell_type": "code",
   "execution_count": null,
   "metadata": {},
   "outputs": [],
   "source": []
  },
  {
   "cell_type": "code",
   "execution_count": 268,
   "metadata": {},
   "outputs": [
    {
     "data": {
      "text/html": [
       "<div>\n",
       "<style scoped>\n",
       "    .dataframe tbody tr th:only-of-type {\n",
       "        vertical-align: middle;\n",
       "    }\n",
       "\n",
       "    .dataframe tbody tr th {\n",
       "        vertical-align: top;\n",
       "    }\n",
       "\n",
       "    .dataframe thead th {\n",
       "        text-align: right;\n",
       "    }\n",
       "</style>\n",
       "<table border=\"1\" class=\"dataframe\">\n",
       "  <thead>\n",
       "    <tr style=\"text-align: right;\">\n",
       "      <th></th>\n",
       "      <th>Wh</th>\n",
       "      <th>EntireSentence</th>\n",
       "    </tr>\n",
       "  </thead>\n",
       "  <tbody>\n",
       "    <tr>\n",
       "      <th>0</th>\n",
       "      <td>how</td>\n",
       "      <td>0.549254</td>\n",
       "    </tr>\n",
       "    <tr>\n",
       "      <th>1</th>\n",
       "      <td>where</td>\n",
       "      <td>0.289552</td>\n",
       "    </tr>\n",
       "    <tr>\n",
       "      <th>2</th>\n",
       "      <td>who</td>\n",
       "      <td>0.161194</td>\n",
       "    </tr>\n",
       "  </tbody>\n",
       "</table>\n",
       "</div>"
      ],
      "text/plain": [
       "      Wh  EntireSentence\n",
       "0    how        0.549254\n",
       "1  where        0.289552\n",
       "2    who        0.161194"
      ]
     },
     "execution_count": 268,
     "metadata": {},
     "output_type": "execute_result"
    }
   ],
   "source": [
    "df_valid.pivot_table(index=['Wh'], values=\"EntireSentence\", aggfunc=len).groupby([\"Wh\"]).EntireSentence.transform(lambda x: x/len(df_valid)).reset_index()"
   ]
  },
  {
   "cell_type": "code",
   "execution_count": 10,
   "metadata": {},
   "outputs": [],
   "source": [
    "who = df_valid[df_valid[\"Wh\"] == \"who\"]\n",
    "where = df_valid[df_valid[\"Wh\"] == \"where\"]\n",
    "how = df_valid[df_valid[\"Wh\"] == \"how\"]"
   ]
  },
  {
   "cell_type": "code",
   "execution_count": 11,
   "metadata": {
    "scrolled": true
   },
   "outputs": [
    {
     "name": "stderr",
     "output_type": "stream",
     "text": [
      "<ipython-input-11-db43c0f19116>:1: SettingWithCopyWarning: \n",
      "A value is trying to be set on a copy of a slice from a DataFrame.\n",
      "Try using .loc[row_indexer,col_indexer] = value instead\n",
      "\n",
      "See the caveats in the documentation: https://pandas.pydata.org/pandas-docs/stable/user_guide/indexing.html#returning-a-view-versus-a-copy\n",
      "  who[\"AResponse\"] = \"Who is a person...?\"\n",
      "<ipython-input-11-db43c0f19116>:3: SettingWithCopyWarning: \n",
      "A value is trying to be set on a copy of a slice from a DataFrame.\n",
      "Try using .loc[row_indexer,col_indexer] = value instead\n",
      "\n",
      "See the caveats in the documentation: https://pandas.pydata.org/pandas-docs/stable/user_guide/indexing.html#returning-a-view-versus-a-copy\n",
      "  who[\"AllResponse\"] = \"Who is every person...?\"\n",
      "<ipython-input-11-db43c0f19116>:4: SettingWithCopyWarning: \n",
      "A value is trying to be set on a copy of a slice from a DataFrame.\n",
      "Try using .loc[row_indexer,col_indexer] = value instead\n",
      "\n",
      "See the caveats in the documentation: https://pandas.pydata.org/pandas-docs/stable/user_guide/indexing.html#returning-a-view-versus-a-copy\n",
      "  who[\"TheResponse\"] = \"Who is the person...?\"\n",
      "<ipython-input-11-db43c0f19116>:7: SettingWithCopyWarning: \n",
      "A value is trying to be set on a copy of a slice from a DataFrame.\n",
      "Try using .loc[row_indexer,col_indexer] = value instead\n",
      "\n",
      "See the caveats in the documentation: https://pandas.pydata.org/pandas-docs/stable/user_guide/indexing.html#returning-a-view-versus-a-copy\n",
      "  where[\"AResponse\"] = \"What is a place...?\"\n",
      "<ipython-input-11-db43c0f19116>:9: SettingWithCopyWarning: \n",
      "A value is trying to be set on a copy of a slice from a DataFrame.\n",
      "Try using .loc[row_indexer,col_indexer] = value instead\n",
      "\n",
      "See the caveats in the documentation: https://pandas.pydata.org/pandas-docs/stable/user_guide/indexing.html#returning-a-view-versus-a-copy\n",
      "  where[\"AllResponse\"] = \"What is every place...?\"\n",
      "<ipython-input-11-db43c0f19116>:10: SettingWithCopyWarning: \n",
      "A value is trying to be set on a copy of a slice from a DataFrame.\n",
      "Try using .loc[row_indexer,col_indexer] = value instead\n",
      "\n",
      "See the caveats in the documentation: https://pandas.pydata.org/pandas-docs/stable/user_guide/indexing.html#returning-a-view-versus-a-copy\n",
      "  where[\"TheResponse\"] = \"What is the place...?\"\n",
      "<ipython-input-11-db43c0f19116>:13: SettingWithCopyWarning: \n",
      "A value is trying to be set on a copy of a slice from a DataFrame.\n",
      "Try using .loc[row_indexer,col_indexer] = value instead\n",
      "\n",
      "See the caveats in the documentation: https://pandas.pydata.org/pandas-docs/stable/user_guide/indexing.html#returning-a-view-versus-a-copy\n",
      "  how[\"AResponse\"] = \"What is a way...?\"\n",
      "<ipython-input-11-db43c0f19116>:15: SettingWithCopyWarning: \n",
      "A value is trying to be set on a copy of a slice from a DataFrame.\n",
      "Try using .loc[row_indexer,col_indexer] = value instead\n",
      "\n",
      "See the caveats in the documentation: https://pandas.pydata.org/pandas-docs/stable/user_guide/indexing.html#returning-a-view-versus-a-copy\n",
      "  how[\"AllResponse\"] = \"What is every way...?\"\n",
      "<ipython-input-11-db43c0f19116>:16: SettingWithCopyWarning: \n",
      "A value is trying to be set on a copy of a slice from a DataFrame.\n",
      "Try using .loc[row_indexer,col_indexer] = value instead\n",
      "\n",
      "See the caveats in the documentation: https://pandas.pydata.org/pandas-docs/stable/user_guide/indexing.html#returning-a-view-versus-a-copy\n",
      "  how[\"TheResponse\"] = \"What is the way...?\"\n"
     ]
    }
   ],
   "source": [
    "who[\"AResponse\"] = \"Who is a person...?\"\n",
    "# who[\"SomeResponse\"] = \"Who is some person...?\"\n",
    "who[\"AllResponse\"] = \"Who is every person...?\"\n",
    "who[\"TheResponse\"] = \"Who is the person...?\"\n",
    "\n",
    "\n",
    "where[\"AResponse\"] = \"What is a place...?\"\n",
    "# where[\"SomeResponse\"] = \"What is some place...?\"\n",
    "where[\"AllResponse\"] = \"What is every place...?\"\n",
    "where[\"TheResponse\"] = \"What is the place...?\"\n",
    "\n",
    "\n",
    "how[\"AResponse\"] = \"What is a way...?\"\n",
    "# how[\"SomeResponse\"] = \"What is some way...?\"\n",
    "how[\"AllResponse\"] = \"What is every way...?\"\n",
    "how[\"TheResponse\"] = \"What is the way...?\""
   ]
  },
  {
   "cell_type": "code",
   "execution_count": 12,
   "metadata": {},
   "outputs": [],
   "source": [
    "df_final = pd.concat([who,where,how])"
   ]
  },
  {
   "cell_type": "code",
   "execution_count": 15,
   "metadata": {},
   "outputs": [
    {
     "data": {
      "text/plain": [
       "335"
      ]
     },
     "execution_count": 15,
     "metadata": {},
     "output_type": "execute_result"
    }
   ],
   "source": [
    "len(df_final)"
   ]
  },
  {
   "cell_type": "code",
   "execution_count": 16,
   "metadata": {},
   "outputs": [
    {
     "data": {
      "text/html": [
       "<div>\n",
       "<style scoped>\n",
       "    .dataframe tbody tr th:only-of-type {\n",
       "        vertical-align: middle;\n",
       "    }\n",
       "\n",
       "    .dataframe tbody tr th {\n",
       "        vertical-align: top;\n",
       "    }\n",
       "\n",
       "    .dataframe thead th {\n",
       "        text-align: right;\n",
       "    }\n",
       "</style>\n",
       "<table border=\"1\" class=\"dataframe\">\n",
       "  <thead>\n",
       "    <tr style=\"text-align: right;\">\n",
       "      <th></th>\n",
       "      <th>Wh</th>\n",
       "      <th>EntireSentence</th>\n",
       "    </tr>\n",
       "  </thead>\n",
       "  <tbody>\n",
       "    <tr>\n",
       "      <th>0</th>\n",
       "      <td>how</td>\n",
       "      <td>0.549254</td>\n",
       "    </tr>\n",
       "    <tr>\n",
       "      <th>1</th>\n",
       "      <td>where</td>\n",
       "      <td>0.289552</td>\n",
       "    </tr>\n",
       "    <tr>\n",
       "      <th>2</th>\n",
       "      <td>who</td>\n",
       "      <td>0.161194</td>\n",
       "    </tr>\n",
       "  </tbody>\n",
       "</table>\n",
       "</div>"
      ],
      "text/plain": [
       "      Wh  EntireSentence\n",
       "0    how        0.549254\n",
       "1  where        0.289552\n",
       "2    who        0.161194"
      ]
     },
     "execution_count": 16,
     "metadata": {},
     "output_type": "execute_result"
    }
   ],
   "source": [
    "df_final.pivot_table(index=['Wh'], values=\"EntireSentence\", aggfunc=len).groupby([\"Wh\"]).EntireSentence.transform(lambda x: x/len(df_final)).reset_index()"
   ]
  },
  {
   "cell_type": "code",
   "execution_count": 17,
   "metadata": {},
   "outputs": [
    {
     "data": {
      "text/html": [
       "<div>\n",
       "<style scoped>\n",
       "    .dataframe tbody tr th:only-of-type {\n",
       "        vertical-align: middle;\n",
       "    }\n",
       "\n",
       "    .dataframe tbody tr th {\n",
       "        vertical-align: top;\n",
       "    }\n",
       "\n",
       "    .dataframe thead th {\n",
       "        text-align: right;\n",
       "    }\n",
       "</style>\n",
       "<table border=\"1\" class=\"dataframe\">\n",
       "  <thead>\n",
       "    <tr style=\"text-align: right;\">\n",
       "      <th></th>\n",
       "      <th>ModalPresent</th>\n",
       "      <th>EntireSentence</th>\n",
       "    </tr>\n",
       "  </thead>\n",
       "  <tbody>\n",
       "    <tr>\n",
       "      <th>0</th>\n",
       "      <td>no</td>\n",
       "      <td>0.880597</td>\n",
       "    </tr>\n",
       "    <tr>\n",
       "      <th>1</th>\n",
       "      <td>yes</td>\n",
       "      <td>0.119403</td>\n",
       "    </tr>\n",
       "  </tbody>\n",
       "</table>\n",
       "</div>"
      ],
      "text/plain": [
       "  ModalPresent  EntireSentence\n",
       "0           no        0.880597\n",
       "1          yes        0.119403"
      ]
     },
     "execution_count": 17,
     "metadata": {},
     "output_type": "execute_result"
    }
   ],
   "source": [
    "df_final.pivot_table(index=['ModalPresent'], values=\"EntireSentence\", aggfunc=len).groupby([\"ModalPresent\"]).EntireSentence.transform(lambda x: x/len(df_final)).reset_index()"
   ]
  },
  {
   "cell_type": "markdown",
   "metadata": {},
   "source": [
    "There should be a way to automate that whole thing in one definitieion, but im failing to do that correctly"
   ]
  },
  {
   "cell_type": "code",
   "execution_count": null,
   "metadata": {},
   "outputs": [],
   "source": []
  },
  {
   "cell_type": "markdown",
   "metadata": {},
   "source": [
    "## Create randomly sampled files"
   ]
  },
  {
   "cell_type": "markdown",
   "metadata": {},
   "source": [
    "### TEST SAMPLE"
   ]
  },
  {
   "cell_type": "markdown",
   "metadata": {},
   "source": [
    "deseridata:\n",
    "15 how , 10 where, 5 who\n",
    "\n",
    "This is possible to maintain in lists 1-9, but lists 10-11 have slightly different distributions.\n",
    "\n",
    "should contain about 3 modal in each batch, lists 10-11 have 6/7 respectively\n",
    "\n",
    "10 lists of 30\n",
    "1 list of 35\n",
    "\n",
    "\n",
    "\n"
   ]
  },
  {
   "cell_type": "code",
   "execution_count": 16,
   "metadata": {},
   "outputs": [],
   "source": [
    "controls = pd.read_csv(\"../../experiments/clean_corpus/controls.csv\")"
   ]
  },
  {
   "cell_type": "code",
   "execution_count": 17,
   "metadata": {},
   "outputs": [],
   "source": [
    "controls[\"Wh\"] = \"none\"\n",
    "controls[\"ModalPresent\"] = \"no\""
   ]
  },
  {
   "cell_type": "code",
   "execution_count": null,
   "metadata": {},
   "outputs": [],
   "source": []
  },
  {
   "cell_type": "code",
   "execution_count": 18,
   "metadata": {},
   "outputs": [],
   "source": [
    "controls = controls[[\"TGrepID\",\"EntireSentence\",\"PreceedingContext\",\"Wh\",\"ModalPresent\",\"AResponse\",\"AllResponse\",\"TheResponse\"]]"
   ]
  },
  {
   "cell_type": "code",
   "execution_count": 19,
   "metadata": {},
   "outputs": [
    {
     "data": {
      "text/html": [
       "<div>\n",
       "<style scoped>\n",
       "    .dataframe tbody tr th:only-of-type {\n",
       "        vertical-align: middle;\n",
       "    }\n",
       "\n",
       "    .dataframe tbody tr th {\n",
       "        vertical-align: top;\n",
       "    }\n",
       "\n",
       "    .dataframe thead th {\n",
       "        text-align: right;\n",
       "    }\n",
       "</style>\n",
       "<table border=\"1\" class=\"dataframe\">\n",
       "  <thead>\n",
       "    <tr style=\"text-align: right;\">\n",
       "      <th></th>\n",
       "      <th>TGrepID</th>\n",
       "      <th>EntireSentence</th>\n",
       "      <th>PreceedingContext</th>\n",
       "      <th>Wh</th>\n",
       "      <th>ModalPresent</th>\n",
       "      <th>AResponse</th>\n",
       "      <th>AllResponse</th>\n",
       "      <th>TheResponse</th>\n",
       "    </tr>\n",
       "  </thead>\n",
       "  <tbody>\n",
       "    <tr>\n",
       "      <th>0</th>\n",
       "      <td>control_a_tissue</td>\n",
       "      <td>Do you want a tissue?</td>\n",
       "      <td>speakera. Your nose is running. speakerb. Oh y...</td>\n",
       "      <td>none</td>\n",
       "      <td>no</td>\n",
       "      <td>A tissue…?</td>\n",
       "      <td>Every tissue…?</td>\n",
       "      <td>The tissue…?</td>\n",
       "    </tr>\n",
       "    <tr>\n",
       "      <th>1</th>\n",
       "      <td>control_a_napkin</td>\n",
       "      <td>Can I hand you a napkin?</td>\n",
       "      <td>speakera. Oh no! I just spilled my spaghetti d...</td>\n",
       "      <td>none</td>\n",
       "      <td>no</td>\n",
       "      <td>A napkin…?</td>\n",
       "      <td>Every napkin…?</td>\n",
       "      <td>The napkin...?</td>\n",
       "    </tr>\n",
       "    <tr>\n",
       "      <th>2</th>\n",
       "      <td>control_the_book</td>\n",
       "      <td>Did you return the book you borrowed?</td>\n",
       "      <td>speakera. Hey. speakerb. Hey what's up? speake...</td>\n",
       "      <td>none</td>\n",
       "      <td>no</td>\n",
       "      <td>A book...?</td>\n",
       "      <td>Every book…?</td>\n",
       "      <td>The book...?</td>\n",
       "    </tr>\n",
       "    <tr>\n",
       "      <th>3</th>\n",
       "      <td>control_the_movie</td>\n",
       "      <td>Can you text me the movie schedule?</td>\n",
       "      <td>speakera. What are you doing tonight? speakerb...</td>\n",
       "      <td>none</td>\n",
       "      <td>no</td>\n",
       "      <td>A movie schedule...?</td>\n",
       "      <td>Every movie schedule…?</td>\n",
       "      <td>The movie schedule...?</td>\n",
       "    </tr>\n",
       "    <tr>\n",
       "      <th>4</th>\n",
       "      <td>control_all_cookies</td>\n",
       "      <td>Did you grab all the cookies?</td>\n",
       "      <td>speakera. It's time to leave for the potluck.T...</td>\n",
       "      <td>none</td>\n",
       "      <td>no</td>\n",
       "      <td>A cookie...?</td>\n",
       "      <td>Every cookie…?</td>\n",
       "      <td>The cookie...?</td>\n",
       "    </tr>\n",
       "    <tr>\n",
       "      <th>5</th>\n",
       "      <td>control_all_novels</td>\n",
       "      <td>Have you read all her novels?</td>\n",
       "      <td>speakera. I love Octavia Butler she's the best...</td>\n",
       "      <td>none</td>\n",
       "      <td>no</td>\n",
       "      <td>An novel...?</td>\n",
       "      <td>Every novel…?</td>\n",
       "      <td>The novel...?</td>\n",
       "    </tr>\n",
       "  </tbody>\n",
       "</table>\n",
       "</div>"
      ],
      "text/plain": [
       "               TGrepID                         EntireSentence  \\\n",
       "0     control_a_tissue                  Do you want a tissue?   \n",
       "1     control_a_napkin               Can I hand you a napkin?   \n",
       "2     control_the_book  Did you return the book you borrowed?   \n",
       "3    control_the_movie    Can you text me the movie schedule?   \n",
       "4  control_all_cookies          Did you grab all the cookies?   \n",
       "5   control_all_novels          Have you read all her novels?   \n",
       "\n",
       "                                   PreceedingContext    Wh ModalPresent  \\\n",
       "0  speakera. Your nose is running. speakerb. Oh y...  none           no   \n",
       "1  speakera. Oh no! I just spilled my spaghetti d...  none           no   \n",
       "2  speakera. Hey. speakerb. Hey what's up? speake...  none           no   \n",
       "3  speakera. What are you doing tonight? speakerb...  none           no   \n",
       "4  speakera. It's time to leave for the potluck.T...  none           no   \n",
       "5  speakera. I love Octavia Butler she's the best...  none           no   \n",
       "\n",
       "              AResponse             AllResponse             TheResponse  \n",
       "0            A tissue…?          Every tissue…?            The tissue…?  \n",
       "1            A napkin…?          Every napkin…?          The napkin...?  \n",
       "2            A book...?            Every book…?            The book...?  \n",
       "3  A movie schedule...?  Every movie schedule…?  The movie schedule...?  \n",
       "4          A cookie...?          Every cookie…?          The cookie...?  \n",
       "5          An novel...?           Every novel…?           The novel...?  "
      ]
     },
     "execution_count": 19,
     "metadata": {},
     "output_type": "execute_result"
    }
   ],
   "source": [
    "controls"
   ]
  },
  {
   "cell_type": "code",
   "execution_count": null,
   "metadata": {},
   "outputs": [],
   "source": []
  },
  {
   "cell_type": "code",
   "execution_count": null,
   "metadata": {},
   "outputs": [],
   "source": []
  },
  {
   "cell_type": "code",
   "execution_count": null,
   "metadata": {},
   "outputs": [],
   "source": []
  },
  {
   "cell_type": "code",
   "execution_count": 22,
   "metadata": {},
   "outputs": [
    {
     "data": {
      "text/plain": [
       "ModalPresent\n",
       "no     295\n",
       "yes     40\n",
       "Name: ModalPresent, dtype: int64"
      ]
     },
     "execution_count": 22,
     "metadata": {},
     "output_type": "execute_result"
    }
   ],
   "source": [
    "df_final.groupby([\"ModalPresent\"])[\"ModalPresent\"].count()"
   ]
  },
  {
   "cell_type": "code",
   "execution_count": 23,
   "metadata": {},
   "outputs": [
    {
     "data": {
      "text/plain": [
       "7"
      ]
     },
     "execution_count": 23,
     "metadata": {},
     "output_type": "execute_result"
    }
   ],
   "source": [
    "40 - 11*3"
   ]
  },
  {
   "cell_type": "code",
   "execution_count": 24,
   "metadata": {},
   "outputs": [
    {
     "data": {
      "text/plain": [
       "Wh\n",
       "how      184\n",
       "where     97\n",
       "who       54\n",
       "Name: Wh, dtype: int64"
      ]
     },
     "execution_count": 24,
     "metadata": {},
     "output_type": "execute_result"
    }
   ],
   "source": [
    "df_final.groupby([\"Wh\"])[\"Wh\"].count()"
   ]
  },
  {
   "cell_type": "code",
   "execution_count": 465,
   "metadata": {},
   "outputs": [
    {
     "data": {
      "text/plain": [
       "5.4"
      ]
     },
     "execution_count": 465,
     "metadata": {},
     "output_type": "execute_result"
    }
   ],
   "source": [
    "54/10"
   ]
  },
  {
   "cell_type": "code",
   "execution_count": 15,
   "metadata": {},
   "outputs": [],
   "source": [
    "df_final = pd.concat([who,where,how])"
   ]
  },
  {
   "cell_type": "code",
   "execution_count": 491,
   "metadata": {},
   "outputs": [
    {
     "name": "stdout",
     "output_type": "stream",
     "text": [
      "ModalPresent\n",
      "no     295\n",
      "yes     40\n",
      "Name: ModalPresent, dtype: int64\n"
     ]
    }
   ],
   "source": [
    "print(df_final.groupby([\"ModalPresent\"])[\"ModalPresent\"].count())"
   ]
  },
  {
   "cell_type": "code",
   "execution_count": null,
   "metadata": {},
   "outputs": [],
   "source": [
    "# print(df_final.groupby([\"ModalPresent\"])[\"ModalPresent\"].count())"
   ]
  },
  {
   "cell_type": "code",
   "execution_count": 19,
   "metadata": {},
   "outputs": [
    {
     "data": {
      "text/plain": [
       "335"
      ]
     },
     "execution_count": 19,
     "metadata": {},
     "output_type": "execute_result"
    }
   ],
   "source": [
    "len(test)"
   ]
  },
  {
   "cell_type": "code",
   "execution_count": 14,
   "metadata": {},
   "outputs": [
    {
     "data": {
      "text/plain": [
       "305"
      ]
     },
     "execution_count": 14,
     "metadata": {},
     "output_type": "execute_result"
    }
   ],
   "source": [
    "len(df_final)"
   ]
  },
  {
   "cell_type": "code",
   "execution_count": 20,
   "metadata": {},
   "outputs": [],
   "source": [
    "# ids = pd.DataFrame(columns=df_final.columns)\n",
    "for n in range(1,10):\n",
    "#     print(df_final.groupby([\"ModalPresent\"])[\"ModalPresent\"].count())\n",
    "    mod_sample = df_final[df_final[\"ModalPresent\"] == \"yes\"].sample(3)\n",
    "\n",
    "    i = len(mod_sample[mod_sample[\"Wh\"] == \"how\"])\n",
    "    j = len(mod_sample[mod_sample[\"Wh\"] == \"who\"])\n",
    "    k = len(mod_sample[mod_sample[\"Wh\"] == \"where\"])\n",
    "    df_final = df_final.drop(mod_sample.index)\n",
    "\n",
    "    how_sample = df_final[\n",
    "        (df_final[\"Wh\"] == \"how\") &\n",
    "        (df_final[\"ModalPresent\"] == \"no\")\n",
    "                         ].sample(15-i)\n",
    "    df_final = df_final.drop(how_sample.index)\n",
    "\n",
    "    who_sample = df_final[\n",
    "        (df_final[\"Wh\"] == \"who\") &\n",
    "        (df_final[\"ModalPresent\"] == \"no\")].sample(5-j)\n",
    "    df_final = df_final.drop(who_sample.index)\n",
    "\n",
    "    where_sample = df_final[\n",
    "        (df_final[\"Wh\"] == \"where\") &\n",
    "        (df_final[\"ModalPresent\"] == \"no\")].sample(10-k)\n",
    "    df_final = df_final.drop(where_sample.index)\n",
    "\n",
    "    total = pd.concat([mod_sample,how_sample,who_sample,where_sample,controls])\n",
    "    \n",
    "    # save to file\n",
    "    filename = f\"../../experiments/clean_corpus/corpus_{n}.txt\".format(n=n)\n",
    "    total.to_csv(filename,header=True,sep=\"\\t\",index=False)"
   ]
  },
  {
   "cell_type": "code",
   "execution_count": 26,
   "metadata": {},
   "outputs": [
    {
     "data": {
      "text/plain": [
       "65"
      ]
     },
     "execution_count": 26,
     "metadata": {},
     "output_type": "execute_result"
    }
   ],
   "source": [
    "len(df_final)"
   ]
  },
  {
   "cell_type": "code",
   "execution_count": 27,
   "metadata": {},
   "outputs": [
    {
     "data": {
      "text/plain": [
       "Wh\n",
       "how      49\n",
       "where     7\n",
       "who       9\n",
       "Name: Wh, dtype: int64"
      ]
     },
     "execution_count": 27,
     "metadata": {},
     "output_type": "execute_result"
    }
   ],
   "source": [
    "df_final.groupby([\"Wh\"])[\"Wh\"].count()"
   ]
  },
  {
   "cell_type": "markdown",
   "metadata": {},
   "source": [
    "who\n",
    "9/2 = 4.5\n",
    "\n",
    "who\n",
    "9/2 = 3.5\n",
    "\n",
    "how\n",
    "49/2 = 24.5"
   ]
  },
  {
   "cell_type": "code",
   "execution_count": 533,
   "metadata": {},
   "outputs": [
    {
     "data": {
      "text/plain": [
       "ModalPresent\n",
       "no     52\n",
       "yes    13\n",
       "Name: ModalPresent, dtype: int64"
      ]
     },
     "execution_count": 533,
     "metadata": {},
     "output_type": "execute_result"
    }
   ],
   "source": [
    "df_final.groupby([\"ModalPresent\"])[\"ModalPresent\"].count()"
   ]
  },
  {
   "cell_type": "code",
   "execution_count": 506,
   "metadata": {},
   "outputs": [
    {
     "data": {
      "text/plain": [
       "6.5"
      ]
     },
     "execution_count": 506,
     "metadata": {},
     "output_type": "execute_result"
    }
   ],
   "source": [
    "13/2"
   ]
  },
  {
   "cell_type": "markdown",
   "metadata": {},
   "source": [
    "Second iteration"
   ]
  },
  {
   "cell_type": "code",
   "execution_count": 28,
   "metadata": {},
   "outputs": [
    {
     "name": "stdout",
     "output_type": "stream",
     "text": [
      "39\n",
      "37\n",
      "36\n"
     ]
    }
   ],
   "source": [
    "for n in range(10,11):\n",
    "    mod_sample = df_final[df_final[\"ModalPresent\"] == \"yes\"].sample(6)\n",
    "#     print(len(mod_sample))\n",
    "    i = len(mod_sample[mod_sample[\"Wh\"] == \"how\"])\n",
    "    j = len(mod_sample[mod_sample[\"Wh\"] == \"who\"])\n",
    "    k = len(mod_sample[mod_sample[\"Wh\"] == \"where\"])\n",
    "    df_final = df_final.drop(mod_sample.index)\n",
    "#     print(len(df_final))\n",
    "\n",
    "    how_sample = df_final[\n",
    "        (df_final[\"Wh\"] == \"how\") &\n",
    "        (df_final[\"ModalPresent\"] == \"no\")\n",
    "                         ].sample(23-i)\n",
    "    df_final = df_final.drop(how_sample.index)\n",
    "    print(len(df_final))\n",
    "\n",
    "    who_sample = df_final[\n",
    "        (df_final[\"Wh\"] == \"who\") &\n",
    "        (df_final[\"ModalPresent\"] == \"no\")].sample(4-j)\n",
    "    df_final = df_final.drop(who_sample.index)\n",
    "    print(len(df_final))\n",
    "\n",
    "    where_sample = df_final[\n",
    "        (df_final[\"Wh\"] == \"where\") &\n",
    "        (df_final[\"ModalPresent\"] == \"no\")].sample(3-k)\n",
    "    df_final = df_final.drop(where_sample.index)\n",
    "\n",
    "    total = pd.concat([mod_sample,how_sample,who_sample,where_sample,controls])\n",
    "    print(len(total))\n",
    "#     save to file\n",
    "    filename = f\"../../experiments/clean_corpus/corpus_{n}.txt\".format(n=n)\n",
    "    total.to_csv(filename,header=True,sep=\"\\t\",index=False)"
   ]
  },
  {
   "cell_type": "code",
   "execution_count": 29,
   "metadata": {},
   "outputs": [
    {
     "data": {
      "text/plain": [
       "30"
      ]
     },
     "execution_count": 29,
     "metadata": {},
     "output_type": "execute_result"
    }
   ],
   "source": [
    "23+4+3"
   ]
  },
  {
   "cell_type": "code",
   "execution_count": 30,
   "metadata": {},
   "outputs": [
    {
     "data": {
      "text/plain": [
       "35"
      ]
     },
     "execution_count": 30,
     "metadata": {},
     "output_type": "execute_result"
    }
   ],
   "source": [
    "len(df_final)"
   ]
  },
  {
   "cell_type": "code",
   "execution_count": 31,
   "metadata": {},
   "outputs": [
    {
     "data": {
      "text/plain": [
       "ModalPresent\n",
       "no     28\n",
       "yes     7\n",
       "Name: ModalPresent, dtype: int64"
      ]
     },
     "execution_count": 31,
     "metadata": {},
     "output_type": "execute_result"
    }
   ],
   "source": [
    "df_final.groupby([\"ModalPresent\"])[\"ModalPresent\"].count()"
   ]
  },
  {
   "cell_type": "code",
   "execution_count": 32,
   "metadata": {},
   "outputs": [
    {
     "data": {
      "text/plain": [
       "Wh\n",
       "how      26\n",
       "where     4\n",
       "who       5\n",
       "Name: Wh, dtype: int64"
      ]
     },
     "execution_count": 32,
     "metadata": {},
     "output_type": "execute_result"
    }
   ],
   "source": [
    "df_final.groupby([\"Wh\"])[\"Wh\"].count()"
   ]
  },
  {
   "cell_type": "code",
   "execution_count": 33,
   "metadata": {},
   "outputs": [],
   "source": [
    "last = pd.concat([df_final,controls])"
   ]
  },
  {
   "cell_type": "code",
   "execution_count": 34,
   "metadata": {},
   "outputs": [],
   "source": [
    "last.to_csv(\"../../experiments/clean_corpus/corpus_11.txt\",header=True,sep=\"\\t\",index=False)"
   ]
  },
  {
   "cell_type": "markdown",
   "metadata": {},
   "source": [
    "## Pilot Samples"
   ]
  },
  {
   "cell_type": "markdown",
   "metadata": {},
   "source": [
    "### Pilot Ex 01"
   ]
  },
  {
   "cell_type": "code",
   "execution_count": 98,
   "metadata": {},
   "outputs": [],
   "source": [
    "# since df_final changed, it's a different sample set now.\n",
    "pilot = df_final.sample(10, random_state=333)"
   ]
  },
  {
   "cell_type": "code",
   "execution_count": null,
   "metadata": {},
   "outputs": [],
   "source": []
  },
  {
   "cell_type": "code",
   "execution_count": 22,
   "metadata": {},
   "outputs": [],
   "source": [
    "# pilot.to_csv(\"../../experiments/clean_corpus/pilot1.txt\",header=True,sep=\"\\t\",index=False)"
   ]
  },
  {
   "cell_type": "markdown",
   "metadata": {},
   "source": [
    "### Pilot Ex 02\n",
    "This design uses sliders rather than radio buttons, and is not a forced choice.\n",
    "\n",
    "Stimuli are the same as Pilot Ex01, but with rhetorical questions replaced."
   ]
  },
  {
   "cell_type": "code",
   "execution_count": 23,
   "metadata": {},
   "outputs": [
    {
     "data": {
      "text/plain": [
       "3582                                                    how are your kids handling it *t*-1?\n",
       "3511                                                                        who *t*-1 knows.\n",
       "2178                           well how do you think 0 the royals are going *-1 to do *t*-2?\n",
       "5928    but, uh, who *t*-1 knows what the future will hold *t*-2. uh, as far as energy goes,\n",
       "5859                                      how do you usually find a, a new restaurant *t*-1?\n",
       "2931                                                           uh, who's the last one *t*-1.\n",
       "7463                          oh, g-, where *ich*-3 have i gone *t*-1 that *t*-2's anywhere.\n",
       "2328        you know, how can you help *-1 depending on the day care center *t*-2, you know,\n",
       "6779                                                  uh, how do you feel about taxes *t*-1?\n",
       "3938                                                                  where do you go *t*-1?\n",
       "Name: EntireSentence, dtype: object"
      ]
     },
     "execution_count": 23,
     "metadata": {},
     "output_type": "execute_result"
    }
   ],
   "source": [
    "# rhetorical questions to remove\n",
    "# 5928, 2328\n",
    "pilot.EntireSentence"
   ]
  },
  {
   "cell_type": "code",
   "execution_count": 24,
   "metadata": {},
   "outputs": [],
   "source": [
    "sample2 = df_final.sample(2, random_state=33)"
   ]
  },
  {
   "cell_type": "code",
   "execution_count": 25,
   "metadata": {},
   "outputs": [
    {
     "data": {
      "text/plain": [
       "5347    ###that's all mexico, i think 0 *t*-1.###speakerb57.###yes,###uh-huh.### and, but it was wonderful.###so we really like those.###and, uh, i guess 0 we just like *-1 to go someplace, someplace entirely different.###we've been to a few places in this country.###we still have a lot 0 *-1 to see *t*-2, though.###speakera58.\n",
       "7270                                                                                                              ###i mean, pretty much it's a white shirt and slacks and shoes and a coat.###speakerb12.###uh-huh.###speakera13.###speakerb14.###uh-huh.###speakera15.###speakerb16.###speakera17.###but, it was very different before.\n",
       "Name: PreceedingContext, dtype: object"
      ]
     },
     "execution_count": 25,
     "metadata": {},
     "output_type": "execute_result"
    }
   ],
   "source": [
    "sample2.PreceedingContext"
   ]
  },
  {
   "cell_type": "code",
   "execution_count": 26,
   "metadata": {},
   "outputs": [
    {
     "data": {
      "text/plain": [
       "5347    where are you from *t*-1 originally?\n",
       "7270                 how do you dress *t*-1?\n",
       "Name: EntireSentence, dtype: object"
      ]
     },
     "execution_count": 26,
     "metadata": {},
     "output_type": "execute_result"
    }
   ],
   "source": [
    "sample2.EntireSentence"
   ]
  },
  {
   "cell_type": "code",
   "execution_count": 27,
   "metadata": {},
   "outputs": [],
   "source": [
    "pilot = pilot.drop([5928,2328], axis=0)"
   ]
  },
  {
   "cell_type": "code",
   "execution_count": 32,
   "metadata": {},
   "outputs": [],
   "source": [
    "pilot2 = pd.concat([pilot, sample2])"
   ]
  },
  {
   "cell_type": "code",
   "execution_count": 36,
   "metadata": {},
   "outputs": [],
   "source": [
    "# remove the someresponse column\n",
    "pilot2 = pilot2.drop(columns=\"SomeResponse\")"
   ]
  },
  {
   "cell_type": "code",
   "execution_count": 37,
   "metadata": {},
   "outputs": [
    {
     "data": {
      "text/html": [
       "<div>\n",
       "<style scoped>\n",
       "    .dataframe tbody tr th:only-of-type {\n",
       "        vertical-align: middle;\n",
       "    }\n",
       "\n",
       "    .dataframe tbody tr th {\n",
       "        vertical-align: top;\n",
       "    }\n",
       "\n",
       "    .dataframe thead th {\n",
       "        text-align: right;\n",
       "    }\n",
       "</style>\n",
       "<table border=\"1\" class=\"dataframe\">\n",
       "  <thead>\n",
       "    <tr style=\"text-align: right;\">\n",
       "      <th></th>\n",
       "      <th>TGrepID</th>\n",
       "      <th>EntireSentence</th>\n",
       "      <th>PreceedingContext</th>\n",
       "      <th>AResponse</th>\n",
       "      <th>AllResponse</th>\n",
       "      <th>TheResponse</th>\n",
       "    </tr>\n",
       "  </thead>\n",
       "  <tbody>\n",
       "    <tr>\n",
       "      <th>3582</th>\n",
       "      <td>61578:4</td>\n",
       "      <td>how are your kids handling it *t*-1?</td>\n",
       "      <td>###speakera161.###no,### i, i know,###i mean he's always, you know, he really does have a good home.###i think 0 that's what *t*-1 really bothers me the most about it.###speakerb162.###yeah.###speakera163.###you know, it's like,###speakerb164.</td>\n",
       "      <td>What is a way...?</td>\n",
       "      <td>What is every way...?</td>\n",
       "      <td>What is the way...?</td>\n",
       "    </tr>\n",
       "  </tbody>\n",
       "</table>\n",
       "</div>"
      ],
      "text/plain": [
       "      TGrepID                        EntireSentence  \\\n",
       "3582  61578:4  how are your kids handling it *t*-1?   \n",
       "\n",
       "                                                                                                                                                                                                                                        PreceedingContext  \\\n",
       "3582  ###speakera161.###no,### i, i know,###i mean he's always, you know, he really does have a good home.###i think 0 that's what *t*-1 really bothers me the most about it.###speakerb162.###yeah.###speakera163.###you know, it's like,###speakerb164.   \n",
       "\n",
       "              AResponse            AllResponse          TheResponse  \n",
       "3582  What is a way...?  What is every way...?  What is the way...?  "
      ]
     },
     "execution_count": 37,
     "metadata": {},
     "output_type": "execute_result"
    }
   ],
   "source": [
    "pilot2.head(1)"
   ]
  },
  {
   "cell_type": "code",
   "execution_count": 38,
   "metadata": {},
   "outputs": [],
   "source": [
    "pilot2.to_csv(\"../../experiments/clean_corpus/pilot2.txt\",header=True,sep=\"\\t\",index=False)"
   ]
  },
  {
   "cell_type": "markdown",
   "metadata": {},
   "source": [
    "## Pilot 03\n",
    "\n",
    "first pilot set with controls"
   ]
  },
  {
   "cell_type": "code",
   "execution_count": 35,
   "metadata": {},
   "outputs": [],
   "source": [
    "pilot1 = pd.read_csv(\"../../experiments/clean_corpus/pilot1.txt\", sep=\"\\t\", engine='python')"
   ]
  },
  {
   "cell_type": "code",
   "execution_count": 36,
   "metadata": {},
   "outputs": [],
   "source": [
    "pilot1 = pilot1.drop(columns=[\"SomeResponse\"])"
   ]
  },
  {
   "cell_type": "code",
   "execution_count": 37,
   "metadata": {},
   "outputs": [],
   "source": [
    "cont = controls.drop(columns=[\"Wh\",\"ModalPresent\"])"
   ]
  },
  {
   "cell_type": "code",
   "execution_count": null,
   "metadata": {},
   "outputs": [],
   "source": []
  },
  {
   "cell_type": "code",
   "execution_count": 39,
   "metadata": {},
   "outputs": [],
   "source": [
    "pilot3 = pd.concat([pilot1,cont])"
   ]
  },
  {
   "cell_type": "code",
   "execution_count": 40,
   "metadata": {},
   "outputs": [],
   "source": [
    "pilot3.to_csv(\"../../experiments/clean_corpus/pilot3.txt\",header=True,sep=\"\\t\",index=False)"
   ]
  },
  {
   "cell_type": "code",
   "execution_count": 41,
   "metadata": {},
   "outputs": [
    {
     "data": {
      "text/html": [
       "<div>\n",
       "<style scoped>\n",
       "    .dataframe tbody tr th:only-of-type {\n",
       "        vertical-align: middle;\n",
       "    }\n",
       "\n",
       "    .dataframe tbody tr th {\n",
       "        vertical-align: top;\n",
       "    }\n",
       "\n",
       "    .dataframe thead th {\n",
       "        text-align: right;\n",
       "    }\n",
       "</style>\n",
       "<table border=\"1\" class=\"dataframe\">\n",
       "  <thead>\n",
       "    <tr style=\"text-align: right;\">\n",
       "      <th></th>\n",
       "      <th>TGrepID</th>\n",
       "      <th>EntireSentence</th>\n",
       "      <th>PreceedingContext</th>\n",
       "      <th>AResponse</th>\n",
       "      <th>AllResponse</th>\n",
       "      <th>TheResponse</th>\n",
       "    </tr>\n",
       "  </thead>\n",
       "  <tbody>\n",
       "    <tr>\n",
       "      <th>0</th>\n",
       "      <td>61578:4</td>\n",
       "      <td>how are your kids handling it *t*-1?</td>\n",
       "      <td>###speakera161.###no,### i, i know,###i mean he's always, you know, he really does have a good home.###i think 0 that's what *t*-1 really bothers me the most about it.###speakerb162.###yeah.###speakera163.###you know, it's like,###speakerb164.</td>\n",
       "      <td>What is a way...?</td>\n",
       "      <td>What is every way...?</td>\n",
       "      <td>What is the way...?</td>\n",
       "    </tr>\n",
       "    <tr>\n",
       "      <th>1</th>\n",
       "      <td>60430:4</td>\n",
       "      <td>who *t*-1 knows.</td>\n",
       "      <td>### and, and i'm getting rather good at *-1 reading want ads.###speakerb14.###uh-huh.###speakera15.###yeah,### it, it,###speakerb16.### wh-, what kind of time frame is it, uh, looking *t*-1 for the, uh, different shifts up there?###speakera17.###i,</td>\n",
       "      <td>Who is a person...?</td>\n",
       "      <td>Who is every person...?</td>\n",
       "      <td>Who is the person...?</td>\n",
       "    </tr>\n",
       "    <tr>\n",
       "      <th>2</th>\n",
       "      <td>37508:7</td>\n",
       "      <td>well how do you think 0 the royals are going *-1 to do *t*-2?</td>\n",
       "      <td>###they said the, that um, that he was horrible at, uh, at *-1 batting with, with men on base.###now * having somebody get up and hit a solo home run does you, you know, gives you run, obviously.###speakerb34.###yes.###speakera35.###but i mean if you can't do it with men on base, there's something definitely wrong, um, you know,### you, you've got *-1 to be able *-2 to get the two and three run home runs, you know, *-2 to, to be able *-3 to, uh, score enough runs * to be able *-4 to win in these, uh, in this day and age,###so.###speakerb36.###yeah,</td>\n",
       "      <td>What is a way...?</td>\n",
       "      <td>What is every way...?</td>\n",
       "      <td>What is the way...?</td>\n",
       "    </tr>\n",
       "    <tr>\n",
       "      <th>3</th>\n",
       "      <td>103191:13</td>\n",
       "      <td>but, uh, who *t*-1 knows what the future will hold *t*-2. uh, as far as energy goes,</td>\n",
       "      <td>###speakera61.###yes.###speakerb62.###it's just 0 we can't control it.###right now it *exp*-1 takes more energy *ich*-2 * to cause fusion to occur then you get *?* out,###so, it isn't *?*,###not at all,###and you can't control it unless you gotten a huge electromagnetic field,###so that's not going *-1 to work.###at least not now.</td>\n",
       "      <td>Who is a person...?</td>\n",
       "      <td>Who is every person...?</td>\n",
       "      <td>Who is the person...?</td>\n",
       "    </tr>\n",
       "    <tr>\n",
       "      <th>4</th>\n",
       "      <td>102105:4</td>\n",
       "      <td>how do you usually find a, a new restaurant *t*-1?</td>\n",
       "      <td>###no,###i don't think so.###speakerb52.###but, we really, we really do enjoy *-1 going out### and uh, and, um, i'm pretty adventurous in cooking, too, which *t*-1 also occasionally backfires.###speakera53.###oh, well. even though traditional it can backfire.###speakerb54.###yeah.###i think 0 we're supposed *-1 to say what *t*-2 will bring us back to a restaurant or, or what *t*-3 attracts us to a restaurant.</td>\n",
       "      <td>What is a way...?</td>\n",
       "      <td>What is every way...?</td>\n",
       "      <td>What is the way...?</td>\n",
       "    </tr>\n",
       "    <tr>\n",
       "      <th>5</th>\n",
       "      <td>51293:9</td>\n",
       "      <td>uh, who's the last one *t*-1.</td>\n",
       "      <td>###right.###speakera46.###speakerb47.###well, * picking up darrell strawberry didn't hurt.###speakera48.###no,###but butler didn't hurt either.###uh, and bobby ojeda didn't hurt###and,###speakerb49.</td>\n",
       "      <td>Who is a person...?</td>\n",
       "      <td>Who is every person...?</td>\n",
       "      <td>Who is the person...?</td>\n",
       "    </tr>\n",
       "    <tr>\n",
       "      <th>6</th>\n",
       "      <td>130644:22</td>\n",
       "      <td>oh, g-, where *ich*-3 have i gone *t*-1 that *t*-2's anywhere.</td>\n",
       "      <td>###speakerb70.###okay.###speakera71.###speakerb72.###well, uh, well,###speakera73.###i'm wanting *-1 to go there.###speakerb74.###where have you gone *t*-1 first?###speakera75.</td>\n",
       "      <td>What is a place...?</td>\n",
       "      <td>What is every place...?</td>\n",
       "      <td>What is the place...?</td>\n",
       "    </tr>\n",
       "    <tr>\n",
       "      <th>7</th>\n",
       "      <td>40349:14</td>\n",
       "      <td>you know, how can you help *-1 depending on the day care center *t*-2, you know,</td>\n",
       "      <td>###they can watch,###and i just kind of always felt that the chances of something happening were less.###speakera35.###yeah,###yeah.###speakerb36.###speakera37.###uh-huh.###because there's,###speakerb38.</td>\n",
       "      <td>What is a way...?</td>\n",
       "      <td>What is every way...?</td>\n",
       "      <td>What is the way...?</td>\n",
       "    </tr>\n",
       "    <tr>\n",
       "      <th>8</th>\n",
       "      <td>118088:9</td>\n",
       "      <td>uh, how do you feel about taxes *t*-1?</td>\n",
       "      <td>###speakera3.###oh, right###indianapolis got that, didn't they?###speakerb4.###right.###and, uh, we had passed a, a provisional one that if, if it did, if they did locate here we would raise our taxes *t*-1.###but, uh, at least we thought 0 we'd get something back from that.###speakera5.###yeah.###speakerb6.</td>\n",
       "      <td>What is a way...?</td>\n",
       "      <td>What is every way...?</td>\n",
       "      <td>What is the way...?</td>\n",
       "    </tr>\n",
       "    <tr>\n",
       "      <th>9</th>\n",
       "      <td>68569:4</td>\n",
       "      <td>where do you go *t*-1?</td>\n",
       "      <td>###and we go to florida###speakera21.###uh.###speakerb22.###and down, oh,###we were just out *ich*-1 recently at the outer banks of north carolina.###speakera23.###all these places that i've never been *t*-1.###speakerb24.###is that right.</td>\n",
       "      <td>What is a place...?</td>\n",
       "      <td>What is every place...?</td>\n",
       "      <td>What is the place...?</td>\n",
       "    </tr>\n",
       "    <tr>\n",
       "      <th>0</th>\n",
       "      <td>control_a_tissue</td>\n",
       "      <td>Do you want a tissue?</td>\n",
       "      <td>speakera. Your nose is running. speakerb. Oh yeah I didn't notice. speakera.</td>\n",
       "      <td>A tissue…?</td>\n",
       "      <td>Every tissue…?</td>\n",
       "      <td>The tissue…?</td>\n",
       "    </tr>\n",
       "    <tr>\n",
       "      <th>1</th>\n",
       "      <td>control_a_napkin</td>\n",
       "      <td>Can I hand you a napkin?</td>\n",
       "      <td>speakera. Oh no! I just spilled my spaghetti down my shirt. speakerb. Oh no.</td>\n",
       "      <td>A napkin…?</td>\n",
       "      <td>Every napkin…?</td>\n",
       "      <td>The napkin...?</td>\n",
       "    </tr>\n",
       "    <tr>\n",
       "      <th>2</th>\n",
       "      <td>control_the_book</td>\n",
       "      <td>Did you return the book you borrowed?</td>\n",
       "      <td>speakera. Hey. speakerb. Hey what's up? speakera. I noticed a late fee from the library.</td>\n",
       "      <td>A book...?</td>\n",
       "      <td>Every book…?</td>\n",
       "      <td>The book...?</td>\n",
       "    </tr>\n",
       "    <tr>\n",
       "      <th>3</th>\n",
       "      <td>control_the_movie</td>\n",
       "      <td>Can you text me the movie schedule?</td>\n",
       "      <td>speakera. What are you doing tonight? speakerb. Nothing what about you? Wanna grab a movie? speakerb. Sure but I don't have wifi right now.</td>\n",
       "      <td>A movie schedule...?</td>\n",
       "      <td>Every movie schedule…?</td>\n",
       "      <td>The movie schedule...?</td>\n",
       "    </tr>\n",
       "    <tr>\n",
       "      <th>4</th>\n",
       "      <td>control_all_cookies</td>\n",
       "      <td>Did you grab all the cookies?</td>\n",
       "      <td>speakera. It's time to leave for the potluck.The car's almost packed. speakerb.</td>\n",
       "      <td>A cookie...?</td>\n",
       "      <td>Every cookie…?</td>\n",
       "      <td>The cookie...?</td>\n",
       "    </tr>\n",
       "    <tr>\n",
       "      <th>5</th>\n",
       "      <td>control_all_novels</td>\n",
       "      <td>Have you read all her novels?</td>\n",
       "      <td>speakera. I love Octavia Butler she's the best. speakerb. Yeah she's great. speakera.</td>\n",
       "      <td>An novel...?</td>\n",
       "      <td>Every novel…?</td>\n",
       "      <td>The novel...?</td>\n",
       "    </tr>\n",
       "  </tbody>\n",
       "</table>\n",
       "</div>"
      ],
      "text/plain": [
       "               TGrepID  \\\n",
       "0              61578:4   \n",
       "1              60430:4   \n",
       "2              37508:7   \n",
       "3            103191:13   \n",
       "4             102105:4   \n",
       "5              51293:9   \n",
       "6            130644:22   \n",
       "7             40349:14   \n",
       "8             118088:9   \n",
       "9              68569:4   \n",
       "0     control_a_tissue   \n",
       "1     control_a_napkin   \n",
       "2     control_the_book   \n",
       "3    control_the_movie   \n",
       "4  control_all_cookies   \n",
       "5   control_all_novels   \n",
       "\n",
       "                                                                         EntireSentence  \\\n",
       "0                                                  how are your kids handling it *t*-1?   \n",
       "1                                                                      who *t*-1 knows.   \n",
       "2                         well how do you think 0 the royals are going *-1 to do *t*-2?   \n",
       "3  but, uh, who *t*-1 knows what the future will hold *t*-2. uh, as far as energy goes,   \n",
       "4                                    how do you usually find a, a new restaurant *t*-1?   \n",
       "5                                                         uh, who's the last one *t*-1.   \n",
       "6                        oh, g-, where *ich*-3 have i gone *t*-1 that *t*-2's anywhere.   \n",
       "7      you know, how can you help *-1 depending on the day care center *t*-2, you know,   \n",
       "8                                                uh, how do you feel about taxes *t*-1?   \n",
       "9                                                                where do you go *t*-1?   \n",
       "0                                                                 Do you want a tissue?   \n",
       "1                                                              Can I hand you a napkin?   \n",
       "2                                                 Did you return the book you borrowed?   \n",
       "3                                                   Can you text me the movie schedule?   \n",
       "4                                                         Did you grab all the cookies?   \n",
       "5                                                         Have you read all her novels?   \n",
       "\n",
       "                                                                                                                                                                                                                                                                                                                                                                                                                                                                                                                                                            PreceedingContext  \\\n",
       "0                                                                                                                                                                                                                                                                                                                         ###speakera161.###no,### i, i know,###i mean he's always, you know, he really does have a good home.###i think 0 that's what *t*-1 really bothers me the most about it.###speakerb162.###yeah.###speakera163.###you know, it's like,###speakerb164.   \n",
       "1                                                                                                                                                                                                                                                                                                                    ### and, and i'm getting rather good at *-1 reading want ads.###speakerb14.###uh-huh.###speakera15.###yeah,### it, it,###speakerb16.### wh-, what kind of time frame is it, uh, looking *t*-1 for the, uh, different shifts up there?###speakera17.###i,   \n",
       "2  ###they said the, that um, that he was horrible at, uh, at *-1 batting with, with men on base.###now * having somebody get up and hit a solo home run does you, you know, gives you run, obviously.###speakerb34.###yes.###speakera35.###but i mean if you can't do it with men on base, there's something definitely wrong, um, you know,### you, you've got *-1 to be able *-2 to get the two and three run home runs, you know, *-2 to, to be able *-3 to, uh, score enough runs * to be able *-4 to win in these, uh, in this day and age,###so.###speakerb36.###yeah,   \n",
       "3                                                                                                                                                                                                                                ###speakera61.###yes.###speakerb62.###it's just 0 we can't control it.###right now it *exp*-1 takes more energy *ich*-2 * to cause fusion to occur then you get *?* out,###so, it isn't *?*,###not at all,###and you can't control it unless you gotten a huge electromagnetic field,###so that's not going *-1 to work.###at least not now.   \n",
       "4                                                                                                                                                ###no,###i don't think so.###speakerb52.###but, we really, we really do enjoy *-1 going out### and uh, and, um, i'm pretty adventurous in cooking, too, which *t*-1 also occasionally backfires.###speakera53.###oh, well. even though traditional it can backfire.###speakerb54.###yeah.###i think 0 we're supposed *-1 to say what *t*-2 will bring us back to a restaurant or, or what *t*-3 attracts us to a restaurant.   \n",
       "5                                                                                                                                                                                                                                                                                                                                                                      ###right.###speakera46.###speakerb47.###well, * picking up darrell strawberry didn't hurt.###speakera48.###no,###but butler didn't hurt either.###uh, and bobby ojeda didn't hurt###and,###speakerb49.   \n",
       "6                                                                                                                                                                                                                                                                                                                                                                                            ###speakerb70.###okay.###speakera71.###speakerb72.###well, uh, well,###speakera73.###i'm wanting *-1 to go there.###speakerb74.###where have you gone *t*-1 first?###speakera75.   \n",
       "7                                                                                                                                                                                                                                                                                                                                                                 ###they can watch,###and i just kind of always felt that the chances of something happening were less.###speakera35.###yeah,###yeah.###speakerb36.###speakera37.###uh-huh.###because there's,###speakerb38.   \n",
       "8                                                                                                                                                                                                                                                       ###speakera3.###oh, right###indianapolis got that, didn't they?###speakerb4.###right.###and, uh, we had passed a, a provisional one that if, if it did, if they did locate here we would raise our taxes *t*-1.###but, uh, at least we thought 0 we'd get something back from that.###speakera5.###yeah.###speakerb6.   \n",
       "9                                                                                                                                                                                                                                                                                                                             ###and we go to florida###speakera21.###uh.###speakerb22.###and down, oh,###we were just out *ich*-1 recently at the outer banks of north carolina.###speakera23.###all these places that i've never been *t*-1.###speakerb24.###is that right.   \n",
       "0                                                                                                                                                                                                                                                                                                                                                                                                                                                                                               speakera. Your nose is running. speakerb. Oh yeah I didn't notice. speakera.    \n",
       "1                                                                                                                                                                                                                                                                                                                                                                                                                                                                                                speakera. Oh no! I just spilled my spaghetti down my shirt. speakerb. Oh no.   \n",
       "2                                                                                                                                                                                                                                                                                                                                                                                                                                                                                   speakera. Hey. speakerb. Hey what's up? speakera. I noticed a late fee from the library.    \n",
       "3                                                                                                                                                                                                                                                                                                                                                                                                                                speakera. What are you doing tonight? speakerb. Nothing what about you? Wanna grab a movie? speakerb. Sure but I don't have wifi right now.    \n",
       "4                                                                                                                                                                                                                                                                                                                                                                                                                                                                                            speakera. It's time to leave for the potluck.The car's almost packed. speakerb.    \n",
       "5                                                                                                                                                                                                                                                                                                                                                                                                                                                                                       speakera. I love Octavia Butler she's the best. speakerb. Yeah she's great. speakera.   \n",
       "\n",
       "              AResponse              AllResponse             TheResponse  \n",
       "0     What is a way...?    What is every way...?     What is the way...?  \n",
       "1   Who is a person...?  Who is every person...?   Who is the person...?  \n",
       "2     What is a way...?    What is every way...?     What is the way...?  \n",
       "3   Who is a person...?  Who is every person...?   Who is the person...?  \n",
       "4     What is a way...?    What is every way...?     What is the way...?  \n",
       "5   Who is a person...?  Who is every person...?   Who is the person...?  \n",
       "6   What is a place...?  What is every place...?   What is the place...?  \n",
       "7     What is a way...?    What is every way...?     What is the way...?  \n",
       "8     What is a way...?    What is every way...?     What is the way...?  \n",
       "9   What is a place...?  What is every place...?   What is the place...?  \n",
       "0            A tissue…?           Every tissue…?            The tissue…?  \n",
       "1            A napkin…?           Every napkin…?          The napkin...?  \n",
       "2            A book...?             Every book…?            The book...?  \n",
       "3  A movie schedule...?   Every movie schedule…?  The movie schedule...?  \n",
       "4          A cookie...?           Every cookie…?          The cookie...?  \n",
       "5          An novel...?            Every novel…?           The novel...?  "
      ]
     },
     "execution_count": 41,
     "metadata": {},
     "output_type": "execute_result"
    }
   ],
   "source": [
    "pilot3"
   ]
  },
  {
   "cell_type": "code",
   "execution_count": null,
   "metadata": {},
   "outputs": [],
   "source": []
  }
 ],
 "metadata": {
  "kernelspec": {
   "display_name": "Python 3",
   "language": "python",
   "name": "python3"
  },
  "language_info": {
   "codemirror_mode": {
    "name": "ipython",
    "version": 3
   },
   "file_extension": ".py",
   "mimetype": "text/x-python",
   "name": "python",
   "nbconvert_exporter": "python",
   "pygments_lexer": "ipython3",
   "version": "3.8.3"
  }
 },
 "nbformat": 4,
 "nbformat_minor": 4
}
