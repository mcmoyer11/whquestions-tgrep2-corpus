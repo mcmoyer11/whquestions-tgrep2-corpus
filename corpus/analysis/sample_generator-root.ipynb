{
 "cells": [
  {
   "cell_type": "markdown",
   "metadata": {},
   "source": [
    "# Sample generator for all Root Q data\n",
    "This notebook is for creating the random sample .txt files for the experiment."
   ]
  },
  {
   "cell_type": "code",
   "execution_count": 1,
   "metadata": {},
   "outputs": [],
   "source": [
    "import pandas as pd\n",
    "import numpy as np\n",
    "import seaborn as sns\n",
    "import matplotlib.pyplot as plt\n",
    "import matplotlib as mpl "
   ]
  },
  {
   "cell_type": "markdown",
   "metadata": {},
   "source": [
    " # Contents\n",
    " 1. [Look at the distribution of factors](#Look-at-the-distribution-of-factors)\n",
    " 2. [Constrain dataset to stimuli set](#Constrain-dataset-to-stimuli-set)\n",
    " 3. [Figuring out the distribution of factors per list](#Figuring-out-the-distribution-of-factors-per-list)\n",
    " 4. [Add in the paraphrases](#Add-in-the-paraphrases)\n"
   ]
  },
  {
   "cell_type": "code",
   "execution_count": 2,
   "metadata": {},
   "outputs": [],
   "source": [
    "# import the database file from the TGrep2 searching\n",
    "df = pd.read_csv(\"../results/swbd.tab\", sep='\\t', engine='python')"
   ]
  },
  {
   "cell_type": "code",
   "execution_count": 3,
   "metadata": {},
   "outputs": [],
   "source": [
    "# This makes the display show more info\n",
    "pd.set_option('display.max_rows', None)\n",
    "pd.set_option('display.max_colwidth', None)"
   ]
  },
  {
   "cell_type": "markdown",
   "metadata": {},
   "source": [
    "# Look at the distribution of factors"
   ]
  },
  {
   "cell_type": "code",
   "execution_count": 6,
   "metadata": {
    "collapsed": true
   },
   "outputs": [
    {
     "data": {
      "text/plain": [
       "QuestionType\n",
       "adjunct         775\n",
       "cleft           650\n",
       "embadjunct     2418\n",
       "embedded       1692\n",
       "exclamation      34\n",
       "fragment        126\n",
       "relative       1378\n",
       "root           1719\n",
       "subject        1406\n",
       "Name: QuestionType, dtype: int64"
      ]
     },
     "execution_count": 6,
     "metadata": {},
     "output_type": "execute_result"
    }
   ],
   "source": [
    "df.groupby([\"QuestionType\"])[\"QuestionType\"].count()"
   ]
  },
  {
   "cell_type": "code",
   "execution_count": 7,
   "metadata": {
    "collapsed": true
   },
   "outputs": [
    {
     "data": {
      "text/html": [
       "<div>\n",
       "<style scoped>\n",
       "    .dataframe tbody tr th:only-of-type {\n",
       "        vertical-align: middle;\n",
       "    }\n",
       "\n",
       "    .dataframe tbody tr th {\n",
       "        vertical-align: top;\n",
       "    }\n",
       "\n",
       "    .dataframe thead th {\n",
       "        text-align: right;\n",
       "    }\n",
       "</style>\n",
       "<table border=\"1\" class=\"dataframe\">\n",
       "  <thead>\n",
       "    <tr style=\"text-align: right;\">\n",
       "      <th></th>\n",
       "      <th>QuestionType</th>\n",
       "      <th>Question</th>\n",
       "    </tr>\n",
       "  </thead>\n",
       "  <tbody>\n",
       "    <tr>\n",
       "      <th>0</th>\n",
       "      <td>adjunct</td>\n",
       "      <td>7.598784</td>\n",
       "    </tr>\n",
       "    <tr>\n",
       "      <th>1</th>\n",
       "      <td>cleft</td>\n",
       "      <td>6.373174</td>\n",
       "    </tr>\n",
       "    <tr>\n",
       "      <th>2</th>\n",
       "      <td>embadjunct</td>\n",
       "      <td>23.708207</td>\n",
       "    </tr>\n",
       "    <tr>\n",
       "      <th>3</th>\n",
       "      <td>embedded</td>\n",
       "      <td>16.589862</td>\n",
       "    </tr>\n",
       "    <tr>\n",
       "      <th>4</th>\n",
       "      <td>exclamation</td>\n",
       "      <td>0.333366</td>\n",
       "    </tr>\n",
       "    <tr>\n",
       "      <th>5</th>\n",
       "      <td>fragment</td>\n",
       "      <td>1.235415</td>\n",
       "    </tr>\n",
       "    <tr>\n",
       "      <th>6</th>\n",
       "      <td>relative</td>\n",
       "      <td>13.511129</td>\n",
       "    </tr>\n",
       "    <tr>\n",
       "      <th>7</th>\n",
       "      <td>root</td>\n",
       "      <td>16.854594</td>\n",
       "    </tr>\n",
       "    <tr>\n",
       "      <th>8</th>\n",
       "      <td>subject</td>\n",
       "      <td>13.785665</td>\n",
       "    </tr>\n",
       "  </tbody>\n",
       "</table>\n",
       "</div>"
      ],
      "text/plain": [
       "  QuestionType   Question\n",
       "0      adjunct   7.598784\n",
       "1        cleft   6.373174\n",
       "2   embadjunct  23.708207\n",
       "3     embedded  16.589862\n",
       "4  exclamation   0.333366\n",
       "5     fragment   1.235415\n",
       "6     relative  13.511129\n",
       "7         root  16.854594\n",
       "8      subject  13.785665"
      ]
     },
     "execution_count": 7,
     "metadata": {},
     "output_type": "execute_result"
    }
   ],
   "source": [
    "df.pivot_table(index=['QuestionType'], values=\"Question\", aggfunc=len).groupby([\"QuestionType\"]).Question.transform(lambda x: x/len(df)*100).reset_index()"
   ]
  },
  {
   "cell_type": "code",
   "execution_count": 8,
   "metadata": {},
   "outputs": [
    {
     "data": {
      "text/plain": [
       "45.092699999999994"
      ]
     },
     "execution_count": 8,
     "metadata": {},
     "output_type": "execute_result"
    }
   ],
   "source": [
    "# combine adj + embadj + subject together as \"adjunct\"\n",
    "(.075988 + 0.237082 + 0.137857)*100"
   ]
  },
  {
   "cell_type": "code",
   "execution_count": 9,
   "metadata": {
    "scrolled": true
   },
   "outputs": [
    {
     "data": {
      "text/plain": [
       "Wh\n",
       "how            381\n",
       "what           991\n",
       "whatever         1\n",
       "when            17\n",
       "where          151\n",
       "whereabouts      1\n",
       "which           19\n",
       "who             83\n",
       "whose            2\n",
       "why             73\n",
       "Name: Wh, dtype: int64"
      ]
     },
     "execution_count": 9,
     "metadata": {},
     "output_type": "execute_result"
    }
   ],
   "source": [
    "df[df['QuestionType'] == 'root'].groupby([\"Wh\"])[\"Wh\"].count()"
   ]
  },
  {
   "cell_type": "markdown",
   "metadata": {},
   "source": [
    "# Constrain dataset to stimuli set\n",
    "for experimental mock-up\n",
    "\n",
    "First we have to remove the questions that we don;t want to include:\n",
    "1. non-embedded or root questions\n",
    "2. no degree questions\n",
    "3. no identity questions\n",
    "4. generally only monomorphemic wh-phrases\n",
    "5. only what-, when-, and why-questions"
   ]
  },
  {
   "cell_type": "markdown",
   "metadata": {},
   "source": [
    "### Note, the original step was below, but the DB has changed during fine-tuining the EQ DB, so instead of taking the step below, skip to the column"
   ]
  },
  {
   "cell_type": "code",
   "execution_count": 7,
   "metadata": {},
   "outputs": [],
   "source": [
    "# critical = df[(df['QuestionType'] == 'root') # only root questions\n",
    "#               & \n",
    "#               (df['DegreeQ'] == 'no' ) # no degree questions\n",
    "#               &\n",
    "#               (df['IdentityQ'] == \"no\") # no identity questions\n",
    "#               &\n",
    "#               (df['Wh'].isin(['how','How','where','Where','who','Who','what','What','why','Why','when','When'])) # just these wh-words\n",
    "#               &\n",
    "#               (df['WhPhaseType'] == 'monomorphemic') # monomorphic wh only (might get anything not go by degQ)\n",
    "#              ]"
   ]
  },
  {
   "cell_type": "code",
   "execution_count": 7,
   "metadata": {},
   "outputs": [
    {
     "data": {
      "text/plain": [
       "901"
      ]
     },
     "execution_count": 7,
     "metadata": {},
     "output_type": "execute_result"
    }
   ],
   "source": [
    "# this was 995 originally, but is now 901\n",
    "# len(critical)"
   ]
  },
  {
   "cell_type": "markdown",
   "metadata": {},
   "source": [
    "### Read in the dataset from the experiment, and use the TGrepIDs there to fiter the corpus DB here (3/9/21)"
   ]
  },
  {
   "cell_type": "code",
   "execution_count": 4,
   "metadata": {},
   "outputs": [],
   "source": [
    "exp = pd.read_csv(\"../../analysis/03_experiment/data/exp03_main-merged.csv\")"
   ]
  },
  {
   "cell_type": "code",
   "execution_count": 5,
   "metadata": {},
   "outputs": [],
   "source": [
    "# get the ids from the experimental files\n",
    "exp_ids = exp.tgrep_id"
   ]
  },
  {
   "cell_type": "code",
   "execution_count": 6,
   "metadata": {},
   "outputs": [],
   "source": [
    "critical = df[df[\"Item_ID\"].isin(set(exp_ids))]"
   ]
  },
  {
   "cell_type": "code",
   "execution_count": 7,
   "metadata": {},
   "outputs": [
    {
     "data": {
      "text/plain": [
       "995"
      ]
     },
     "execution_count": 7,
     "metadata": {},
     "output_type": "execute_result"
    }
   ],
   "source": [
    "len(critical)"
   ]
  },
  {
   "cell_type": "markdown",
   "metadata": {},
   "source": [
    "# Figuring out the distribution of factors per list"
   ]
  },
  {
   "cell_type": "code",
   "execution_count": 344,
   "metadata": {},
   "outputs": [
    {
     "data": {
      "text/plain": [
       "33.166666666666664"
      ]
     },
     "execution_count": 344,
     "metadata": {},
     "output_type": "execute_result"
    }
   ],
   "source": [
    "# Number of lists (30 items per list)\n",
    "len(critical)/30"
   ]
  },
  {
   "cell_type": "code",
   "execution_count": 345,
   "metadata": {},
   "outputs": [
    {
     "data": {
      "text/plain": [
       "5"
      ]
     },
     "execution_count": 345,
     "metadata": {},
     "output_type": "execute_result"
    }
   ],
   "source": [
    "995 - 33*30"
   ]
  },
  {
   "cell_type": "markdown",
   "metadata": {},
   "source": [
    "33 lists of 30, 1 list of 35"
   ]
  },
  {
   "cell_type": "code",
   "execution_count": 346,
   "metadata": {},
   "outputs": [
    {
     "data": {
      "text/html": [
       "<div>\n",
       "<style scoped>\n",
       "    .dataframe tbody tr th:only-of-type {\n",
       "        vertical-align: middle;\n",
       "    }\n",
       "\n",
       "    .dataframe tbody tr th {\n",
       "        vertical-align: top;\n",
       "    }\n",
       "\n",
       "    .dataframe thead th {\n",
       "        text-align: right;\n",
       "    }\n",
       "</style>\n",
       "<table border=\"1\" class=\"dataframe\">\n",
       "  <thead>\n",
       "    <tr style=\"text-align: right;\">\n",
       "      <th></th>\n",
       "      <th>ModalPresent</th>\n",
       "      <th>Question</th>\n",
       "    </tr>\n",
       "  </thead>\n",
       "  <tbody>\n",
       "    <tr>\n",
       "      <th>0</th>\n",
       "      <td>no</td>\n",
       "      <td>0.878392</td>\n",
       "    </tr>\n",
       "    <tr>\n",
       "      <th>1</th>\n",
       "      <td>yes</td>\n",
       "      <td>0.121608</td>\n",
       "    </tr>\n",
       "  </tbody>\n",
       "</table>\n",
       "</div>"
      ],
      "text/plain": [
       "  ModalPresent  Question\n",
       "0           no  0.878392\n",
       "1          yes  0.121608"
      ]
     },
     "execution_count": 346,
     "metadata": {},
     "output_type": "execute_result"
    }
   ],
   "source": [
    "critical.pivot_table(index=['ModalPresent'], values=\"Question\", aggfunc=len).groupby([\"ModalPresent\"]).Question.transform(lambda x: x/len(critical)).reset_index()"
   ]
  },
  {
   "cell_type": "code",
   "execution_count": 347,
   "metadata": {},
   "outputs": [
    {
     "data": {
      "text/html": [
       "<div>\n",
       "<style scoped>\n",
       "    .dataframe tbody tr th:only-of-type {\n",
       "        vertical-align: middle;\n",
       "    }\n",
       "\n",
       "    .dataframe tbody tr th {\n",
       "        vertical-align: top;\n",
       "    }\n",
       "\n",
       "    .dataframe thead th {\n",
       "        text-align: right;\n",
       "    }\n",
       "</style>\n",
       "<table border=\"1\" class=\"dataframe\">\n",
       "  <thead>\n",
       "    <tr style=\"text-align: right;\">\n",
       "      <th></th>\n",
       "      <th>Wh</th>\n",
       "      <th>Question</th>\n",
       "    </tr>\n",
       "  </thead>\n",
       "  <tbody>\n",
       "    <tr>\n",
       "      <th>0</th>\n",
       "      <td>how</td>\n",
       "      <td>0.184925</td>\n",
       "    </tr>\n",
       "    <tr>\n",
       "      <th>1</th>\n",
       "      <td>what</td>\n",
       "      <td>0.587940</td>\n",
       "    </tr>\n",
       "    <tr>\n",
       "      <th>2</th>\n",
       "      <td>when</td>\n",
       "      <td>0.015075</td>\n",
       "    </tr>\n",
       "    <tr>\n",
       "      <th>3</th>\n",
       "      <td>where</td>\n",
       "      <td>0.097487</td>\n",
       "    </tr>\n",
       "    <tr>\n",
       "      <th>4</th>\n",
       "      <td>who</td>\n",
       "      <td>0.054271</td>\n",
       "    </tr>\n",
       "    <tr>\n",
       "      <th>5</th>\n",
       "      <td>why</td>\n",
       "      <td>0.060302</td>\n",
       "    </tr>\n",
       "  </tbody>\n",
       "</table>\n",
       "</div>"
      ],
      "text/plain": [
       "      Wh  Question\n",
       "0    how  0.184925\n",
       "1   what  0.587940\n",
       "2   when  0.015075\n",
       "3  where  0.097487\n",
       "4    who  0.054271\n",
       "5    why  0.060302"
      ]
     },
     "execution_count": 347,
     "metadata": {},
     "output_type": "execute_result"
    }
   ],
   "source": [
    "critical.pivot_table(index=['Wh'], values=\"Question\", aggfunc=len).groupby([\"Wh\"]).Question.transform(lambda x: x/len(critical)).reset_index()"
   ]
  },
  {
   "cell_type": "code",
   "execution_count": 348,
   "metadata": {},
   "outputs": [
    {
     "data": {
      "text/html": [
       "<div>\n",
       "<style scoped>\n",
       "    .dataframe tbody tr th:only-of-type {\n",
       "        vertical-align: middle;\n",
       "    }\n",
       "\n",
       "    .dataframe tbody tr th {\n",
       "        vertical-align: top;\n",
       "    }\n",
       "\n",
       "    .dataframe thead th {\n",
       "        text-align: right;\n",
       "    }\n",
       "</style>\n",
       "<table border=\"1\" class=\"dataframe\">\n",
       "  <thead>\n",
       "    <tr style=\"text-align: right;\">\n",
       "      <th></th>\n",
       "      <th>Wh</th>\n",
       "      <th>ModalPresent</th>\n",
       "      <th>Question</th>\n",
       "    </tr>\n",
       "  </thead>\n",
       "  <tbody>\n",
       "    <tr>\n",
       "      <th>0</th>\n",
       "      <td>how</td>\n",
       "      <td>no</td>\n",
       "      <td>15.678392</td>\n",
       "    </tr>\n",
       "    <tr>\n",
       "      <th>1</th>\n",
       "      <td>how</td>\n",
       "      <td>yes</td>\n",
       "      <td>2.814070</td>\n",
       "    </tr>\n",
       "    <tr>\n",
       "      <th>2</th>\n",
       "      <td>what</td>\n",
       "      <td>no</td>\n",
       "      <td>52.060302</td>\n",
       "    </tr>\n",
       "    <tr>\n",
       "      <th>3</th>\n",
       "      <td>what</td>\n",
       "      <td>yes</td>\n",
       "      <td>6.733668</td>\n",
       "    </tr>\n",
       "    <tr>\n",
       "      <th>4</th>\n",
       "      <td>when</td>\n",
       "      <td>no</td>\n",
       "      <td>1.407035</td>\n",
       "    </tr>\n",
       "    <tr>\n",
       "      <th>5</th>\n",
       "      <td>when</td>\n",
       "      <td>yes</td>\n",
       "      <td>0.100503</td>\n",
       "    </tr>\n",
       "    <tr>\n",
       "      <th>6</th>\n",
       "      <td>where</td>\n",
       "      <td>no</td>\n",
       "      <td>9.346734</td>\n",
       "    </tr>\n",
       "    <tr>\n",
       "      <th>7</th>\n",
       "      <td>where</td>\n",
       "      <td>yes</td>\n",
       "      <td>0.402010</td>\n",
       "    </tr>\n",
       "    <tr>\n",
       "      <th>8</th>\n",
       "      <td>who</td>\n",
       "      <td>no</td>\n",
       "      <td>4.623116</td>\n",
       "    </tr>\n",
       "    <tr>\n",
       "      <th>9</th>\n",
       "      <td>who</td>\n",
       "      <td>yes</td>\n",
       "      <td>0.804020</td>\n",
       "    </tr>\n",
       "    <tr>\n",
       "      <th>10</th>\n",
       "      <td>why</td>\n",
       "      <td>no</td>\n",
       "      <td>4.723618</td>\n",
       "    </tr>\n",
       "    <tr>\n",
       "      <th>11</th>\n",
       "      <td>why</td>\n",
       "      <td>yes</td>\n",
       "      <td>1.306533</td>\n",
       "    </tr>\n",
       "  </tbody>\n",
       "</table>\n",
       "</div>"
      ],
      "text/plain": [
       "       Wh ModalPresent   Question\n",
       "0     how           no  15.678392\n",
       "1     how          yes   2.814070\n",
       "2    what           no  52.060302\n",
       "3    what          yes   6.733668\n",
       "4    when           no   1.407035\n",
       "5    when          yes   0.100503\n",
       "6   where           no   9.346734\n",
       "7   where          yes   0.402010\n",
       "8     who           no   4.623116\n",
       "9     who          yes   0.804020\n",
       "10    why           no   4.723618\n",
       "11    why          yes   1.306533"
      ]
     },
     "execution_count": 348,
     "metadata": {},
     "output_type": "execute_result"
    }
   ],
   "source": [
    "critical.pivot_table(index=['Wh','ModalPresent'], values=\"Question\", aggfunc=len).groupby([\"Wh\"]).Question.transform(lambda x: x/len(critical)*100).reset_index()"
   ]
  },
  {
   "cell_type": "markdown",
   "metadata": {},
   "source": []
  },
  {
   "cell_type": "code",
   "execution_count": null,
   "metadata": {},
   "outputs": [],
   "source": []
  },
  {
   "cell_type": "markdown",
   "metadata": {},
   "source": [
    "# Add in the paraphrases\n",
    "this should take as input the entire constrained dataframe from the above section, and then generate the paraphrases\n",
    "\n",
    "For Who questions: Who is a person...? / Who is some person...? / \"Who is every person...\" / \"Who is the person...\""
   ]
  },
  {
   "cell_type": "code",
   "execution_count": 8,
   "metadata": {},
   "outputs": [],
   "source": [
    "# read in df with contexts\n",
    "cntxts = pd.read_csv(\"swbd_contexts.csv\")"
   ]
  },
  {
   "cell_type": "code",
   "execution_count": 9,
   "metadata": {},
   "outputs": [],
   "source": [
    "cntxts = cntxts.drop(columns=\"FollowingContext\")"
   ]
  },
  {
   "cell_type": "code",
   "execution_count": 10,
   "metadata": {},
   "outputs": [],
   "source": [
    "# get the indixes from critical\n",
    "crit_index = critical.Item_ID"
   ]
  },
  {
   "cell_type": "code",
   "execution_count": null,
   "metadata": {},
   "outputs": [],
   "source": []
  },
  {
   "cell_type": "markdown",
   "metadata": {},
   "source": [
    "### Merge back in Wh and ModalPresent colums"
   ]
  },
  {
   "cell_type": "code",
   "execution_count": 11,
   "metadata": {},
   "outputs": [],
   "source": [
    "df_WhMod = critical[[\"Item_ID\",\"Wh\",\"ModalPresent\",\"Question\"]].rename(columns={\"Item_ID\": \"TGrepID\"})"
   ]
  },
  {
   "cell_type": "code",
   "execution_count": 12,
   "metadata": {},
   "outputs": [],
   "source": [
    "# subset to the items that are just the ones filtered in the previos section\n",
    "\n",
    "# otherwise, if using the database file with contexts directly in there, then this step\n",
    "# is not necessary\n",
    "df_valid = cntxts[cntxts[\"TGrepID\"].isin(set(crit_index))]"
   ]
  },
  {
   "cell_type": "code",
   "execution_count": 13,
   "metadata": {},
   "outputs": [
    {
     "data": {
      "text/plain": [
       "995"
      ]
     },
     "execution_count": 13,
     "metadata": {},
     "output_type": "execute_result"
    }
   ],
   "source": [
    "len(df_valid)"
   ]
  },
  {
   "cell_type": "code",
   "execution_count": 14,
   "metadata": {},
   "outputs": [
    {
     "data": {
      "text/plain": [
       "Index(['TGrepID', 'EntireSentence', 'PreceedingContext'], dtype='object')"
      ]
     },
     "execution_count": 14,
     "metadata": {},
     "output_type": "execute_result"
    }
   ],
   "source": [
    "df_valid.columns"
   ]
  },
  {
   "cell_type": "code",
   "execution_count": 15,
   "metadata": {},
   "outputs": [],
   "source": [
    "df_valid = df_valid.merge(df_WhMod, how = 'inner', indicator=False)"
   ]
  },
  {
   "cell_type": "code",
   "execution_count": 16,
   "metadata": {},
   "outputs": [
    {
     "data": {
      "text/plain": [
       "995"
      ]
     },
     "execution_count": 16,
     "metadata": {},
     "output_type": "execute_result"
    }
   ],
   "source": [
    "len(df_valid)"
   ]
  },
  {
   "cell_type": "code",
   "execution_count": 17,
   "metadata": {},
   "outputs": [
    {
     "data": {
      "text/html": [
       "<div>\n",
       "<style scoped>\n",
       "    .dataframe tbody tr th:only-of-type {\n",
       "        vertical-align: middle;\n",
       "    }\n",
       "\n",
       "    .dataframe tbody tr th {\n",
       "        vertical-align: top;\n",
       "    }\n",
       "\n",
       "    .dataframe thead th {\n",
       "        text-align: right;\n",
       "    }\n",
       "</style>\n",
       "<table border=\"1\" class=\"dataframe\">\n",
       "  <thead>\n",
       "    <tr style=\"text-align: right;\">\n",
       "      <th></th>\n",
       "      <th>Wh</th>\n",
       "      <th>EntireSentence</th>\n",
       "    </tr>\n",
       "  </thead>\n",
       "  <tbody>\n",
       "    <tr>\n",
       "      <th>0</th>\n",
       "      <td>how</td>\n",
       "      <td>0.184925</td>\n",
       "    </tr>\n",
       "    <tr>\n",
       "      <th>1</th>\n",
       "      <td>what</td>\n",
       "      <td>0.587940</td>\n",
       "    </tr>\n",
       "    <tr>\n",
       "      <th>2</th>\n",
       "      <td>when</td>\n",
       "      <td>0.015075</td>\n",
       "    </tr>\n",
       "    <tr>\n",
       "      <th>3</th>\n",
       "      <td>where</td>\n",
       "      <td>0.097487</td>\n",
       "    </tr>\n",
       "    <tr>\n",
       "      <th>4</th>\n",
       "      <td>who</td>\n",
       "      <td>0.054271</td>\n",
       "    </tr>\n",
       "    <tr>\n",
       "      <th>5</th>\n",
       "      <td>why</td>\n",
       "      <td>0.060302</td>\n",
       "    </tr>\n",
       "  </tbody>\n",
       "</table>\n",
       "</div>"
      ],
      "text/plain": [
       "      Wh  EntireSentence\n",
       "0    how        0.184925\n",
       "1   what        0.587940\n",
       "2   when        0.015075\n",
       "3  where        0.097487\n",
       "4    who        0.054271\n",
       "5    why        0.060302"
      ]
     },
     "execution_count": 17,
     "metadata": {},
     "output_type": "execute_result"
    }
   ],
   "source": [
    "df_valid.pivot_table(index=['Wh'], values=\"EntireSentence\", aggfunc=len).groupby([\"Wh\"]).EntireSentence.transform(lambda x: x/len(df_valid)).reset_index()"
   ]
  },
  {
   "cell_type": "code",
   "execution_count": 18,
   "metadata": {},
   "outputs": [],
   "source": [
    "who = df_valid[df_valid[\"Wh\"] == \"who\"]\n",
    "where = df_valid[df_valid[\"Wh\"] == \"where\"]\n",
    "how = df_valid[df_valid[\"Wh\"] == \"how\"]\n",
    "when = df_valid[df_valid[\"Wh\"] == \"when\"]\n",
    "why = df_valid[df_valid[\"Wh\"] == \"why\"]\n",
    "what = df_valid[df_valid[\"Wh\"] == \"what\"]"
   ]
  },
  {
   "cell_type": "code",
   "execution_count": 19,
   "metadata": {},
   "outputs": [
    {
     "name": "stderr",
     "output_type": "stream",
     "text": [
      "<ipython-input-19-bf84b428f8ef>:1: SettingWithCopyWarning: \n",
      "A value is trying to be set on a copy of a slice from a DataFrame.\n",
      "Try using .loc[row_indexer,col_indexer] = value instead\n",
      "\n",
      "See the caveats in the documentation: https://pandas.pydata.org/pandas-docs/stable/user_guide/indexing.html#returning-a-view-versus-a-copy\n",
      "  who[\"AResponse\"] = \"Who is a person...?\"\n",
      "<ipython-input-19-bf84b428f8ef>:3: SettingWithCopyWarning: \n",
      "A value is trying to be set on a copy of a slice from a DataFrame.\n",
      "Try using .loc[row_indexer,col_indexer] = value instead\n",
      "\n",
      "See the caveats in the documentation: https://pandas.pydata.org/pandas-docs/stable/user_guide/indexing.html#returning-a-view-versus-a-copy\n",
      "  who[\"AllResponse\"] = \"Who is every person...?\"\n",
      "<ipython-input-19-bf84b428f8ef>:4: SettingWithCopyWarning: \n",
      "A value is trying to be set on a copy of a slice from a DataFrame.\n",
      "Try using .loc[row_indexer,col_indexer] = value instead\n",
      "\n",
      "See the caveats in the documentation: https://pandas.pydata.org/pandas-docs/stable/user_guide/indexing.html#returning-a-view-versus-a-copy\n",
      "  who[\"TheResponse\"] = \"Who is the person...?\"\n",
      "<ipython-input-19-bf84b428f8ef>:7: SettingWithCopyWarning: \n",
      "A value is trying to be set on a copy of a slice from a DataFrame.\n",
      "Try using .loc[row_indexer,col_indexer] = value instead\n",
      "\n",
      "See the caveats in the documentation: https://pandas.pydata.org/pandas-docs/stable/user_guide/indexing.html#returning-a-view-versus-a-copy\n",
      "  where[\"AResponse\"] = \"What is a place...?\"\n",
      "<ipython-input-19-bf84b428f8ef>:9: SettingWithCopyWarning: \n",
      "A value is trying to be set on a copy of a slice from a DataFrame.\n",
      "Try using .loc[row_indexer,col_indexer] = value instead\n",
      "\n",
      "See the caveats in the documentation: https://pandas.pydata.org/pandas-docs/stable/user_guide/indexing.html#returning-a-view-versus-a-copy\n",
      "  where[\"AllResponse\"] = \"What is every place...?\"\n",
      "<ipython-input-19-bf84b428f8ef>:10: SettingWithCopyWarning: \n",
      "A value is trying to be set on a copy of a slice from a DataFrame.\n",
      "Try using .loc[row_indexer,col_indexer] = value instead\n",
      "\n",
      "See the caveats in the documentation: https://pandas.pydata.org/pandas-docs/stable/user_guide/indexing.html#returning-a-view-versus-a-copy\n",
      "  where[\"TheResponse\"] = \"What is the place...?\"\n",
      "<ipython-input-19-bf84b428f8ef>:13: SettingWithCopyWarning: \n",
      "A value is trying to be set on a copy of a slice from a DataFrame.\n",
      "Try using .loc[row_indexer,col_indexer] = value instead\n",
      "\n",
      "See the caveats in the documentation: https://pandas.pydata.org/pandas-docs/stable/user_guide/indexing.html#returning-a-view-versus-a-copy\n",
      "  how[\"AResponse\"] = \"What is a way...?\"\n",
      "<ipython-input-19-bf84b428f8ef>:15: SettingWithCopyWarning: \n",
      "A value is trying to be set on a copy of a slice from a DataFrame.\n",
      "Try using .loc[row_indexer,col_indexer] = value instead\n",
      "\n",
      "See the caveats in the documentation: https://pandas.pydata.org/pandas-docs/stable/user_guide/indexing.html#returning-a-view-versus-a-copy\n",
      "  how[\"AllResponse\"] = \"What is every way...?\"\n",
      "<ipython-input-19-bf84b428f8ef>:16: SettingWithCopyWarning: \n",
      "A value is trying to be set on a copy of a slice from a DataFrame.\n",
      "Try using .loc[row_indexer,col_indexer] = value instead\n",
      "\n",
      "See the caveats in the documentation: https://pandas.pydata.org/pandas-docs/stable/user_guide/indexing.html#returning-a-view-versus-a-copy\n",
      "  how[\"TheResponse\"] = \"What is the way...?\"\n",
      "<ipython-input-19-bf84b428f8ef>:18: SettingWithCopyWarning: \n",
      "A value is trying to be set on a copy of a slice from a DataFrame.\n",
      "Try using .loc[row_indexer,col_indexer] = value instead\n",
      "\n",
      "See the caveats in the documentation: https://pandas.pydata.org/pandas-docs/stable/user_guide/indexing.html#returning-a-view-versus-a-copy\n",
      "  when[\"AResponse\"] = \"What is a time...?\"\n",
      "<ipython-input-19-bf84b428f8ef>:20: SettingWithCopyWarning: \n",
      "A value is trying to be set on a copy of a slice from a DataFrame.\n",
      "Try using .loc[row_indexer,col_indexer] = value instead\n",
      "\n",
      "See the caveats in the documentation: https://pandas.pydata.org/pandas-docs/stable/user_guide/indexing.html#returning-a-view-versus-a-copy\n",
      "  when[\"AllResponse\"] = \"What is every time...?\"\n",
      "<ipython-input-19-bf84b428f8ef>:21: SettingWithCopyWarning: \n",
      "A value is trying to be set on a copy of a slice from a DataFrame.\n",
      "Try using .loc[row_indexer,col_indexer] = value instead\n",
      "\n",
      "See the caveats in the documentation: https://pandas.pydata.org/pandas-docs/stable/user_guide/indexing.html#returning-a-view-versus-a-copy\n",
      "  when[\"TheResponse\"] = \"What is the time...?\"\n",
      "<ipython-input-19-bf84b428f8ef>:24: SettingWithCopyWarning: \n",
      "A value is trying to be set on a copy of a slice from a DataFrame.\n",
      "Try using .loc[row_indexer,col_indexer] = value instead\n",
      "\n",
      "See the caveats in the documentation: https://pandas.pydata.org/pandas-docs/stable/user_guide/indexing.html#returning-a-view-versus-a-copy\n",
      "  why[\"AResponse\"] = \"What is a reason...?\"\n",
      "<ipython-input-19-bf84b428f8ef>:26: SettingWithCopyWarning: \n",
      "A value is trying to be set on a copy of a slice from a DataFrame.\n",
      "Try using .loc[row_indexer,col_indexer] = value instead\n",
      "\n",
      "See the caveats in the documentation: https://pandas.pydata.org/pandas-docs/stable/user_guide/indexing.html#returning-a-view-versus-a-copy\n",
      "  why[\"AllResponse\"] = \"What is every reason...?\"\n",
      "<ipython-input-19-bf84b428f8ef>:27: SettingWithCopyWarning: \n",
      "A value is trying to be set on a copy of a slice from a DataFrame.\n",
      "Try using .loc[row_indexer,col_indexer] = value instead\n",
      "\n",
      "See the caveats in the documentation: https://pandas.pydata.org/pandas-docs/stable/user_guide/indexing.html#returning-a-view-versus-a-copy\n",
      "  why[\"TheResponse\"] = \"What is the reason...?\"\n",
      "<ipython-input-19-bf84b428f8ef>:30: SettingWithCopyWarning: \n",
      "A value is trying to be set on a copy of a slice from a DataFrame.\n",
      "Try using .loc[row_indexer,col_indexer] = value instead\n",
      "\n",
      "See the caveats in the documentation: https://pandas.pydata.org/pandas-docs/stable/user_guide/indexing.html#returning-a-view-versus-a-copy\n",
      "  what[\"AResponse\"] = \"What is a thing...?\"\n",
      "<ipython-input-19-bf84b428f8ef>:32: SettingWithCopyWarning: \n",
      "A value is trying to be set on a copy of a slice from a DataFrame.\n",
      "Try using .loc[row_indexer,col_indexer] = value instead\n",
      "\n",
      "See the caveats in the documentation: https://pandas.pydata.org/pandas-docs/stable/user_guide/indexing.html#returning-a-view-versus-a-copy\n",
      "  what[\"AllResponse\"] = \"What is every thing...?\"\n",
      "<ipython-input-19-bf84b428f8ef>:33: SettingWithCopyWarning: \n",
      "A value is trying to be set on a copy of a slice from a DataFrame.\n",
      "Try using .loc[row_indexer,col_indexer] = value instead\n",
      "\n",
      "See the caveats in the documentation: https://pandas.pydata.org/pandas-docs/stable/user_guide/indexing.html#returning-a-view-versus-a-copy\n",
      "  what[\"TheResponse\"] = \"What is the thing...?\"\n"
     ]
    }
   ],
   "source": [
    "who[\"AResponse\"] = \"Who is a person...?\"\n",
    "# who[\"SomeResponse\"] = \"Who is some person...?\"\n",
    "who[\"AllResponse\"] = \"Who is every person...?\"\n",
    "who[\"TheResponse\"] = \"Who is the person...?\"\n",
    "\n",
    "\n",
    "where[\"AResponse\"] = \"What is a place...?\"\n",
    "# where[\"SomeResponse\"] = \"What is some place...?\"\n",
    "where[\"AllResponse\"] = \"What is every place...?\"\n",
    "where[\"TheResponse\"] = \"What is the place...?\"\n",
    "\n",
    "\n",
    "how[\"AResponse\"] = \"What is a way...?\"\n",
    "# how[\"SomeResponse\"] = \"What is some way...?\"\n",
    "how[\"AllResponse\"] = \"What is every way...?\"\n",
    "how[\"TheResponse\"] = \"What is the way...?\"\n",
    "\n",
    "when[\"AResponse\"] = \"What is a time...?\"\n",
    "# when[\"SomeResponse\"] = \"What is some time...?\"\n",
    "when[\"AllResponse\"] = \"What is every time...?\"\n",
    "when[\"TheResponse\"] = \"What is the time...?\"\n",
    "\n",
    "\n",
    "why[\"AResponse\"] = \"What is a reason...?\"\n",
    "# why[\"SomeResponse\"] = \"What is some reason...?\"\n",
    "why[\"AllResponse\"] = \"What is every reason...?\"\n",
    "why[\"TheResponse\"] = \"What is the reason...?\"\n",
    "\n",
    "\n",
    "what[\"AResponse\"] = \"What is a thing...?\"\n",
    "# what[\"SomeResponse\"] = \"What is some thing...?\"\n",
    "what[\"AllResponse\"] = \"What is every thing...?\"\n",
    "what[\"TheResponse\"] = \"What is the thing...?\""
   ]
  },
  {
   "cell_type": "code",
   "execution_count": 20,
   "metadata": {},
   "outputs": [],
   "source": [
    "df_final = pd.concat([who,where,how,why,when,what])"
   ]
  },
  {
   "cell_type": "code",
   "execution_count": 114,
   "metadata": {},
   "outputs": [
    {
     "data": {
      "text/plain": [
       "995"
      ]
     },
     "execution_count": 114,
     "metadata": {},
     "output_type": "execute_result"
    }
   ],
   "source": [
    "len(df_final)"
   ]
  },
  {
   "cell_type": "code",
   "execution_count": 115,
   "metadata": {},
   "outputs": [
    {
     "data": {
      "text/html": [
       "<div>\n",
       "<style scoped>\n",
       "    .dataframe tbody tr th:only-of-type {\n",
       "        vertical-align: middle;\n",
       "    }\n",
       "\n",
       "    .dataframe tbody tr th {\n",
       "        vertical-align: top;\n",
       "    }\n",
       "\n",
       "    .dataframe thead th {\n",
       "        text-align: right;\n",
       "    }\n",
       "</style>\n",
       "<table border=\"1\" class=\"dataframe\">\n",
       "  <thead>\n",
       "    <tr style=\"text-align: right;\">\n",
       "      <th></th>\n",
       "      <th>Wh</th>\n",
       "      <th>EntireSentence</th>\n",
       "    </tr>\n",
       "  </thead>\n",
       "  <tbody>\n",
       "    <tr>\n",
       "      <th>0</th>\n",
       "      <td>how</td>\n",
       "      <td>0.184925</td>\n",
       "    </tr>\n",
       "    <tr>\n",
       "      <th>1</th>\n",
       "      <td>what</td>\n",
       "      <td>0.587940</td>\n",
       "    </tr>\n",
       "    <tr>\n",
       "      <th>2</th>\n",
       "      <td>when</td>\n",
       "      <td>0.015075</td>\n",
       "    </tr>\n",
       "    <tr>\n",
       "      <th>3</th>\n",
       "      <td>where</td>\n",
       "      <td>0.097487</td>\n",
       "    </tr>\n",
       "    <tr>\n",
       "      <th>4</th>\n",
       "      <td>who</td>\n",
       "      <td>0.054271</td>\n",
       "    </tr>\n",
       "    <tr>\n",
       "      <th>5</th>\n",
       "      <td>why</td>\n",
       "      <td>0.060302</td>\n",
       "    </tr>\n",
       "  </tbody>\n",
       "</table>\n",
       "</div>"
      ],
      "text/plain": [
       "      Wh  EntireSentence\n",
       "0    how        0.184925\n",
       "1   what        0.587940\n",
       "2   when        0.015075\n",
       "3  where        0.097487\n",
       "4    who        0.054271\n",
       "5    why        0.060302"
      ]
     },
     "execution_count": 115,
     "metadata": {},
     "output_type": "execute_result"
    }
   ],
   "source": [
    "df_final.pivot_table(index=['Wh'], values=\"EntireSentence\", aggfunc=len).groupby([\"Wh\"]).EntireSentence.transform(lambda x: x/len(df_final)).reset_index()"
   ]
  },
  {
   "cell_type": "code",
   "execution_count": 116,
   "metadata": {},
   "outputs": [
    {
     "data": {
      "text/html": [
       "<div>\n",
       "<style scoped>\n",
       "    .dataframe tbody tr th:only-of-type {\n",
       "        vertical-align: middle;\n",
       "    }\n",
       "\n",
       "    .dataframe tbody tr th {\n",
       "        vertical-align: top;\n",
       "    }\n",
       "\n",
       "    .dataframe thead th {\n",
       "        text-align: right;\n",
       "    }\n",
       "</style>\n",
       "<table border=\"1\" class=\"dataframe\">\n",
       "  <thead>\n",
       "    <tr style=\"text-align: right;\">\n",
       "      <th></th>\n",
       "      <th>ModalPresent</th>\n",
       "      <th>EntireSentence</th>\n",
       "    </tr>\n",
       "  </thead>\n",
       "  <tbody>\n",
       "    <tr>\n",
       "      <th>0</th>\n",
       "      <td>no</td>\n",
       "      <td>0.878392</td>\n",
       "    </tr>\n",
       "    <tr>\n",
       "      <th>1</th>\n",
       "      <td>yes</td>\n",
       "      <td>0.121608</td>\n",
       "    </tr>\n",
       "  </tbody>\n",
       "</table>\n",
       "</div>"
      ],
      "text/plain": [
       "  ModalPresent  EntireSentence\n",
       "0           no        0.878392\n",
       "1          yes        0.121608"
      ]
     },
     "execution_count": 116,
     "metadata": {},
     "output_type": "execute_result"
    }
   ],
   "source": [
    "df_final.pivot_table(index=['ModalPresent'], values=\"EntireSentence\", aggfunc=len).groupby([\"ModalPresent\"]).EntireSentence.transform(lambda x: x/len(df_final)).reset_index()"
   ]
  },
  {
   "cell_type": "markdown",
   "metadata": {},
   "source": [
    "# Split EntireSentence on Question "
   ]
  },
  {
   "cell_type": "code",
   "execution_count": 117,
   "metadata": {},
   "outputs": [],
   "source": [
    "# split EntireSentence\n",
    "df_final[\"Matrix\"] = df_final.apply(lambda x: x['EntireSentence'].replace(x['Question'],\"\").strip(),axis=1)"
   ]
  },
  {
   "cell_type": "code",
   "execution_count": 118,
   "metadata": {},
   "outputs": [],
   "source": [
    "# add it to preceeding context\n",
    "df_final[\"PreceedingContext\"] = [' '.join([str(x), str(y)]) for x, y in zip(df_final['PreceedingContext'], df_final['Matrix'])]"
   ]
  },
  {
   "cell_type": "code",
   "execution_count": 119,
   "metadata": {},
   "outputs": [],
   "source": [
    "df_final = df_final.rename(columns={\"TGrepID\": \"tgrep_id\"})"
   ]
  },
  {
   "cell_type": "code",
   "execution_count": null,
   "metadata": {},
   "outputs": [],
   "source": []
  },
  {
   "cell_type": "code",
   "execution_count": 120,
   "metadata": {},
   "outputs": [
    {
     "data": {
      "text/plain": [
       "Index(['tgrep_id', 'EntireSentence', 'PreceedingContext', 'Wh', 'ModalPresent',\n",
       "       'Question', 'AResponse', 'AllResponse', 'TheResponse', 'Matrix'],\n",
       "      dtype='object')"
      ]
     },
     "execution_count": 120,
     "metadata": {},
     "output_type": "execute_result"
    }
   ],
   "source": [
    "df_final.columns"
   ]
  },
  {
   "cell_type": "code",
   "execution_count": 121,
   "metadata": {},
   "outputs": [],
   "source": [
    "lm = exp[[\"workerid\",\"tgrep_id\",\"paraphrase\",\"rating\"]].merge(df_final, how = 'inner', indicator=False)"
   ]
  },
  {
   "cell_type": "code",
   "execution_count": 122,
   "metadata": {},
   "outputs": [],
   "source": [
    "lm = lm[[\"workerid\",\"tgrep_id\",\"paraphrase\",\"rating\",\"Question\",\"PreceedingContext\",\"Wh\",\"ModalPresent\"]]"
   ]
  },
  {
   "cell_type": "code",
   "execution_count": null,
   "metadata": {},
   "outputs": [],
   "source": []
  },
  {
   "cell_type": "code",
   "execution_count": 123,
   "metadata": {},
   "outputs": [],
   "source": [
    "lm.to_csv(\"../../analysis/03_experiment/data/lm_data.csv\")"
   ]
  },
  {
   "cell_type": "markdown",
   "metadata": {},
   "source": [
    "# Controls"
   ]
  },
  {
   "cell_type": "code",
   "execution_count": 21,
   "metadata": {},
   "outputs": [],
   "source": [
    "controls = pd.read_csv(\"../../experiments/clean_corpus/controls.csv\")"
   ]
  },
  {
   "cell_type": "code",
   "execution_count": 22,
   "metadata": {},
   "outputs": [],
   "source": [
    "controls[\"Wh\"] = \"none\"\n",
    "controls[\"ModalPresent\"] = \"no\""
   ]
  },
  {
   "cell_type": "code",
   "execution_count": 23,
   "metadata": {},
   "outputs": [],
   "source": [
    "controls = controls[[\"TGrepID\",\"EntireSentence\",\"PreceedingContext\",\"Wh\",\"ModalPresent\",\"AResponse\",\"AllResponse\",\"TheResponse\"]]"
   ]
  },
  {
   "cell_type": "markdown",
   "metadata": {},
   "source": [
    "## Create randomly sampled files"
   ]
  },
  {
   "cell_type": "markdown",
   "metadata": {},
   "source": [
    "### TEST SAMPLE"
   ]
  },
  {
   "cell_type": "code",
   "execution_count": 327,
   "metadata": {},
   "outputs": [
    {
     "data": {
      "text/plain": [
       "31.09375"
      ]
     },
     "execution_count": 327,
     "metadata": {},
     "output_type": "execute_result"
    }
   ],
   "source": [
    "len(df_final)/32"
   ]
  },
  {
   "cell_type": "code",
   "execution_count": 141,
   "metadata": {},
   "outputs": [
    {
     "data": {
      "text/plain": [
       "995"
      ]
     },
     "execution_count": 141,
     "metadata": {},
     "output_type": "execute_result"
    }
   ],
   "source": [
    "# 32 lists of 30, 1 list of 35\n",
    "30*32 +35"
   ]
  },
  {
   "cell_type": "markdown",
   "metadata": {},
   "source": [
    "#### For Modal Balancing:\n",
    "- Lists 1-29: 4\n",
    "    - List 1-15: 4\n",
    "    - List 16-29: 4\n",
    "- List 30-32: 1\n",
    "- List 33: 2"
   ]
  },
  {
   "cell_type": "code",
   "execution_count": 144,
   "metadata": {},
   "outputs": [
    {
     "data": {
      "text/plain": [
       "ModalPresent\n",
       "no     874\n",
       "yes    121\n",
       "Name: ModalPresent, dtype: int64"
      ]
     },
     "execution_count": 144,
     "metadata": {},
     "output_type": "execute_result"
    }
   ],
   "source": [
    "df_final.groupby([\"ModalPresent\"])[\"ModalPresent\"].count()"
   ]
  },
  {
   "cell_type": "markdown",
   "metadata": {},
   "source": [
    "Modals"
   ]
  },
  {
   "cell_type": "code",
   "execution_count": 145,
   "metadata": {},
   "outputs": [
    {
     "data": {
      "text/plain": [
       "3.6666666666666665"
      ]
     },
     "execution_count": 145,
     "metadata": {},
     "output_type": "execute_result"
    }
   ],
   "source": [
    "121/33"
   ]
  },
  {
   "cell_type": "code",
   "execution_count": 161,
   "metadata": {},
   "outputs": [
    {
     "data": {
      "text/plain": [
       "5"
      ]
     },
     "execution_count": 161,
     "metadata": {},
     "output_type": "execute_result"
    }
   ],
   "source": [
    "# modal leftovers\n",
    "121 - 4*29"
   ]
  },
  {
   "cell_type": "markdown",
   "metadata": {},
   "source": [
    "### For Wh Balancing"
   ]
  },
  {
   "cell_type": "code",
   "execution_count": 306,
   "metadata": {},
   "outputs": [
    {
     "data": {
      "text/plain": [
       "Wh\n",
       "how      184\n",
       "what     585\n",
       "when      15\n",
       "where     97\n",
       "who       54\n",
       "why       60\n",
       "Name: Wh, dtype: int64"
      ]
     },
     "execution_count": 306,
     "metadata": {},
     "output_type": "execute_result"
    }
   ],
   "source": [
    "df_final.groupby([\"Wh\"])[\"Wh\"].count()"
   ]
  },
  {
   "cell_type": "markdown",
   "metadata": {},
   "source": [
    "#### When:\n",
    "- List 1-15: 1"
   ]
  },
  {
   "cell_type": "markdown",
   "metadata": {},
   "source": [
    "#### Who:\n",
    "- List 1-15: 2\n",
    "- List 15-21: 2\n",
    "- List 22-33: 1"
   ]
  },
  {
   "cell_type": "code",
   "execution_count": 189,
   "metadata": {},
   "outputs": [
    {
     "data": {
      "text/plain": [
       "1.6363636363636365"
      ]
     },
     "execution_count": 189,
     "metadata": {},
     "output_type": "execute_result"
    }
   ],
   "source": [
    "54/33"
   ]
  },
  {
   "cell_type": "code",
   "execution_count": 197,
   "metadata": {},
   "outputs": [
    {
     "data": {
      "text/plain": [
       "54"
      ]
     },
     "execution_count": 197,
     "metadata": {},
     "output_type": "execute_result"
    }
   ],
   "source": [
    "21*2 + 12"
   ]
  },
  {
   "cell_type": "markdown",
   "metadata": {},
   "source": []
  },
  {
   "cell_type": "markdown",
   "metadata": {},
   "source": [
    "#### Why:\n",
    "- List 1-15: 2\n",
    "- List 16-21: 2\n",
    "- List 22-27: 2\n",
    "- List 28-33: 1"
   ]
  },
  {
   "cell_type": "code",
   "execution_count": 199,
   "metadata": {},
   "outputs": [
    {
     "data": {
      "text/plain": [
       "1.8181818181818181"
      ]
     },
     "execution_count": 199,
     "metadata": {},
     "output_type": "execute_result"
    }
   ],
   "source": [
    "60/33"
   ]
  },
  {
   "cell_type": "code",
   "execution_count": 205,
   "metadata": {},
   "outputs": [
    {
     "data": {
      "text/plain": [
       "60"
      ]
     },
     "execution_count": 205,
     "metadata": {},
     "output_type": "execute_result"
    }
   ],
   "source": [
    "27*2 + 6"
   ]
  },
  {
   "cell_type": "markdown",
   "metadata": {},
   "source": [
    "#### Where:\n",
    "- List 1-15: 3\n",
    "- List 16-31: 3\n",
    "- List 32-33: 2"
   ]
  },
  {
   "cell_type": "code",
   "execution_count": 208,
   "metadata": {},
   "outputs": [
    {
     "data": {
      "text/plain": [
       "2.9393939393939394"
      ]
     },
     "execution_count": 208,
     "metadata": {},
     "output_type": "execute_result"
    }
   ],
   "source": [
    "97/33"
   ]
  },
  {
   "cell_type": "code",
   "execution_count": 212,
   "metadata": {},
   "outputs": [
    {
     "data": {
      "text/plain": [
       "97"
      ]
     },
     "execution_count": 212,
     "metadata": {},
     "output_type": "execute_result"
    }
   ],
   "source": [
    "31*3 + 2*2"
   ]
  },
  {
   "cell_type": "markdown",
   "metadata": {},
   "source": [
    "#### How:\n",
    "- List 1-15: 6\n",
    "- List 16-27: 6\n",
    "- List 28-31: 4\n",
    "- List 32-33: 3"
   ]
  },
  {
   "cell_type": "code",
   "execution_count": 264,
   "metadata": {},
   "outputs": [
    {
     "data": {
      "text/plain": [
       "184"
      ]
     },
     "execution_count": 264,
     "metadata": {},
     "output_type": "execute_result"
    }
   ],
   "source": [
    "27*6 + 4*4 + 2*3"
   ]
  },
  {
   "cell_type": "markdown",
   "metadata": {},
   "source": [
    "#### What: \n",
    "- Lists 1-15: 16\n",
    "- List 16-29: 18**\n",
    "- Lists 30-32: 16**\n",
    "- List 33: 15**"
   ]
  },
  {
   "cell_type": "code",
   "execution_count": 328,
   "metadata": {},
   "outputs": [
    {
     "data": {
      "text/plain": [
       "585"
      ]
     },
     "execution_count": 328,
     "metadata": {},
     "output_type": "execute_result"
    }
   ],
   "source": [
    "29*18+3*16+1*15"
   ]
  },
  {
   "cell_type": "code",
   "execution_count": 330,
   "metadata": {},
   "outputs": [
    {
     "data": {
      "text/plain": [
       "557"
      ]
     },
     "execution_count": 330,
     "metadata": {},
     "output_type": "execute_result"
    }
   ],
   "source": [
    "15*16 + 6*17 + 6*18 + 2*21 + 2*21 + 1*23 + 1*28"
   ]
  },
  {
   "cell_type": "code",
   "execution_count": 331,
   "metadata": {},
   "outputs": [
    {
     "data": {
      "text/plain": [
       "28"
      ]
     },
     "execution_count": 331,
     "metadata": {},
     "output_type": "execute_result"
    }
   ],
   "source": [
    "585-557"
   ]
  },
  {
   "cell_type": "markdown",
   "metadata": {},
   "source": [
    "Lists 1-15 (30):\n",
    "    1 when\n",
    "    2 who\n",
    "    2 why\n",
    "    3 where\n",
    "    6 how\n",
    "    16 what\n",
    "\n",
    "List 16-21 (30):\n",
    "    0 when\n",
    "    2 who\n",
    "    2 why\n",
    "    3 where\n",
    "    6 how\n",
    "    17 what\n",
    "\n",
    "\n",
    "List 22-27 (30):\n",
    "    0 when\n",
    "    1 who\n",
    "    2 why\n",
    "    3 where\n",
    "    6 how\n",
    "    18 what\n",
    "\n",
    "List 28-29 (30):\n",
    "    0 when\n",
    "    1 who\n",
    "    1 why\n",
    "    3 where\n",
    "    4 how\n",
    "    21 what\n",
    "\n",
    "List 30-31 (30):\n",
    "    0 when\n",
    "    1 who\n",
    "    1 why\n",
    "    3 where\n",
    "    4 how\n",
    "    21 what\n",
    "\n",
    "List 32 (30):\n",
    "    0 when\n",
    "    1 who\n",
    "    1 why\n",
    "    2 where\n",
    "    3 how\n",
    "    23 what\n",
    "\n",
    "List 33 (35):\n",
    "    1 who\n",
    "    1 why\n",
    "    2 where\n",
    "    3 how\n",
    "    28 what\n"
   ]
  },
  {
   "cell_type": "code",
   "execution_count": 38,
   "metadata": {},
   "outputs": [],
   "source": [
    "df_final = pd.concat([who,where,how,why,when,what])"
   ]
  },
  {
   "cell_type": "code",
   "execution_count": 39,
   "metadata": {},
   "outputs": [],
   "source": [
    "for n in range(1,16):\n",
    "    mod_sample = df_final[df_final[\"ModalPresent\"] == \"yes\"].sample(4)\n",
    "\n",
    "    i = len(mod_sample[mod_sample[\"Wh\"] == \"why\"])\n",
    "    j = len(mod_sample[mod_sample[\"Wh\"] == \"when\"])\n",
    "    k = len(mod_sample[mod_sample[\"Wh\"] == \"what\"])\n",
    "    l = len(mod_sample[mod_sample[\"Wh\"] == \"how\"])\n",
    "    m = len(mod_sample[mod_sample[\"Wh\"] == \"who\"])\n",
    "    o = len(mod_sample[mod_sample[\"Wh\"] == \"where\"])\n",
    "    df_final = df_final.drop(mod_sample.index)\n",
    "\n",
    "    when_sample = df_final[df_final[\"Wh\"] == \"when\"].sample(1-j)\n",
    "    df_final = df_final.drop(when_sample.index)  \n",
    "\n",
    "    who_sample = df_final[\n",
    "        (df_final[\"Wh\"] == \"who\") &\n",
    "        (df_final[\"ModalPresent\"] == \"no\")\n",
    "    ].sample(2-m)\n",
    "    df_final = df_final.drop(who_sample.index)    \n",
    "    \n",
    "    why_sample = df_final[\n",
    "        (df_final[\"Wh\"] == \"why\") &\n",
    "        (df_final[\"ModalPresent\"] == \"no\")\n",
    "    ].sample(2-i)\n",
    "    df_final = df_final.drop(why_sample.index)\n",
    "    \n",
    "    where_sample = df_final[\n",
    "        (df_final[\"Wh\"] == \"where\") &\n",
    "        (df_final[\"ModalPresent\"] == \"no\")\n",
    "    ].sample(3-o)\n",
    "    df_final = df_final.drop(where_sample.index)\n",
    "\n",
    "    how_sample = df_final[\n",
    "        (df_final[\"Wh\"] == \"how\") &\n",
    "        (df_final[\"ModalPresent\"] == \"no\")\n",
    "    ].sample(6-l)\n",
    "    df_final = df_final.drop(how_sample.index)    \n",
    "    \n",
    "    what_sample = df_final[\n",
    "        (df_final[\"Wh\"] == \"what\") &\n",
    "        (df_final[\"ModalPresent\"] == \"no\")\n",
    "    ].sample(16-k)\n",
    "    df_final = df_final.drop(what_sample.index)\n",
    "    \n",
    "    total = pd.concat([mod_sample,why_sample,when_sample,what_sample,how_sample,who_sample,where_sample,controls])\n",
    "\n",
    "    # save to file\n",
    "    filename = f\"../../experiments/clean_corpus/03_experiment/corpus_{n}.txt\".format(n=n)\n",
    "    total.to_csv(filename,header=True,sep=\"\\t\",index=False)"
   ]
  },
  {
   "cell_type": "code",
   "execution_count": null,
   "metadata": {},
   "outputs": [],
   "source": []
  },
  {
   "cell_type": "code",
   "execution_count": 40,
   "metadata": {},
   "outputs": [
    {
     "data": {
      "text/plain": [
       "545"
      ]
     },
     "execution_count": 40,
     "metadata": {},
     "output_type": "execute_result"
    }
   ],
   "source": [
    "len(df_final)"
   ]
  },
  {
   "cell_type": "code",
   "execution_count": 41,
   "metadata": {},
   "outputs": [
    {
     "data": {
      "text/plain": [
       "Wh\n",
       "how       94\n",
       "what     345\n",
       "where     52\n",
       "who       24\n",
       "why       30\n",
       "Name: Wh, dtype: int64"
      ]
     },
     "execution_count": 41,
     "metadata": {},
     "output_type": "execute_result"
    }
   ],
   "source": [
    "df_final.groupby([\"Wh\"])[\"Wh\"].count()"
   ]
  },
  {
   "cell_type": "markdown",
   "metadata": {},
   "source": [
    "who\n",
    "9/2 = 4.5\n",
    "\n",
    "who\n",
    "9/2 = 3.5\n",
    "\n",
    "how\n",
    "49/2 = 24.5"
   ]
  },
  {
   "cell_type": "code",
   "execution_count": 42,
   "metadata": {},
   "outputs": [
    {
     "data": {
      "text/plain": [
       "ModalPresent\n",
       "no     485\n",
       "yes     60\n",
       "Name: ModalPresent, dtype: int64"
      ]
     },
     "execution_count": 42,
     "metadata": {},
     "output_type": "execute_result"
    }
   ],
   "source": [
    "df_final.groupby([\"ModalPresent\"])[\"ModalPresent\"].count()"
   ]
  },
  {
   "cell_type": "code",
   "execution_count": 36,
   "metadata": {},
   "outputs": [
    {
     "data": {
      "text/plain": [
       "6.5"
      ]
     },
     "execution_count": 36,
     "metadata": {},
     "output_type": "execute_result"
    }
   ],
   "source": [
    "13/2"
   ]
  },
  {
   "cell_type": "markdown",
   "metadata": {},
   "source": [
    "Second iteration"
   ]
  },
  {
   "cell_type": "code",
   "execution_count": 44,
   "metadata": {},
   "outputs": [],
   "source": [
    "for n in range(16,22):\n",
    "    mod_sample = df_final[df_final[\"ModalPresent\"] == \"yes\"].sample(4)\n",
    "\n",
    "    i = len(mod_sample[mod_sample[\"Wh\"] == \"why\"])\n",
    "    k = len(mod_sample[mod_sample[\"Wh\"] == \"what\"])\n",
    "    l = len(mod_sample[mod_sample[\"Wh\"] == \"how\"])\n",
    "    m = len(mod_sample[mod_sample[\"Wh\"] == \"who\"])\n",
    "    o = len(mod_sample[mod_sample[\"Wh\"] == \"where\"])\n",
    "    df_final = df_final.drop(mod_sample.index)\n",
    "\n",
    "    who_sample = df_final[\n",
    "        (df_final[\"Wh\"] == \"who\") &\n",
    "        (df_final[\"ModalPresent\"] == \"no\")\n",
    "    ].sample(2-m)\n",
    "    df_final = df_final.drop(who_sample.index)    \n",
    "    \n",
    "    why_sample = df_final[\n",
    "        (df_final[\"Wh\"] == \"why\") &\n",
    "        (df_final[\"ModalPresent\"] == \"no\")\n",
    "    ].sample(2-i)\n",
    "    df_final = df_final.drop(why_sample.index)\n",
    "    \n",
    "    where_sample = df_final[\n",
    "        (df_final[\"Wh\"] == \"where\") &\n",
    "        (df_final[\"ModalPresent\"] == \"no\")\n",
    "    ].sample(3-o)\n",
    "    df_final = df_final.drop(where_sample.index)\n",
    "\n",
    "    how_sample = df_final[\n",
    "        (df_final[\"Wh\"] == \"how\") &\n",
    "        (df_final[\"ModalPresent\"] == \"no\")\n",
    "    ].sample(6-l)\n",
    "    df_final = df_final.drop(how_sample.index)    \n",
    "    \n",
    "    what_sample = df_final[\n",
    "        (df_final[\"Wh\"] == \"what\") &\n",
    "        (df_final[\"ModalPresent\"] == \"no\")\n",
    "    ].sample(17-k)\n",
    "    df_final = df_final.drop(what_sample.index)\n",
    "    \n",
    "    total = pd.concat([mod_sample,why_sample,what_sample,how_sample,who_sample,where_sample,controls])\n",
    "\n",
    "    # save to file\n",
    "    filename = f\"../../experiments/clean_corpus/03_experiment/corpus_{n}.txt\".format(n=n)\n",
    "    total.to_csv(filename,header=True,sep=\"\\t\",index=False)"
   ]
  },
  {
   "cell_type": "code",
   "execution_count": 29,
   "metadata": {},
   "outputs": [
    {
     "data": {
      "text/plain": [
       "30"
      ]
     },
     "execution_count": 29,
     "metadata": {},
     "output_type": "execute_result"
    }
   ],
   "source": [
    "23+4+3"
   ]
  },
  {
   "cell_type": "code",
   "execution_count": 45,
   "metadata": {},
   "outputs": [
    {
     "data": {
      "text/plain": [
       "301"
      ]
     },
     "execution_count": 45,
     "metadata": {},
     "output_type": "execute_result"
    }
   ],
   "source": [
    "len(df_final)"
   ]
  },
  {
   "cell_type": "code",
   "execution_count": 107,
   "metadata": {},
   "outputs": [
    {
     "data": {
      "text/plain": [
       "ModalPresent\n",
       "no     874\n",
       "yes    121\n",
       "Name: ModalPresent, dtype: int64"
      ]
     },
     "execution_count": 107,
     "metadata": {},
     "output_type": "execute_result"
    }
   ],
   "source": [
    "df_final.groupby([\"ModalPresent\"])[\"ModalPresent\"].count()"
   ]
  },
  {
   "cell_type": "code",
   "execution_count": 110,
   "metadata": {},
   "outputs": [
    {
     "data": {
      "text/plain": [
       "33.166666666666664"
      ]
     },
     "execution_count": 110,
     "metadata": {},
     "output_type": "execute_result"
    }
   ],
   "source": [
    "995/30"
   ]
  },
  {
   "cell_type": "code",
   "execution_count": 108,
   "metadata": {},
   "outputs": [
    {
     "data": {
      "text/plain": [
       "Wh\n",
       "how      184\n",
       "what     585\n",
       "when      15\n",
       "where     97\n",
       "who       54\n",
       "why       60\n",
       "Name: Wh, dtype: int64"
      ]
     },
     "execution_count": 108,
     "metadata": {},
     "output_type": "execute_result"
    }
   ],
   "source": [
    "df_final.groupby([\"Wh\"])[\"Wh\"].count()"
   ]
  },
  {
   "cell_type": "code",
   "execution_count": 46,
   "metadata": {},
   "outputs": [
    {
     "ename": "ValueError",
     "evalue": "a must be greater than 0 unless no samples are taken",
     "output_type": "error",
     "traceback": [
      "\u001b[0;31m---------------------------------------------------------------------------\u001b[0m",
      "\u001b[0;31mValueError\u001b[0m                                Traceback (most recent call last)",
      "\u001b[0;32m<ipython-input-46-a48a24394bd9>\u001b[0m in \u001b[0;36m<module>\u001b[0;34m\u001b[0m\n\u001b[1;32m      9\u001b[0m     \u001b[0mdf_final\u001b[0m \u001b[0;34m=\u001b[0m \u001b[0mdf_final\u001b[0m\u001b[0;34m.\u001b[0m\u001b[0mdrop\u001b[0m\u001b[0;34m(\u001b[0m\u001b[0mmod_sample\u001b[0m\u001b[0;34m.\u001b[0m\u001b[0mindex\u001b[0m\u001b[0;34m)\u001b[0m\u001b[0;34m\u001b[0m\u001b[0;34m\u001b[0m\u001b[0m\n\u001b[1;32m     10\u001b[0m \u001b[0;34m\u001b[0m\u001b[0m\n\u001b[0;32m---> 11\u001b[0;31m     who_sample = df_final[\n\u001b[0m\u001b[1;32m     12\u001b[0m         \u001b[0;34m(\u001b[0m\u001b[0mdf_final\u001b[0m\u001b[0;34m[\u001b[0m\u001b[0;34m\"Wh\"\u001b[0m\u001b[0;34m]\u001b[0m \u001b[0;34m==\u001b[0m \u001b[0;34m\"who\"\u001b[0m\u001b[0;34m)\u001b[0m \u001b[0;34m&\u001b[0m\u001b[0;34m\u001b[0m\u001b[0;34m\u001b[0m\u001b[0m\n\u001b[1;32m     13\u001b[0m         \u001b[0;34m(\u001b[0m\u001b[0mdf_final\u001b[0m\u001b[0;34m[\u001b[0m\u001b[0;34m\"ModalPresent\"\u001b[0m\u001b[0;34m]\u001b[0m \u001b[0;34m==\u001b[0m \u001b[0;34m\"no\"\u001b[0m\u001b[0;34m)\u001b[0m\u001b[0;34m\u001b[0m\u001b[0;34m\u001b[0m\u001b[0m\n",
      "\u001b[0;32m~/opt/anaconda3/lib/python3.8/site-packages/pandas/core/generic.py\u001b[0m in \u001b[0;36msample\u001b[0;34m(self, n, frac, replace, weights, random_state, axis)\u001b[0m\n\u001b[1;32m   5059\u001b[0m             )\n\u001b[1;32m   5060\u001b[0m \u001b[0;34m\u001b[0m\u001b[0m\n\u001b[0;32m-> 5061\u001b[0;31m         \u001b[0mlocs\u001b[0m \u001b[0;34m=\u001b[0m \u001b[0mrs\u001b[0m\u001b[0;34m.\u001b[0m\u001b[0mchoice\u001b[0m\u001b[0;34m(\u001b[0m\u001b[0maxis_length\u001b[0m\u001b[0;34m,\u001b[0m \u001b[0msize\u001b[0m\u001b[0;34m=\u001b[0m\u001b[0mn\u001b[0m\u001b[0;34m,\u001b[0m \u001b[0mreplace\u001b[0m\u001b[0;34m=\u001b[0m\u001b[0mreplace\u001b[0m\u001b[0;34m,\u001b[0m \u001b[0mp\u001b[0m\u001b[0;34m=\u001b[0m\u001b[0mweights\u001b[0m\u001b[0;34m)\u001b[0m\u001b[0;34m\u001b[0m\u001b[0;34m\u001b[0m\u001b[0m\n\u001b[0m\u001b[1;32m   5062\u001b[0m         \u001b[0;32mreturn\u001b[0m \u001b[0mself\u001b[0m\u001b[0;34m.\u001b[0m\u001b[0mtake\u001b[0m\u001b[0;34m(\u001b[0m\u001b[0mlocs\u001b[0m\u001b[0;34m,\u001b[0m \u001b[0maxis\u001b[0m\u001b[0;34m=\u001b[0m\u001b[0maxis\u001b[0m\u001b[0;34m)\u001b[0m\u001b[0;34m\u001b[0m\u001b[0;34m\u001b[0m\u001b[0m\n\u001b[1;32m   5063\u001b[0m \u001b[0;34m\u001b[0m\u001b[0m\n",
      "\u001b[0;32mmtrand.pyx\u001b[0m in \u001b[0;36mnumpy.random.mtrand.RandomState.choice\u001b[0;34m()\u001b[0m\n",
      "\u001b[0;31mValueError\u001b[0m: a must be greater than 0 unless no samples are taken"
     ]
    }
   ],
   "source": [
    "for n in range(22,28):\n",
    "    mod_sample = df_final[df_final[\"ModalPresent\"] == \"yes\"].sample(4)\n",
    "\n",
    "    i = len(mod_sample[mod_sample[\"Wh\"] == \"why\"])\n",
    "    k = len(mod_sample[mod_sample[\"Wh\"] == \"what\"])\n",
    "    l = len(mod_sample[mod_sample[\"Wh\"] == \"how\"])\n",
    "    m = len(mod_sample[mod_sample[\"Wh\"] == \"who\"])\n",
    "    o = len(mod_sample[mod_sample[\"Wh\"] == \"where\"])\n",
    "    df_final = df_final.drop(mod_sample.index)\n",
    "\n",
    "    who_sample = df_final[\n",
    "        (df_final[\"Wh\"] == \"who\") &\n",
    "        (df_final[\"ModalPresent\"] == \"no\")\n",
    "    ].sample(1-m)\n",
    "    df_final = df_final.drop(who_sample.index)    \n",
    "    \n",
    "    why_sample = df_final[\n",
    "        (df_final[\"Wh\"] == \"why\") &\n",
    "        (df_final[\"ModalPresent\"] == \"no\")\n",
    "    ].sample(2-i)\n",
    "    df_final = df_final.drop(why_sample.index)\n",
    "    \n",
    "    where_sample = df_final[\n",
    "        (df_final[\"Wh\"] == \"where\") &\n",
    "        (df_final[\"ModalPresent\"] == \"no\")\n",
    "    ].sample(3-o)\n",
    "    df_final = df_final.drop(where_sample.index)\n",
    "\n",
    "    how_sample = df_final[\n",
    "        (df_final[\"Wh\"] == \"how\") &\n",
    "        (df_final[\"ModalPresent\"] == \"no\")\n",
    "    ].sample(6-l)\n",
    "    df_final = df_final.drop(how_sample.index)    \n",
    "    \n",
    "    what_sample = df_final[\n",
    "        (df_final[\"Wh\"] == \"what\") &\n",
    "        (df_final[\"ModalPresent\"] == \"no\")\n",
    "    ].sample(18-k)\n",
    "    df_final = df_final.drop(what_sample.index)\n",
    "    \n",
    "    total = pd.concat([mod_sample,why_sample,what_sample,how_sample,who_sample,where_sample,controls])\n",
    "\n",
    "    # save to file\n",
    "    filename = f\"../../experiments/clean_corpus/03_experiment/corpus_{n}.txt\".format(n=n)\n",
    "    total.to_csv(filename,header=True,sep=\"\\t\",index=False)"
   ]
  },
  {
   "cell_type": "code",
   "execution_count": null,
   "metadata": {},
   "outputs": [],
   "source": [
    "len(d_final)"
   ]
  },
  {
   "cell_type": "code",
   "execution_count": 27,
   "metadata": {},
   "outputs": [
    {
     "ename": "ValueError",
     "evalue": "A negative number of rows requested. Please provide positive value.",
     "output_type": "error",
     "traceback": [
      "\u001b[0;31m---------------------------------------------------------------------------\u001b[0m",
      "\u001b[0;31mValueError\u001b[0m                                Traceback (most recent call last)",
      "\u001b[0;32m<ipython-input-27-3679667b18d4>\u001b[0m in \u001b[0;36m<module>\u001b[0;34m\u001b[0m\n\u001b[1;32m     15\u001b[0m     \u001b[0mdf_final\u001b[0m \u001b[0;34m=\u001b[0m \u001b[0mdf_final\u001b[0m\u001b[0;34m.\u001b[0m\u001b[0mdrop\u001b[0m\u001b[0;34m(\u001b[0m\u001b[0mwho_sample\u001b[0m\u001b[0;34m.\u001b[0m\u001b[0mindex\u001b[0m\u001b[0;34m)\u001b[0m\u001b[0;34m\u001b[0m\u001b[0;34m\u001b[0m\u001b[0m\n\u001b[1;32m     16\u001b[0m \u001b[0;34m\u001b[0m\u001b[0m\n\u001b[0;32m---> 17\u001b[0;31m     why_sample = df_final[\n\u001b[0m\u001b[1;32m     18\u001b[0m         \u001b[0;34m(\u001b[0m\u001b[0mdf_final\u001b[0m\u001b[0;34m[\u001b[0m\u001b[0;34m\"Wh\"\u001b[0m\u001b[0;34m]\u001b[0m \u001b[0;34m==\u001b[0m \u001b[0;34m\"why\"\u001b[0m\u001b[0;34m)\u001b[0m \u001b[0;34m&\u001b[0m\u001b[0;34m\u001b[0m\u001b[0;34m\u001b[0m\u001b[0m\n\u001b[1;32m     19\u001b[0m         \u001b[0;34m(\u001b[0m\u001b[0mdf_final\u001b[0m\u001b[0;34m[\u001b[0m\u001b[0;34m\"ModalPresent\"\u001b[0m\u001b[0;34m]\u001b[0m \u001b[0;34m==\u001b[0m \u001b[0;34m\"no\"\u001b[0m\u001b[0;34m)\u001b[0m\u001b[0;34m\u001b[0m\u001b[0;34m\u001b[0m\u001b[0m\n",
      "\u001b[0;32m~/opt/anaconda3/lib/python3.8/site-packages/pandas/core/generic.py\u001b[0m in \u001b[0;36msample\u001b[0;34m(self, n, frac, replace, weights, random_state, axis)\u001b[0m\n\u001b[1;32m   5055\u001b[0m         \u001b[0;31m# Check for negative sizes\u001b[0m\u001b[0;34m\u001b[0m\u001b[0;34m\u001b[0m\u001b[0;34m\u001b[0m\u001b[0m\n\u001b[1;32m   5056\u001b[0m         \u001b[0;32mif\u001b[0m \u001b[0mn\u001b[0m \u001b[0;34m<\u001b[0m \u001b[0;36m0\u001b[0m\u001b[0;34m:\u001b[0m\u001b[0;34m\u001b[0m\u001b[0;34m\u001b[0m\u001b[0m\n\u001b[0;32m-> 5057\u001b[0;31m             raise ValueError(\n\u001b[0m\u001b[1;32m   5058\u001b[0m                 \u001b[0;34m\"A negative number of rows requested. Please provide positive value.\"\u001b[0m\u001b[0;34m\u001b[0m\u001b[0;34m\u001b[0m\u001b[0m\n\u001b[1;32m   5059\u001b[0m             )\n",
      "\u001b[0;31mValueError\u001b[0m: A negative number of rows requested. Please provide positive value."
     ]
    }
   ],
   "source": [
    "for n in range(28,30):\n",
    "    mod_sample = df_final[df_final[\"ModalPresent\"] == \"yes\"].sample(4)\n",
    "\n",
    "    i = len(mod_sample[mod_sample[\"Wh\"] == \"why\"])\n",
    "    k = len(mod_sample[mod_sample[\"Wh\"] == \"what\"])\n",
    "    l = len(mod_sample[mod_sample[\"Wh\"] == \"how\"])\n",
    "    m = len(mod_sample[mod_sample[\"Wh\"] == \"who\"])\n",
    "    o = len(mod_sample[mod_sample[\"Wh\"] == \"where\"])\n",
    "    df_final = df_final.drop(mod_sample.index)\n",
    "\n",
    "    who_sample = df_final[\n",
    "        (df_final[\"Wh\"] == \"who\") &\n",
    "        (df_final[\"ModalPresent\"] == \"no\")\n",
    "    ].sample(1-m)\n",
    "    df_final = df_final.drop(who_sample.index)    \n",
    "    \n",
    "    why_sample = df_final[\n",
    "        (df_final[\"Wh\"] == \"why\") &\n",
    "        (df_final[\"ModalPresent\"] == \"no\")\n",
    "    ].sample(1-i)\n",
    "    df_final = df_final.drop(why_sample.index)\n",
    "    \n",
    "    where_sample = df_final[\n",
    "        (df_final[\"Wh\"] == \"where\") &\n",
    "        (df_final[\"ModalPresent\"] == \"no\")\n",
    "    ].sample(3-o)\n",
    "    df_final = df_final.drop(where_sample.index)\n",
    "\n",
    "    how_sample = df_final[\n",
    "        (df_final[\"Wh\"] == \"how\") &\n",
    "        (df_final[\"ModalPresent\"] == \"no\")\n",
    "    ].sample(4-l)\n",
    "    df_final = df_final.drop(how_sample.index)    \n",
    "    \n",
    "    what_sample = df_final[\n",
    "        (df_final[\"Wh\"] == \"what\") &\n",
    "        (df_final[\"ModalPresent\"] == \"no\")\n",
    "    ].sample(21-k)\n",
    "    df_final = df_final.drop(what_sample.index)\n",
    "    \n",
    "    total = pd.concat([mod_sample,why_sample,what_sample,how_sample,who_sample,where_sample,controls])\n",
    "\n",
    "    # save to file\n",
    "    filename = f\"../../experiments/clean_corpus/03_experiment/corpus_{n}.txt\".format(n=n)\n",
    "    total.to_csv(filename,header=True,sep=\"\\t\",index=False)"
   ]
  },
  {
   "cell_type": "code",
   "execution_count": null,
   "metadata": {},
   "outputs": [],
   "source": [
    "len(d_final)"
   ]
  },
  {
   "cell_type": "code",
   "execution_count": 405,
   "metadata": {},
   "outputs": [],
   "source": [
    "for n in range(30,32):\n",
    "    mod_sample = df_final[df_final[\"ModalPresent\"] == \"yes\"].sample(1)\n",
    "\n",
    "    i = len(mod_sample[mod_sample[\"Wh\"] == \"why\"])\n",
    "    k = len(mod_sample[mod_sample[\"Wh\"] == \"what\"])\n",
    "    l = len(mod_sample[mod_sample[\"Wh\"] == \"how\"])\n",
    "    m = len(mod_sample[mod_sample[\"Wh\"] == \"who\"])\n",
    "    o = len(mod_sample[mod_sample[\"Wh\"] == \"where\"])\n",
    "    df_final = df_final.drop(mod_sample.index)\n",
    "\n",
    "    who_sample = df_final[\n",
    "        (df_final[\"Wh\"] == \"who\") &\n",
    "        (df_final[\"ModalPresent\"] == \"no\")\n",
    "    ].sample(1-m)\n",
    "    df_final = df_final.drop(who_sample.index)    \n",
    "    \n",
    "    why_sample = df_final[\n",
    "        (df_final[\"Wh\"] == \"why\") &\n",
    "        (df_final[\"ModalPresent\"] == \"no\")\n",
    "    ].sample(1-i)\n",
    "    df_final = df_final.drop(why_sample.index)\n",
    "    \n",
    "    where_sample = df_final[\n",
    "        (df_final[\"Wh\"] == \"where\") &\n",
    "        (df_final[\"ModalPresent\"] == \"no\")\n",
    "    ].sample(3-o)\n",
    "    df_final = df_final.drop(where_sample.index)\n",
    "\n",
    "    how_sample = df_final[\n",
    "        (df_final[\"Wh\"] == \"how\") &\n",
    "        (df_final[\"ModalPresent\"] == \"no\")\n",
    "    ].sample(4-l)\n",
    "    df_final = df_final.drop(how_sample.index)    \n",
    "    \n",
    "    what_sample = df_final[\n",
    "        (df_final[\"Wh\"] == \"what\") &\n",
    "        (df_final[\"ModalPresent\"] == \"no\")\n",
    "    ].sample(21-k)\n",
    "    df_final = df_final.drop(what_sample.index)\n",
    "    \n",
    "    total = pd.concat([mod_sample,why_sample,what_sample,how_sample,who_sample,where_sample,controls])\n",
    "\n",
    "    # save to file\n",
    "    filename = f\"../../experiments/clean_corpus/03_experiment/corpus_{n}.txt\".format(n=n)\n",
    "    total.to_csv(filename,header=True,sep=\"\\t\",index=False)"
   ]
  },
  {
   "cell_type": "code",
   "execution_count": 407,
   "metadata": {},
   "outputs": [
    {
     "data": {
      "text/plain": [
       "65"
      ]
     },
     "execution_count": 407,
     "metadata": {},
     "output_type": "execute_result"
    }
   ],
   "source": [
    "len(df_final)"
   ]
  },
  {
   "cell_type": "code",
   "execution_count": 408,
   "metadata": {},
   "outputs": [],
   "source": [
    "for n in range(32,33):\n",
    "    mod_sample = df_final[df_final[\"ModalPresent\"] == \"yes\"].sample(1)\n",
    "\n",
    "    i = len(mod_sample[mod_sample[\"Wh\"] == \"why\"])\n",
    "    k = len(mod_sample[mod_sample[\"Wh\"] == \"what\"])\n",
    "    l = len(mod_sample[mod_sample[\"Wh\"] == \"how\"])\n",
    "    m = len(mod_sample[mod_sample[\"Wh\"] == \"who\"])\n",
    "    o = len(mod_sample[mod_sample[\"Wh\"] == \"where\"])\n",
    "    df_final = df_final.drop(mod_sample.index)\n",
    "\n",
    "    who_sample = df_final[\n",
    "        (df_final[\"Wh\"] == \"who\") &\n",
    "        (df_final[\"ModalPresent\"] == \"no\")\n",
    "    ].sample(1-m)\n",
    "    df_final = df_final.drop(who_sample.index)    \n",
    "    \n",
    "    why_sample = df_final[\n",
    "        (df_final[\"Wh\"] == \"why\") &\n",
    "        (df_final[\"ModalPresent\"] == \"no\")\n",
    "    ].sample(1-i)\n",
    "    df_final = df_final.drop(why_sample.index)\n",
    "    \n",
    "    where_sample = df_final[\n",
    "        (df_final[\"Wh\"] == \"where\") &\n",
    "        (df_final[\"ModalPresent\"] == \"no\")\n",
    "    ].sample(2-o)\n",
    "    df_final = df_final.drop(where_sample.index)\n",
    "\n",
    "    how_sample = df_final[\n",
    "        (df_final[\"Wh\"] == \"how\") &\n",
    "        (df_final[\"ModalPresent\"] == \"no\")\n",
    "    ].sample(3-l)\n",
    "    df_final = df_final.drop(how_sample.index)    \n",
    "    \n",
    "    what_sample = df_final[\n",
    "        (df_final[\"Wh\"] == \"what\") &\n",
    "        (df_final[\"ModalPresent\"] == \"no\")\n",
    "    ].sample(23-k)\n",
    "    df_final = df_final.drop(what_sample.index)\n",
    "    \n",
    "    total = pd.concat([mod_sample,why_sample,what_sample,how_sample,who_sample,where_sample,controls])\n",
    "\n",
    "    # save to file\n",
    "    filename = f\"../../experiments/clean_corpus/03_experiment/corpus_{n}.txt\".format(n=n)\n",
    "    total.to_csv(filename,header=True,sep=\"\\t\",index=False)"
   ]
  },
  {
   "cell_type": "code",
   "execution_count": 410,
   "metadata": {},
   "outputs": [
    {
     "data": {
      "text/plain": [
       "35"
      ]
     },
     "execution_count": 410,
     "metadata": {},
     "output_type": "execute_result"
    }
   ],
   "source": [
    "len(df_final)"
   ]
  },
  {
   "cell_type": "code",
   "execution_count": 411,
   "metadata": {},
   "outputs": [],
   "source": [
    "last = pd.concat([df_final,controls])"
   ]
  },
  {
   "cell_type": "code",
   "execution_count": 412,
   "metadata": {},
   "outputs": [],
   "source": [
    "last.to_csv(\"../../experiments/clean_corpus/03_experiment/corpus_33.txt\",header=True,sep=\"\\t\",index=False)"
   ]
  },
  {
   "cell_type": "markdown",
   "metadata": {},
   "source": [
    "## Pilot Samples"
   ]
  },
  {
   "cell_type": "markdown",
   "metadata": {},
   "source": [
    "### Pilot1"
   ]
  },
  {
   "cell_type": "code",
   "execution_count": 120,
   "metadata": {},
   "outputs": [
    {
     "data": {
      "text/html": [
       "<div>\n",
       "<style scoped>\n",
       "    .dataframe tbody tr th:only-of-type {\n",
       "        vertical-align: middle;\n",
       "    }\n",
       "\n",
       "    .dataframe tbody tr th {\n",
       "        vertical-align: top;\n",
       "    }\n",
       "\n",
       "    .dataframe thead th {\n",
       "        text-align: right;\n",
       "    }\n",
       "</style>\n",
       "<table border=\"1\" class=\"dataframe\">\n",
       "  <thead>\n",
       "    <tr style=\"text-align: right;\">\n",
       "      <th></th>\n",
       "      <th>Wh</th>\n",
       "      <th>EntireSentence</th>\n",
       "    </tr>\n",
       "  </thead>\n",
       "  <tbody>\n",
       "    <tr>\n",
       "      <th>0</th>\n",
       "      <td>how</td>\n",
       "      <td>1.858586</td>\n",
       "    </tr>\n",
       "    <tr>\n",
       "      <th>1</th>\n",
       "      <td>what</td>\n",
       "      <td>5.909091</td>\n",
       "    </tr>\n",
       "    <tr>\n",
       "      <th>2</th>\n",
       "      <td>when</td>\n",
       "      <td>0.151515</td>\n",
       "    </tr>\n",
       "    <tr>\n",
       "      <th>3</th>\n",
       "      <td>where</td>\n",
       "      <td>0.979798</td>\n",
       "    </tr>\n",
       "    <tr>\n",
       "      <th>4</th>\n",
       "      <td>who</td>\n",
       "      <td>0.545455</td>\n",
       "    </tr>\n",
       "    <tr>\n",
       "      <th>5</th>\n",
       "      <td>why</td>\n",
       "      <td>0.606061</td>\n",
       "    </tr>\n",
       "  </tbody>\n",
       "</table>\n",
       "</div>"
      ],
      "text/plain": [
       "      Wh  EntireSentence\n",
       "0    how        1.858586\n",
       "1   what        5.909091\n",
       "2   when        0.151515\n",
       "3  where        0.979798\n",
       "4    who        0.545455\n",
       "5    why        0.606061"
      ]
     },
     "execution_count": 120,
     "metadata": {},
     "output_type": "execute_result"
    }
   ],
   "source": [
    "df_final.pivot_table(index=['Wh'], values=\"EntireSentence\", aggfunc=len).groupby([\"Wh\"]).EntireSentence.transform(lambda x: x/99).reset_index()"
   ]
  },
  {
   "cell_type": "code",
   "execution_count": 121,
   "metadata": {},
   "outputs": [
    {
     "data": {
      "text/plain": [
       "10"
      ]
     },
     "execution_count": 121,
     "metadata": {},
     "output_type": "execute_result"
    }
   ],
   "source": [
    "1+5+1+1+1+1"
   ]
  },
  {
   "cell_type": "code",
   "execution_count": 116,
   "metadata": {},
   "outputs": [
    {
     "data": {
      "text/plain": [
       "99.5"
      ]
     },
     "execution_count": 116,
     "metadata": {},
     "output_type": "execute_result"
    }
   ],
   "source": [
    "995/10"
   ]
  },
  {
   "cell_type": "code",
   "execution_count": 125,
   "metadata": {},
   "outputs": [],
   "source": [
    "mod_sample = df_final[df_final[\"ModalPresent\"] == \"yes\"].sample(1)\n",
    "\n",
    "i = len(mod_sample[mod_sample[\"Wh\"] == \"why\"])\n",
    "j = len(mod_sample[mod_sample[\"Wh\"] == \"when\"])\n",
    "k = len(mod_sample[mod_sample[\"Wh\"] == \"what\"])\n",
    "l = len(mod_sample[mod_sample[\"Wh\"] == \"how\"])\n",
    "m = len(mod_sample[mod_sample[\"Wh\"] == \"who\"])\n",
    "n = len(mod_sample[mod_sample[\"Wh\"] == \"where\"])\n",
    "df_final = df_final.drop(mod_sample.index)\n",
    "\n",
    "why_sample = df_final[\n",
    "    (df_final[\"Wh\"] == \"why\") &\n",
    "    (df_final[\"ModalPresent\"] == \"no\")\n",
    "                     ].sample(1-i)\n",
    "df_final = df_final.drop(why_sample.index)\n",
    "\n",
    "when_sample = df_final[\n",
    "    (df_final[\"Wh\"] == \"when\") &\n",
    "    (df_final[\"ModalPresent\"] == \"no\")].sample(1-j)\n",
    "df_final = df_final.drop(when_sample.index)\n",
    "\n",
    "what_sample = df_final[\n",
    "    (df_final[\"Wh\"] == \"what\") &\n",
    "    (df_final[\"ModalPresent\"] == \"no\")].sample(5-k)\n",
    "df_final = df_final.drop(what_sample.index)\n",
    "\n",
    "how_sample = df_final[\n",
    "    (df_final[\"Wh\"] == \"how\") &\n",
    "    (df_final[\"ModalPresent\"] == \"no\")\n",
    "                     ].sample(1-l)\n",
    "df_final = df_final.drop(how_sample.index)\n",
    "\n",
    "who_sample = df_final[\n",
    "    (df_final[\"Wh\"] == \"who\") &\n",
    "    (df_final[\"ModalPresent\"] == \"no\")].sample(1-m)\n",
    "df_final = df_final.drop(who_sample.index)\n",
    "\n",
    "where_sample = df_final[\n",
    "    (df_final[\"Wh\"] == \"where\") &\n",
    "    (df_final[\"ModalPresent\"] == \"no\")].sample(1-n)\n",
    "df_final = df_final.drop(where_sample.index)\n"
   ]
  },
  {
   "cell_type": "code",
   "execution_count": 128,
   "metadata": {},
   "outputs": [],
   "source": [
    "total = pd.concat([mod_sample,why_sample,when_sample,what_sample,how_sample,who_sample,where_sample,controls])\n",
    "\n",
    "# save to file\n"
   ]
  },
  {
   "cell_type": "code",
   "execution_count": 127,
   "metadata": {},
   "outputs": [
    {
     "data": {
      "text/html": [
       "<div>\n",
       "<style scoped>\n",
       "    .dataframe tbody tr th:only-of-type {\n",
       "        vertical-align: middle;\n",
       "    }\n",
       "\n",
       "    .dataframe tbody tr th {\n",
       "        vertical-align: top;\n",
       "    }\n",
       "\n",
       "    .dataframe thead th {\n",
       "        text-align: right;\n",
       "    }\n",
       "</style>\n",
       "<table border=\"1\" class=\"dataframe\">\n",
       "  <thead>\n",
       "    <tr style=\"text-align: right;\">\n",
       "      <th></th>\n",
       "      <th>TGrepID</th>\n",
       "      <th>EntireSentence</th>\n",
       "      <th>PreceedingContext</th>\n",
       "      <th>Wh</th>\n",
       "      <th>ModalPresent</th>\n",
       "      <th>AResponse</th>\n",
       "      <th>AllResponse</th>\n",
       "      <th>TheResponse</th>\n",
       "    </tr>\n",
       "  </thead>\n",
       "  <tbody>\n",
       "    <tr>\n",
       "      <th>143</th>\n",
       "      <td>25144:43</td>\n",
       "      <td>and if we can't take it and use it easily, well, how can you put that on, like, elderly people and you know, just people that *t*-1 maybe just aren't blessed with as, as much sharpness and ment-, mental acuity *t*-2,</td>\n",
       "      <td>###really.###speakera29.###or i don't know how much of the you know,###speakerb30.###yeah.###speakera31.###but a large percentage probably over half of the rest of the population they don't have any college probably much at all###speakerb32.###absolutely.###speakera33.</td>\n",
       "      <td>how</td>\n",
       "      <td>yes</td>\n",
       "      <td>What is a way...?</td>\n",
       "      <td>What is every way...?</td>\n",
       "      <td>What is the way...?</td>\n",
       "    </tr>\n",
       "    <tr>\n",
       "      <th>142</th>\n",
       "      <td>25048:4</td>\n",
       "      <td>why do you think 0 it, uh, sounds,</td>\n",
       "      <td>###we have a very good public school up here###and a degree out there means a lot.###it's a very good school.### it's, it's university of vermont.###uh, we also have some two year college.###well, there's a four year colleges.###they all have a pretty good reputation.###but, like you say, you,###speakera1.###okay, uh,</td>\n",
       "      <td>why</td>\n",
       "      <td>no</td>\n",
       "      <td>What is a reason...?</td>\n",
       "      <td>What is every reason...?</td>\n",
       "      <td>What is the reason...?</td>\n",
       "    </tr>\n",
       "    <tr>\n",
       "      <th>352</th>\n",
       "      <td>69542:9</td>\n",
       "      <td>uh, when is your next one, uh, scheduled now *t*-1.</td>\n",
       "      <td>###speakera61.###yeah,###yeah,###it's very pretty country in there i think 0 *t*-1,###it's gorgeous.###speakerb62.###uh-huh,###so.###speakera63.###well i,</td>\n",
       "      <td>when</td>\n",
       "      <td>no</td>\n",
       "      <td>What is a time...?</td>\n",
       "      <td>What is every time...?</td>\n",
       "      <td>What is the time...?</td>\n",
       "    </tr>\n",
       "    <tr>\n",
       "      <th>402</th>\n",
       "      <td>78481:16</td>\n",
       "      <td>by, what do you mean *t*-1 by liberal, um.</td>\n",
       "      <td>###unless you have something 0 *t*-1 to do with it.###speakerb10.###yeah.###speakera11.###right.###speakerb12.###but the problem is, that i am very liberal politically###and so i hardly ever have anybody that *t*-1 wins that i vote for *t*-2.###speakera13.###oh, liberal,</td>\n",
       "      <td>what</td>\n",
       "      <td>no</td>\n",
       "      <td>What is a thing...?</td>\n",
       "      <td>What is every thing...?</td>\n",
       "      <td>What is the thing...?</td>\n",
       "    </tr>\n",
       "    <tr>\n",
       "      <th>305</th>\n",
       "      <td>59482:4</td>\n",
       "      <td>what *t*-1's the point of * putting a restrictio-,</td>\n",
       "      <td>###well, the han-, in the hands of the wrong person the car can be just as deadly *ich*-1 as the weapon, as a, as a pistol.###speakera49.###yeah.###speakerb50.###speakera51.###well, i have a bicycle###and that scares me too * to tell you the truth because i've been run *-1 off the road and all sorts of things.###well, i'm still, i'm still puzzled though,###what *t*-1 is the argument,###how does the argument work if, uh, if the bad guys are going *-1 to have guns anyway *t*-2.</td>\n",
       "      <td>what</td>\n",
       "      <td>no</td>\n",
       "      <td>What is a thing...?</td>\n",
       "      <td>What is every thing...?</td>\n",
       "      <td>What is the thing...?</td>\n",
       "    </tr>\n",
       "    <tr>\n",
       "      <th>688</th>\n",
       "      <td>128741:4</td>\n",
       "      <td>what do you feel 0 *t*-1 are some of the main problems?</td>\n",
       "      <td>###speakerb107.###speakera108.###oh, that's, yeah, that's, okay.###speakerb109.###yeah.###speakera110.###yeah,###that's what i was thinking *t*-1.###speakerb1.###okay,</td>\n",
       "      <td>what</td>\n",
       "      <td>no</td>\n",
       "      <td>What is a thing...?</td>\n",
       "      <td>What is every thing...?</td>\n",
       "      <td>What is the thing...?</td>\n",
       "    </tr>\n",
       "    <tr>\n",
       "      <th>975</th>\n",
       "      <td>174836:27</td>\n",
       "      <td>what *t*-1 is it, what *t*-2's the policy *ich*-3 now with treason?</td>\n",
       "      <td>###and then you have like two,###you have these people who *t*-1 are serial killers that *t*-2 didn't even get the death sentence back when ever you know.###speakerb80.###uh-huh.###speakera81.###speakerb82.###yeah.###i don't know.### i, i'm trying *-1 to think about other crimes that *t*-2 would warrant it.###uh, i guess,</td>\n",
       "      <td>what</td>\n",
       "      <td>no</td>\n",
       "      <td>What is a thing...?</td>\n",
       "      <td>What is every thing...?</td>\n",
       "      <td>What is the thing...?</td>\n",
       "    </tr>\n",
       "    <tr>\n",
       "      <th>247</th>\n",
       "      <td>44743:160</td>\n",
       "      <td>well, the, see the problem is 0 if, if the, if someone would have came up to me and said it's going *-1 to cost you five hundred dollars *-2 to keep your dog alive. what do you want *-1 to do *t*-2? i probably would have had second thoughts.</td>\n",
       "      <td>###and she was okay###and she's been okay every since.###it's been about two years now.###speakerb86.###huh.###well, that's great,###it really is *?*.### i, i'm glad that she was able *-1 to pull out of it that way and so cheaply the second time.###speakera87.###yeah.</td>\n",
       "      <td>what</td>\n",
       "      <td>no</td>\n",
       "      <td>What is a thing...?</td>\n",
       "      <td>What is every thing...?</td>\n",
       "      <td>What is the thing...?</td>\n",
       "    </tr>\n",
       "    <tr>\n",
       "      <th>84</th>\n",
       "      <td>14266:4</td>\n",
       "      <td>who do you think *t*-1?</td>\n",
       "      <td>###speakera81.###speakerb82.###speakera83.###so, that is something 0 you might keep your eyes open for *t*-1,###i think 0 it's, it's catching on throughout the country.###speakera1.###okay.###speakerb2.###so, who's your, uh, favorite team *t*-1?###speakera3.</td>\n",
       "      <td>who</td>\n",
       "      <td>no</td>\n",
       "      <td>Who is a person...?</td>\n",
       "      <td>Who is every person...?</td>\n",
       "      <td>Who is the person...?</td>\n",
       "    </tr>\n",
       "    <tr>\n",
       "      <th>229</th>\n",
       "      <td>42945:4</td>\n",
       "      <td>where is this person coming in from *t*-3,</td>\n",
       "      <td>###speakera193.###yeah.###speakerb194.###it was like, you, you come after me, you're going *-1 to get it. you know,###speakera195.###yes,###speakerb196.###and now there's so many other things,###where are the kids *t*-1,###what are they doing *t*-2, you know,</td>\n",
       "      <td>where</td>\n",
       "      <td>no</td>\n",
       "      <td>What is a place...?</td>\n",
       "      <td>What is every place...?</td>\n",
       "      <td>What is the place...?</td>\n",
       "    </tr>\n",
       "    <tr>\n",
       "      <th>0</th>\n",
       "      <td>control_a_tissue</td>\n",
       "      <td>Do you want a tissue?</td>\n",
       "      <td>speakera. Your nose is running. speakerb. Oh yeah I didn't notice. speakera.</td>\n",
       "      <td>none</td>\n",
       "      <td>no</td>\n",
       "      <td>A tissue…?</td>\n",
       "      <td>Every tissue…?</td>\n",
       "      <td>The tissue…?</td>\n",
       "    </tr>\n",
       "    <tr>\n",
       "      <th>1</th>\n",
       "      <td>control_a_napkin</td>\n",
       "      <td>Can I hand you a napkin?</td>\n",
       "      <td>speakera. Oh no! I just spilled my spaghetti down my shirt. speakerb. Oh no.</td>\n",
       "      <td>none</td>\n",
       "      <td>no</td>\n",
       "      <td>A napkin…?</td>\n",
       "      <td>Every napkin…?</td>\n",
       "      <td>The napkin...?</td>\n",
       "    </tr>\n",
       "    <tr>\n",
       "      <th>2</th>\n",
       "      <td>control_the_book</td>\n",
       "      <td>Did you return the book you borrowed?</td>\n",
       "      <td>speakera. Hey. speakerb. Hey what's up? speakera. I noticed a late fee from the library.</td>\n",
       "      <td>none</td>\n",
       "      <td>no</td>\n",
       "      <td>A book...?</td>\n",
       "      <td>Every book…?</td>\n",
       "      <td>The book...?</td>\n",
       "    </tr>\n",
       "    <tr>\n",
       "      <th>3</th>\n",
       "      <td>control_the_movie</td>\n",
       "      <td>Can you text me the movie schedule?</td>\n",
       "      <td>speakera. What are you doing tonight? speakerb. Nothing what about you? Wanna grab a movie? speakerb. Sure but I don't have wifi right now.</td>\n",
       "      <td>none</td>\n",
       "      <td>no</td>\n",
       "      <td>A movie schedule...?</td>\n",
       "      <td>Every movie schedule…?</td>\n",
       "      <td>The movie schedule...?</td>\n",
       "    </tr>\n",
       "    <tr>\n",
       "      <th>4</th>\n",
       "      <td>control_all_cookies</td>\n",
       "      <td>Did you grab all the cookies?</td>\n",
       "      <td>speakera. It's time to leave for the potluck.The car's almost packed. speakerb.</td>\n",
       "      <td>none</td>\n",
       "      <td>no</td>\n",
       "      <td>A cookie...?</td>\n",
       "      <td>Every cookie…?</td>\n",
       "      <td>The cookie...?</td>\n",
       "    </tr>\n",
       "    <tr>\n",
       "      <th>5</th>\n",
       "      <td>control_all_novels</td>\n",
       "      <td>Have you read all her novels?</td>\n",
       "      <td>speakera. I love Octavia Butler she's the best. speakerb. Yeah she's great. speakera.</td>\n",
       "      <td>none</td>\n",
       "      <td>no</td>\n",
       "      <td>An novel...?</td>\n",
       "      <td>Every novel…?</td>\n",
       "      <td>The novel...?</td>\n",
       "    </tr>\n",
       "  </tbody>\n",
       "</table>\n",
       "</div>"
      ],
      "text/plain": [
       "                 TGrepID  \\\n",
       "143             25144:43   \n",
       "142              25048:4   \n",
       "352              69542:9   \n",
       "402             78481:16   \n",
       "305              59482:4   \n",
       "688             128741:4   \n",
       "975            174836:27   \n",
       "247            44743:160   \n",
       "84               14266:4   \n",
       "229              42945:4   \n",
       "0       control_a_tissue   \n",
       "1       control_a_napkin   \n",
       "2       control_the_book   \n",
       "3      control_the_movie   \n",
       "4    control_all_cookies   \n",
       "5     control_all_novels   \n",
       "\n",
       "                                                                                                                                                                                                                                        EntireSentence  \\\n",
       "143                           and if we can't take it and use it easily, well, how can you put that on, like, elderly people and you know, just people that *t*-1 maybe just aren't blessed with as, as much sharpness and ment-, mental acuity *t*-2,   \n",
       "142                                                                                                                                                                                                                 why do you think 0 it, uh, sounds,   \n",
       "352                                                                                                                                                                                                uh, when is your next one, uh, scheduled now *t*-1.   \n",
       "402                                                                                                                                                                                                         by, what do you mean *t*-1 by liberal, um.   \n",
       "305                                                                                                                                                                                                 what *t*-1's the point of * putting a restrictio-,   \n",
       "688                                                                                                                                                                                            what do you feel 0 *t*-1 are some of the main problems?   \n",
       "975                                                                                                                                                                                what *t*-1 is it, what *t*-2's the policy *ich*-3 now with treason?   \n",
       "247  well, the, see the problem is 0 if, if the, if someone would have came up to me and said it's going *-1 to cost you five hundred dollars *-2 to keep your dog alive. what do you want *-1 to do *t*-2? i probably would have had second thoughts.   \n",
       "84                                                                                                                                                                                                                             who do you think *t*-1?   \n",
       "229                                                                                                                                                                                                         where is this person coming in from *t*-3,   \n",
       "0                                                                                                                                                                                                                                Do you want a tissue?   \n",
       "1                                                                                                                                                                                                                             Can I hand you a napkin?   \n",
       "2                                                                                                                                                                                                                Did you return the book you borrowed?   \n",
       "3                                                                                                                                                                                                                  Can you text me the movie schedule?   \n",
       "4                                                                                                                                                                                                                        Did you grab all the cookies?   \n",
       "5                                                                                                                                                                                                                        Have you read all her novels?   \n",
       "\n",
       "                                                                                                                                                                                                                                                                                                                                                                                                                                                                                    PreceedingContext  \\\n",
       "143                                                                                                                                                                                                                     ###really.###speakera29.###or i don't know how much of the you know,###speakerb30.###yeah.###speakera31.###but a large percentage probably over half of the rest of the population they don't have any college probably much at all###speakerb32.###absolutely.###speakera33.   \n",
       "142                                                                                                                                                                   ###we have a very good public school up here###and a degree out there means a lot.###it's a very good school.### it's, it's university of vermont.###uh, we also have some two year college.###well, there's a four year colleges.###they all have a pretty good reputation.###but, like you say, you,###speakera1.###okay, uh,   \n",
       "352                                                                                                                                                                                                                                                                                                                                        ###speakera61.###yeah,###yeah,###it's very pretty country in there i think 0 *t*-1,###it's gorgeous.###speakerb62.###uh-huh,###so.###speakera63.###well i,   \n",
       "402                                                                                                                                                                                                                   ###unless you have something 0 *t*-1 to do with it.###speakerb10.###yeah.###speakera11.###right.###speakerb12.###but the problem is, that i am very liberal politically###and so i hardly ever have anybody that *t*-1 wins that i vote for *t*-2.###speakera13.###oh, liberal,   \n",
       "305  ###well, the han-, in the hands of the wrong person the car can be just as deadly *ich*-1 as the weapon, as a, as a pistol.###speakera49.###yeah.###speakerb50.###speakera51.###well, i have a bicycle###and that scares me too * to tell you the truth because i've been run *-1 off the road and all sorts of things.###well, i'm still, i'm still puzzled though,###what *t*-1 is the argument,###how does the argument work if, uh, if the bad guys are going *-1 to have guns anyway *t*-2.   \n",
       "688                                                                                                                                                                                                                                                                                                                           ###speakerb107.###speakera108.###oh, that's, yeah, that's, okay.###speakerb109.###yeah.###speakera110.###yeah,###that's what i was thinking *t*-1.###speakerb1.###okay,   \n",
       "975                                                                                                                                                               ###and then you have like two,###you have these people who *t*-1 are serial killers that *t*-2 didn't even get the death sentence back when ever you know.###speakerb80.###uh-huh.###speakera81.###speakerb82.###yeah.###i don't know.### i, i'm trying *-1 to think about other crimes that *t*-2 would warrant it.###uh, i guess,   \n",
       "247                                                                                                                                                                                                                      ###and she was okay###and she's been okay every since.###it's been about two years now.###speakerb86.###huh.###well, that's great,###it really is *?*.### i, i'm glad that she was able *-1 to pull out of it that way and so cheaply the second time.###speakera87.###yeah.   \n",
       "84                                                                                                                                                                                                                                 ###speakera81.###speakerb82.###speakera83.###so, that is something 0 you might keep your eyes open for *t*-1,###i think 0 it's, it's catching on throughout the country.###speakera1.###okay.###speakerb2.###so, who's your, uh, favorite team *t*-1?###speakera3.   \n",
       "229                                                                                                                                                                                                                               ###speakera193.###yeah.###speakerb194.###it was like, you, you come after me, you're going *-1 to get it. you know,###speakera195.###yes,###speakerb196.###and now there's so many other things,###where are the kids *t*-1,###what are they doing *t*-2, you know,   \n",
       "0                                                                                                                                                                                                                                                                                                                                                                                                                       speakera. Your nose is running. speakerb. Oh yeah I didn't notice. speakera.    \n",
       "1                                                                                                                                                                                                                                                                                                                                                                                                                        speakera. Oh no! I just spilled my spaghetti down my shirt. speakerb. Oh no.   \n",
       "2                                                                                                                                                                                                                                                                                                                                                                                                           speakera. Hey. speakerb. Hey what's up? speakera. I noticed a late fee from the library.    \n",
       "3                                                                                                                                                                                                                                                                                                                                                        speakera. What are you doing tonight? speakerb. Nothing what about you? Wanna grab a movie? speakerb. Sure but I don't have wifi right now.    \n",
       "4                                                                                                                                                                                                                                                                                                                                                                                                                    speakera. It's time to leave for the potluck.The car's almost packed. speakerb.    \n",
       "5                                                                                                                                                                                                                                                                                                                                                                                                               speakera. I love Octavia Butler she's the best. speakerb. Yeah she's great. speakera.   \n",
       "\n",
       "        Wh ModalPresent             AResponse               AllResponse  \\\n",
       "143    how          yes     What is a way...?     What is every way...?   \n",
       "142    why           no  What is a reason...?  What is every reason...?   \n",
       "352   when           no    What is a time...?    What is every time...?   \n",
       "402   what           no   What is a thing...?   What is every thing...?   \n",
       "305   what           no   What is a thing...?   What is every thing...?   \n",
       "688   what           no   What is a thing...?   What is every thing...?   \n",
       "975   what           no   What is a thing...?   What is every thing...?   \n",
       "247   what           no   What is a thing...?   What is every thing...?   \n",
       "84     who           no   Who is a person...?   Who is every person...?   \n",
       "229  where           no   What is a place...?   What is every place...?   \n",
       "0     none           no            A tissue…?            Every tissue…?   \n",
       "1     none           no            A napkin…?            Every napkin…?   \n",
       "2     none           no            A book...?              Every book…?   \n",
       "3     none           no  A movie schedule...?    Every movie schedule…?   \n",
       "4     none           no          A cookie...?            Every cookie…?   \n",
       "5     none           no          An novel...?             Every novel…?   \n",
       "\n",
       "                TheResponse  \n",
       "143     What is the way...?  \n",
       "142  What is the reason...?  \n",
       "352    What is the time...?  \n",
       "402   What is the thing...?  \n",
       "305   What is the thing...?  \n",
       "688   What is the thing...?  \n",
       "975   What is the thing...?  \n",
       "247   What is the thing...?  \n",
       "84    Who is the person...?  \n",
       "229   What is the place...?  \n",
       "0              The tissue…?  \n",
       "1            The napkin...?  \n",
       "2              The book...?  \n",
       "3    The movie schedule...?  \n",
       "4            The cookie...?  \n",
       "5             The novel...?  "
      ]
     },
     "execution_count": 127,
     "metadata": {},
     "output_type": "execute_result"
    }
   ],
   "source": [
    "total"
   ]
  },
  {
   "cell_type": "code",
   "execution_count": 129,
   "metadata": {},
   "outputs": [],
   "source": [
    "total.to_csv(\"../../experiments/clean_corpus/03_experiment/pilot1.txt\",header=True,sep=\"\\t\",index=False)"
   ]
  },
  {
   "cell_type": "code",
   "execution_count": 99,
   "metadata": {},
   "outputs": [],
   "source": [
    "# since df_final changed, it's a different sample set now.\n",
    "# pilot = df_final.sample(10, random_state=333)\n",
    "pilot = df_final.sample(10, random_state=666)"
   ]
  },
  {
   "cell_type": "code",
   "execution_count": 100,
   "metadata": {},
   "outputs": [],
   "source": [
    "cont = controls.drop(columns=[\"Wh\",\"ModalPresent\"])"
   ]
  },
  {
   "cell_type": "code",
   "execution_count": 101,
   "metadata": {},
   "outputs": [],
   "source": [
    "pilott = pd.concat([pilot,cont])"
   ]
  },
  {
   "cell_type": "code",
   "execution_count": 103,
   "metadata": {},
   "outputs": [
    {
     "data": {
      "text/plain": [
       "16"
      ]
     },
     "execution_count": 103,
     "metadata": {},
     "output_type": "execute_result"
    }
   ],
   "source": [
    "len(pilott)"
   ]
  },
  {
   "cell_type": "code",
   "execution_count": 104,
   "metadata": {},
   "outputs": [
    {
     "data": {
      "text/html": [
       "<div>\n",
       "<style scoped>\n",
       "    .dataframe tbody tr th:only-of-type {\n",
       "        vertical-align: middle;\n",
       "    }\n",
       "\n",
       "    .dataframe tbody tr th {\n",
       "        vertical-align: top;\n",
       "    }\n",
       "\n",
       "    .dataframe thead th {\n",
       "        text-align: right;\n",
       "    }\n",
       "</style>\n",
       "<table border=\"1\" class=\"dataframe\">\n",
       "  <thead>\n",
       "    <tr style=\"text-align: right;\">\n",
       "      <th></th>\n",
       "      <th>TGrepID</th>\n",
       "      <th>EntireSentence</th>\n",
       "      <th>PreceedingContext</th>\n",
       "      <th>Wh</th>\n",
       "      <th>ModalPresent</th>\n",
       "      <th>AResponse</th>\n",
       "      <th>AllResponse</th>\n",
       "      <th>TheResponse</th>\n",
       "    </tr>\n",
       "  </thead>\n",
       "  <tbody>\n",
       "    <tr>\n",
       "      <th>843</th>\n",
       "      <td>154973:12</td>\n",
       "      <td>well, now who do you play with *t*-1?</td>\n",
       "      <td>###oh, great.###speakera41.###speakerb42.###yeah.###do you play every day?###speakera43.###yeah,###pretty much.###when my wife lets me *t*-1.###speakerb44.</td>\n",
       "      <td>who</td>\n",
       "      <td>no</td>\n",
       "      <td>Who is a person...?</td>\n",
       "      <td>Who is every person...?</td>\n",
       "      <td>Who is the person...?</td>\n",
       "    </tr>\n",
       "    <tr>\n",
       "      <th>255</th>\n",
       "      <td>47849:23</td>\n",
       "      <td>now when you baby-sit *t*-1, what age group children do you sit with *t*-2?</td>\n",
       "      <td>### i, most of my friends have three or four kids###and they feel like, you know, that's really why god mumblex###and some of the people in our church use birth control###and some of them don't,###i had my tubes tied *-1###so you,###speakera1.###okay.###speakerb2.###okay,</td>\n",
       "      <td>what</td>\n",
       "      <td>no</td>\n",
       "      <td>What is a thing...?</td>\n",
       "      <td>What is every thing...?</td>\n",
       "      <td>What is the thing...?</td>\n",
       "    </tr>\n",
       "    <tr>\n",
       "      <th>366</th>\n",
       "      <td>72731:16</td>\n",
       "      <td>how, how do you look at * counting credit cards *t*-1?</td>\n",
       "      <td>###speakera29.###yeah.###but other than that, uh, i, i guess 0 over the years * tried *-1 to avoid the national credit card syndrome, of * just putting everything on there day after day after day###speakerb30.###uh-huh.###speakera31.###and then, then you really get socked *-1 to it, if you don't watch it.###speakerb32.###yeah.###speakera33.</td>\n",
       "      <td>how</td>\n",
       "      <td>no</td>\n",
       "      <td>What is a way...?</td>\n",
       "      <td>What is every way...?</td>\n",
       "      <td>What is the way...?</td>\n",
       "    </tr>\n",
       "    <tr>\n",
       "      <th>48</th>\n",
       "      <td>8637:6</td>\n",
       "      <td>and what do you think 0 you'll do *t*-1 with that?</td>\n",
       "      <td>###speakerb48.###yeah.###speakera49.###because, um, he really wants me to concentrate on my studies.###speakerb50.###yeah.### what are you, what are you studying *t*-1?###speakera51.###i'm doing masters in computer science and computer engineering.###speakerb52.</td>\n",
       "      <td>what</td>\n",
       "      <td>yes</td>\n",
       "      <td>What is a thing...?</td>\n",
       "      <td>What is every thing...?</td>\n",
       "      <td>What is the thing...?</td>\n",
       "    </tr>\n",
       "    <tr>\n",
       "      <th>915</th>\n",
       "      <td>165969:16</td>\n",
       "      <td>what, what *t*-1 attracts you to the saturns?</td>\n",
       "      <td>### that, that would be a good deal 0 * to go with *t*-1.###speakera57.###and the other thing 0 we're looking at *t*-1 is the saturns too.###speakerb58.###okay.###speakera59.###because they looked really nice.###speakerb60.###uh-huh.### what do you, what do you looking for *t*-1 in, in those?</td>\n",
       "      <td>what</td>\n",
       "      <td>no</td>\n",
       "      <td>What is a thing...?</td>\n",
       "      <td>What is every thing...?</td>\n",
       "      <td>What is the thing...?</td>\n",
       "    </tr>\n",
       "    <tr>\n",
       "      <th>798</th>\n",
       "      <td>147920:6</td>\n",
       "      <td>or what era do you, era do you like *t*-1 the most?</td>\n",
       "      <td>###speakerb2.###well, i have *-1 to say 0 my favorite type of music would probably be, uh, classical music.###speakera3.###oh, same here.###speakerb4.###oh, really.###speakera5.###yeah.###speakerb6.###what type of music do you like *t*-1 in the classical area,</td>\n",
       "      <td>what</td>\n",
       "      <td>no</td>\n",
       "      <td>What is a thing...?</td>\n",
       "      <td>What is every thing...?</td>\n",
       "      <td>What is the thing...?</td>\n",
       "    </tr>\n",
       "    <tr>\n",
       "      <th>592</th>\n",
       "      <td>116052:4</td>\n",
       "      <td>what do you like *t*-1 about tempe?</td>\n",
       "      <td>###where in arizona?###speakera21.###uh, tempe.###speakerb22.###okay,###i've never been to tempe.###speakera23.###so,###speakerb24.###that's where i'd like *-1 to go *t*-2.</td>\n",
       "      <td>what</td>\n",
       "      <td>no</td>\n",
       "      <td>What is a thing...?</td>\n",
       "      <td>What is every thing...?</td>\n",
       "      <td>What is the thing...?</td>\n",
       "    </tr>\n",
       "    <tr>\n",
       "      <th>542</th>\n",
       "      <td>108874:4</td>\n",
       "      <td>what did you say *t*-1?</td>\n",
       "      <td>###so.###speakerb56.###wow, that's great.###speakera57.###yeah,###i really,###speakerb58.###was it a pell grant?###speakera59.###i'm sorry,</td>\n",
       "      <td>what</td>\n",
       "      <td>no</td>\n",
       "      <td>What is a thing...?</td>\n",
       "      <td>What is every thing...?</td>\n",
       "      <td>What is the thing...?</td>\n",
       "    </tr>\n",
       "    <tr>\n",
       "      <th>25</th>\n",
       "      <td>5622:4</td>\n",
       "      <td>how do you like it out there *t*-1?</td>\n",
       "      <td>###speakera29.###really.###i'm doing my masters in, in computer science and computer engineering.###speakerb30.###yeah?###where at *t*-1?###speakera31.###at north carolina state university.###speakerb32.###hey.</td>\n",
       "      <td>how</td>\n",
       "      <td>no</td>\n",
       "      <td>What is a way...?</td>\n",
       "      <td>What is every way...?</td>\n",
       "      <td>What is the way...?</td>\n",
       "    </tr>\n",
       "    <tr>\n",
       "      <th>750</th>\n",
       "      <td>138616:4</td>\n",
       "      <td>what am i going *-1 to fix *t*-2 for supper.</td>\n",
       "      <td>###i think 0 it's,###well, i don't know,### then, then on the other hand i think 0 it *exp*-1's harder * to stay home in some regards.###it *exp*-1's hard * to always keep yourself feeling like you're doing something productive,###and at the end of the day your house still feels like it's a mess,###and you haven't got anything done *-1###and###speakerb62.###oh, yeah.###speakera63.</td>\n",
       "      <td>what</td>\n",
       "      <td>no</td>\n",
       "      <td>What is a thing...?</td>\n",
       "      <td>What is every thing...?</td>\n",
       "      <td>What is the thing...?</td>\n",
       "    </tr>\n",
       "    <tr>\n",
       "      <th>0</th>\n",
       "      <td>control_a_tissue</td>\n",
       "      <td>Do you want a tissue?</td>\n",
       "      <td>speakera. Your nose is running. speakerb. Oh yeah I didn't notice. speakera.</td>\n",
       "      <td>NaN</td>\n",
       "      <td>NaN</td>\n",
       "      <td>A tissue…?</td>\n",
       "      <td>Every tissue…?</td>\n",
       "      <td>The tissue…?</td>\n",
       "    </tr>\n",
       "    <tr>\n",
       "      <th>1</th>\n",
       "      <td>control_a_napkin</td>\n",
       "      <td>Can I hand you a napkin?</td>\n",
       "      <td>speakera. Oh no! I just spilled my spaghetti down my shirt. speakerb. Oh no.</td>\n",
       "      <td>NaN</td>\n",
       "      <td>NaN</td>\n",
       "      <td>A napkin…?</td>\n",
       "      <td>Every napkin…?</td>\n",
       "      <td>The napkin...?</td>\n",
       "    </tr>\n",
       "    <tr>\n",
       "      <th>2</th>\n",
       "      <td>control_the_book</td>\n",
       "      <td>Did you return the book you borrowed?</td>\n",
       "      <td>speakera. Hey. speakerb. Hey what's up? speakera. I noticed a late fee from the library.</td>\n",
       "      <td>NaN</td>\n",
       "      <td>NaN</td>\n",
       "      <td>A book...?</td>\n",
       "      <td>Every book…?</td>\n",
       "      <td>The book...?</td>\n",
       "    </tr>\n",
       "    <tr>\n",
       "      <th>3</th>\n",
       "      <td>control_the_movie</td>\n",
       "      <td>Can you text me the movie schedule?</td>\n",
       "      <td>speakera. What are you doing tonight? speakerb. Nothing what about you? Wanna grab a movie? speakerb. Sure but I don't have wifi right now.</td>\n",
       "      <td>NaN</td>\n",
       "      <td>NaN</td>\n",
       "      <td>A movie schedule...?</td>\n",
       "      <td>Every movie schedule…?</td>\n",
       "      <td>The movie schedule...?</td>\n",
       "    </tr>\n",
       "    <tr>\n",
       "      <th>4</th>\n",
       "      <td>control_all_cookies</td>\n",
       "      <td>Did you grab all the cookies?</td>\n",
       "      <td>speakera. It's time to leave for the potluck.The car's almost packed. speakerb.</td>\n",
       "      <td>NaN</td>\n",
       "      <td>NaN</td>\n",
       "      <td>A cookie...?</td>\n",
       "      <td>Every cookie…?</td>\n",
       "      <td>The cookie...?</td>\n",
       "    </tr>\n",
       "    <tr>\n",
       "      <th>5</th>\n",
       "      <td>control_all_novels</td>\n",
       "      <td>Have you read all her novels?</td>\n",
       "      <td>speakera. I love Octavia Butler she's the best. speakerb. Yeah she's great. speakera.</td>\n",
       "      <td>NaN</td>\n",
       "      <td>NaN</td>\n",
       "      <td>An novel...?</td>\n",
       "      <td>Every novel…?</td>\n",
       "      <td>The novel...?</td>\n",
       "    </tr>\n",
       "  </tbody>\n",
       "</table>\n",
       "</div>"
      ],
      "text/plain": [
       "                 TGrepID  \\\n",
       "843            154973:12   \n",
       "255             47849:23   \n",
       "366             72731:16   \n",
       "48                8637:6   \n",
       "915            165969:16   \n",
       "798             147920:6   \n",
       "592             116052:4   \n",
       "542             108874:4   \n",
       "25                5622:4   \n",
       "750             138616:4   \n",
       "0       control_a_tissue   \n",
       "1       control_a_napkin   \n",
       "2       control_the_book   \n",
       "3      control_the_movie   \n",
       "4    control_all_cookies   \n",
       "5     control_all_novels   \n",
       "\n",
       "                                                                  EntireSentence  \\\n",
       "843                                        well, now who do you play with *t*-1?   \n",
       "255  now when you baby-sit *t*-1, what age group children do you sit with *t*-2?   \n",
       "366                       how, how do you look at * counting credit cards *t*-1?   \n",
       "48                            and what do you think 0 you'll do *t*-1 with that?   \n",
       "915                                what, what *t*-1 attracts you to the saturns?   \n",
       "798                          or what era do you, era do you like *t*-1 the most?   \n",
       "592                                          what do you like *t*-1 about tempe?   \n",
       "542                                                      what did you say *t*-1?   \n",
       "25                                           how do you like it out there *t*-1?   \n",
       "750                                 what am i going *-1 to fix *t*-2 for supper.   \n",
       "0                                                          Do you want a tissue?   \n",
       "1                                                       Can I hand you a napkin?   \n",
       "2                                          Did you return the book you borrowed?   \n",
       "3                                            Can you text me the movie schedule?   \n",
       "4                                                  Did you grab all the cookies?   \n",
       "5                                                  Have you read all her novels?   \n",
       "\n",
       "                                                                                                                                                                                                                                                                                                                                                                                   PreceedingContext  \\\n",
       "843                                                                                                                                                                                                                                      ###oh, great.###speakera41.###speakerb42.###yeah.###do you play every day?###speakera43.###yeah,###pretty much.###when my wife lets me *t*-1.###speakerb44.   \n",
       "255                                                                                                                 ### i, most of my friends have three or four kids###and they feel like, you know, that's really why god mumblex###and some of the people in our church use birth control###and some of them don't,###i had my tubes tied *-1###so you,###speakera1.###okay.###speakerb2.###okay,   \n",
       "366                                           ###speakera29.###yeah.###but other than that, uh, i, i guess 0 over the years * tried *-1 to avoid the national credit card syndrome, of * just putting everything on there day after day after day###speakerb30.###uh-huh.###speakera31.###and then, then you really get socked *-1 to it, if you don't watch it.###speakerb32.###yeah.###speakera33.   \n",
       "48                                                                                                                            ###speakerb48.###yeah.###speakera49.###because, um, he really wants me to concentrate on my studies.###speakerb50.###yeah.### what are you, what are you studying *t*-1?###speakera51.###i'm doing masters in computer science and computer engineering.###speakerb52.   \n",
       "915                                                                                            ### that, that would be a good deal 0 * to go with *t*-1.###speakera57.###and the other thing 0 we're looking at *t*-1 is the saturns too.###speakerb58.###okay.###speakera59.###because they looked really nice.###speakerb60.###uh-huh.### what do you, what do you looking for *t*-1 in, in those?   \n",
       "798                                                                                                                             ###speakerb2.###well, i have *-1 to say 0 my favorite type of music would probably be, uh, classical music.###speakera3.###oh, same here.###speakerb4.###oh, really.###speakera5.###yeah.###speakerb6.###what type of music do you like *t*-1 in the classical area,   \n",
       "592                                                                                                                                                                                                                     ###where in arizona?###speakera21.###uh, tempe.###speakerb22.###okay,###i've never been to tempe.###speakera23.###so,###speakerb24.###that's where i'd like *-1 to go *t*-2.   \n",
       "542                                                                                                                                                                                                                                                      ###so.###speakerb56.###wow, that's great.###speakera57.###yeah,###i really,###speakerb58.###was it a pell grant?###speakera59.###i'm sorry,   \n",
       "25                                                                                                                                                                                ###speakera29.###really.###i'm doing my masters in, in computer science and computer engineering.###speakerb30.###yeah?###where at *t*-1?###speakera31.###at north carolina state university.###speakerb32.###hey.   \n",
       "750  ###i think 0 it's,###well, i don't know,### then, then on the other hand i think 0 it *exp*-1's harder * to stay home in some regards.###it *exp*-1's hard * to always keep yourself feeling like you're doing something productive,###and at the end of the day your house still feels like it's a mess,###and you haven't got anything done *-1###and###speakerb62.###oh, yeah.###speakera63.   \n",
       "0                                                                                                                                                                                                                                                                                                                      speakera. Your nose is running. speakerb. Oh yeah I didn't notice. speakera.    \n",
       "1                                                                                                                                                                                                                                                                                                                       speakera. Oh no! I just spilled my spaghetti down my shirt. speakerb. Oh no.   \n",
       "2                                                                                                                                                                                                                                                                                                          speakera. Hey. speakerb. Hey what's up? speakera. I noticed a late fee from the library.    \n",
       "3                                                                                                                                                                                                                                                       speakera. What are you doing tonight? speakerb. Nothing what about you? Wanna grab a movie? speakerb. Sure but I don't have wifi right now.    \n",
       "4                                                                                                                                                                                                                                                                                                                   speakera. It's time to leave for the potluck.The car's almost packed. speakerb.    \n",
       "5                                                                                                                                                                                                                                                                                                              speakera. I love Octavia Butler she's the best. speakerb. Yeah she's great. speakera.   \n",
       "\n",
       "       Wh ModalPresent             AResponse              AllResponse  \\\n",
       "843   who           no   Who is a person...?  Who is every person...?   \n",
       "255  what           no   What is a thing...?  What is every thing...?   \n",
       "366   how           no     What is a way...?    What is every way...?   \n",
       "48   what          yes   What is a thing...?  What is every thing...?   \n",
       "915  what           no   What is a thing...?  What is every thing...?   \n",
       "798  what           no   What is a thing...?  What is every thing...?   \n",
       "592  what           no   What is a thing...?  What is every thing...?   \n",
       "542  what           no   What is a thing...?  What is every thing...?   \n",
       "25    how           no     What is a way...?    What is every way...?   \n",
       "750  what           no   What is a thing...?  What is every thing...?   \n",
       "0     NaN          NaN            A tissue…?           Every tissue…?   \n",
       "1     NaN          NaN            A napkin…?           Every napkin…?   \n",
       "2     NaN          NaN            A book...?             Every book…?   \n",
       "3     NaN          NaN  A movie schedule...?   Every movie schedule…?   \n",
       "4     NaN          NaN          A cookie...?           Every cookie…?   \n",
       "5     NaN          NaN          An novel...?            Every novel…?   \n",
       "\n",
       "                TheResponse  \n",
       "843   Who is the person...?  \n",
       "255   What is the thing...?  \n",
       "366     What is the way...?  \n",
       "48    What is the thing...?  \n",
       "915   What is the thing...?  \n",
       "798   What is the thing...?  \n",
       "592   What is the thing...?  \n",
       "542   What is the thing...?  \n",
       "25      What is the way...?  \n",
       "750   What is the thing...?  \n",
       "0              The tissue…?  \n",
       "1            The napkin...?  \n",
       "2              The book...?  \n",
       "3    The movie schedule...?  \n",
       "4            The cookie...?  \n",
       "5             The novel...?  "
      ]
     },
     "execution_count": 104,
     "metadata": {},
     "output_type": "execute_result"
    }
   ],
   "source": [
    "pilott"
   ]
  },
  {
   "cell_type": "code",
   "execution_count": 77,
   "metadata": {},
   "outputs": [],
   "source": [
    "pilott.to_csv(\"../../experiments/clean_corpus/03_experiment/pilot1.txt\",header=True,sep=\"\\t\",index=False)"
   ]
  },
  {
   "cell_type": "code",
   "execution_count": null,
   "metadata": {},
   "outputs": [],
   "source": []
  }
 ],
 "metadata": {
  "kernelspec": {
   "display_name": "Python 3",
   "language": "python",
   "name": "python3"
  },
  "language_info": {
   "codemirror_mode": {
    "name": "ipython",
    "version": 3
   },
   "file_extension": ".py",
   "mimetype": "text/x-python",
   "name": "python",
   "nbconvert_exporter": "python",
   "pygments_lexer": "ipython3",
   "version": "3.8.3"
  }
 },
 "nbformat": 4,
 "nbformat_minor": 4
}
