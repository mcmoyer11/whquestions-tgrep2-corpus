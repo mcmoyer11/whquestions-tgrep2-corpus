{
 "cells": [
  {
   "cell_type": "markdown",
   "metadata": {},
   "source": [
    "# Corpus scratch\n",
    "This notebook is for miscelaneous processing from the swbd.tab database file"
   ]
  },
  {
   "cell_type": "code",
   "execution_count": 1,
   "metadata": {},
   "outputs": [],
   "source": [
    "import pandas as pd\n",
    "import numpy as np"
   ]
  },
  {
   "cell_type": "code",
   "execution_count": 2,
   "metadata": {},
   "outputs": [],
   "source": [
    "# import the database file from the TGrep2 searching\n",
    "df = pd.read_csv(\"../results/swbd.tab\", sep='\\t', engine='python')\n",
    "d = pd.read_csv(\"swbd_contexts.csv\")"
   ]
  },
  {
   "cell_type": "code",
   "execution_count": 3,
   "metadata": {},
   "outputs": [],
   "source": [
    "# This makes the display show more info\n",
    "pd.set_option('display.max_rows', None)\n",
    "pd.set_option('display.max_colwidth', None)"
   ]
  },
  {
   "cell_type": "code",
   "execution_count": null,
   "metadata": {},
   "outputs": [],
   "source": []
  },
  {
   "cell_type": "code",
   "execution_count": 4,
   "metadata": {},
   "outputs": [
    {
     "data": {
      "text/plain": [
       "QuestionType\n",
       "adjunct        767\n",
       "cleft          660\n",
       "embadjunct    2416\n",
       "embedded      1640\n",
       "fragment       690\n",
       "relative      1358\n",
       "root          1269\n",
       "subject       1398\n",
       "Name: QuestionType, dtype: int64"
      ]
     },
     "execution_count": 4,
     "metadata": {},
     "output_type": "execute_result"
    }
   ],
   "source": [
    "# New run\n",
    "df.groupby(\"QuestionType\")[\"QuestionType\"].count()"
   ]
  },
  {
   "cell_type": "markdown",
   "metadata": {},
   "source": [
    "# Browse"
   ]
  },
  {
   "cell_type": "code",
   "execution_count": 9,
   "metadata": {},
   "outputs": [
    {
     "data": {
      "text/html": [
       "<div>\n",
       "<style scoped>\n",
       "    .dataframe tbody tr th:only-of-type {\n",
       "        vertical-align: middle;\n",
       "    }\n",
       "\n",
       "    .dataframe tbody tr th {\n",
       "        vertical-align: top;\n",
       "    }\n",
       "\n",
       "    .dataframe thead th {\n",
       "        text-align: right;\n",
       "    }\n",
       "</style>\n",
       "<table border=\"1\" class=\"dataframe\">\n",
       "  <thead>\n",
       "    <tr style=\"text-align: right;\">\n",
       "      <th></th>\n",
       "      <th>EntireSentence</th>\n",
       "      <th>PreceedingContext</th>\n",
       "    </tr>\n",
       "  </thead>\n",
       "  <tbody>\n",
       "    <tr>\n",
       "      <th>1285</th>\n",
       "      <td>i don't know how * to make it better for them *t*-1</td>\n",
       "      <td>###uh-huh.###speakera77.###speakerb78.###yeah,###speakera79.###speakerb80.###and what do those kids do *t*-1,###they get it at school and come home,###what do they do *t*-1 then.### i, i feel, i feel for them,</td>\n",
       "    </tr>\n",
       "  </tbody>\n",
       "</table>\n",
       "</div>"
      ],
      "text/plain": [
       "                                           EntireSentence  \\\n",
       "1285  i don't know how * to make it better for them *t*-1   \n",
       "\n",
       "                                                                                                                                                                                                      PreceedingContext  \n",
       "1285  ###uh-huh.###speakera77.###speakerb78.###yeah,###speakera79.###speakerb80.###and what do those kids do *t*-1,###they get it at school and come home,###what do they do *t*-1 then.### i, i feel, i feel for them,  "
      ]
     },
     "execution_count": 9,
     "metadata": {},
     "output_type": "execute_result"
    }
   ],
   "source": [
    "# high rating for 'every' m = 0.8259341\n",
    "d.loc[d[\"TGrepID\"] == \"22314:16\"][[\"EntireSentence\",\"PreceedingContext\"]]"
   ]
  },
  {
   "cell_type": "code",
   "execution_count": null,
   "metadata": {},
   "outputs": [],
   "source": []
  },
  {
   "cell_type": "markdown",
   "metadata": {},
   "source": [
    "# Good MA examples"
   ]
  },
  {
   "cell_type": "code",
   "execution_count": 19,
   "metadata": {},
   "outputs": [
    {
     "data": {
      "text/html": [
       "<div>\n",
       "<style scoped>\n",
       "    .dataframe tbody tr th:only-of-type {\n",
       "        vertical-align: middle;\n",
       "    }\n",
       "\n",
       "    .dataframe tbody tr th {\n",
       "        vertical-align: top;\n",
       "    }\n",
       "\n",
       "    .dataframe thead th {\n",
       "        text-align: right;\n",
       "    }\n",
       "</style>\n",
       "<table border=\"1\" class=\"dataframe\">\n",
       "  <thead>\n",
       "    <tr style=\"text-align: right;\">\n",
       "      <th></th>\n",
       "      <th>EntireSentence</th>\n",
       "      <th>PreceedingContext</th>\n",
       "    </tr>\n",
       "  </thead>\n",
       "  <tbody>\n",
       "    <tr>\n",
       "      <th>167</th>\n",
       "      <td>and he, sho-, he knew who *t*-1 worked there,</td>\n",
       "      <td>###speakera17.###uh-huh.###speakerb18.###we wore shorts.###we didn't know 0 that was a big no, no.###speakera19.###oh no.###speakerb20.###and the supervisor from another area came up to us###and, you know, this area where record retention is *t*-1, there's only a few people that *t*-2 work there,</td>\n",
       "    </tr>\n",
       "  </tbody>\n",
       "</table>\n",
       "</div>"
      ],
      "text/plain": [
       "                                    EntireSentence  \\\n",
       "167  and he, sho-, he knew who *t*-1 worked there,   \n",
       "\n",
       "                                                                                                                                                                                                                                                                                             PreceedingContext  \n",
       "167  ###speakera17.###uh-huh.###speakerb18.###we wore shorts.###we didn't know 0 that was a big no, no.###speakera19.###oh no.###speakerb20.###and the supervisor from another area came up to us###and, you know, this area where record retention is *t*-1, there's only a few people that *t*-2 work there,  "
      ]
     },
     "execution_count": 19,
     "metadata": {},
     "output_type": "execute_result"
    }
   ],
   "source": [
    "# high rating for 'every' m = 0.8259341\n",
    "d.loc[d[\"TGrepID\"] == \"2512:34\"][[\"EntireSentence\",\"PreceedingContext\"]]"
   ]
  },
  {
   "cell_type": "code",
   "execution_count": 7,
   "metadata": {},
   "outputs": [
    {
     "data": {
      "text/html": [
       "<div>\n",
       "<style scoped>\n",
       "    .dataframe tbody tr th:only-of-type {\n",
       "        vertical-align: middle;\n",
       "    }\n",
       "\n",
       "    .dataframe tbody tr th {\n",
       "        vertical-align: top;\n",
       "    }\n",
       "\n",
       "    .dataframe thead th {\n",
       "        text-align: right;\n",
       "    }\n",
       "</style>\n",
       "<table border=\"1\" class=\"dataframe\">\n",
       "  <thead>\n",
       "    <tr style=\"text-align: right;\">\n",
       "      <th></th>\n",
       "      <th>EntireSentence</th>\n",
       "      <th>PreceedingContext</th>\n",
       "    </tr>\n",
       "  </thead>\n",
       "  <tbody>\n",
       "    <tr>\n",
       "      <th>8347</th>\n",
       "      <td>well, i'd really like *-1 to know where that money is actually going *-2 to go *t*-3,</td>\n",
       "      <td>###speakera31.###speakerb32.###uh-huh.###speakera33.###but it seems to me that, uh, that the budget is so out of hand,###and especially now that they say, okay, the cold war is over###and we're supposed *-1 to be getting a peace dividend of, you know of x number of billion, trillion dollars a year.###speakerb34.###uh-huh.###speakera35.</td>\n",
       "    </tr>\n",
       "  </tbody>\n",
       "</table>\n",
       "</div>"
      ],
      "text/plain": [
       "                                                                             EntireSentence  \\\n",
       "8347  well, i'd really like *-1 to know where that money is actually going *-2 to go *t*-3,   \n",
       "\n",
       "                                                                                                                                                                                                                                                                                                                                      PreceedingContext  \n",
       "8347  ###speakera31.###speakerb32.###uh-huh.###speakera33.###but it seems to me that, uh, that the budget is so out of hand,###and especially now that they say, okay, the cold war is over###and we're supposed *-1 to be getting a peace dividend of, you know of x number of billion, trillion dollars a year.###speakerb34.###uh-huh.###speakera35.  "
      ]
     },
     "execution_count": 7,
     "metadata": {},
     "output_type": "execute_result"
    }
   ],
   "source": [
    "d.loc[d[\"TGrepID\"] == \"149808:32\"][[\"EntireSentence\",\"PreceedingContext\"]]"
   ]
  },
  {
   "cell_type": "code",
   "execution_count": 9,
   "metadata": {},
   "outputs": [
    {
     "data": {
      "text/html": [
       "<div>\n",
       "<style scoped>\n",
       "    .dataframe tbody tr th:only-of-type {\n",
       "        vertical-align: middle;\n",
       "    }\n",
       "\n",
       "    .dataframe tbody tr th {\n",
       "        vertical-align: top;\n",
       "    }\n",
       "\n",
       "    .dataframe thead th {\n",
       "        text-align: right;\n",
       "    }\n",
       "</style>\n",
       "<table border=\"1\" class=\"dataframe\">\n",
       "  <thead>\n",
       "    <tr style=\"text-align: right;\">\n",
       "      <th></th>\n",
       "      <th>EntireSentence</th>\n",
       "      <th>PreceedingContext</th>\n",
       "    </tr>\n",
       "  </thead>\n",
       "  <tbody>\n",
       "    <tr>\n",
       "      <th>3848</th>\n",
       "      <td>i have got *-1 to be so much more careful with what i do *t*-2.</td>\n",
       "      <td>###speakera45.###i make myself do it###and if i do it, okay,###i don't love it,,###but i will do it.###speakerb46.###sure.###speakera47.###uh, it's not anything 0 i would want *-1 to,###but i can really tell the difference, since i have not been able *-1 to walk.</td>\n",
       "    </tr>\n",
       "  </tbody>\n",
       "</table>\n",
       "</div>"
      ],
      "text/plain": [
       "                                                       EntireSentence  \\\n",
       "3848  i have got *-1 to be so much more careful with what i do *t*-2.   \n",
       "\n",
       "                                                                                                                                                                                                                                                            PreceedingContext  \n",
       "3848  ###speakera45.###i make myself do it###and if i do it, okay,###i don't love it,,###but i will do it.###speakerb46.###sure.###speakera47.###uh, it's not anything 0 i would want *-1 to,###but i can really tell the difference, since i have not been able *-1 to walk.  "
      ]
     },
     "execution_count": 9,
     "metadata": {},
     "output_type": "execute_result"
    }
   ],
   "source": [
    "d.loc[d[\"TGrepID\"] == \"66692:37\"][[\"EntireSentence\",\"PreceedingContext\"]]"
   ]
  },
  {
   "cell_type": "code",
   "execution_count": 11,
   "metadata": {},
   "outputs": [
    {
     "data": {
      "text/html": [
       "<div>\n",
       "<style scoped>\n",
       "    .dataframe tbody tr th:only-of-type {\n",
       "        vertical-align: middle;\n",
       "    }\n",
       "\n",
       "    .dataframe tbody tr th {\n",
       "        vertical-align: top;\n",
       "    }\n",
       "\n",
       "    .dataframe thead th {\n",
       "        text-align: right;\n",
       "    }\n",
       "</style>\n",
       "<table border=\"1\" class=\"dataframe\">\n",
       "  <thead>\n",
       "    <tr style=\"text-align: right;\">\n",
       "      <th></th>\n",
       "      <th>EntireSentence</th>\n",
       "      <th>PreceedingContext</th>\n",
       "    </tr>\n",
       "  </thead>\n",
       "  <tbody>\n",
       "    <tr>\n",
       "      <th>9320</th>\n",
       "      <td>and then we have a local rag here in town that i pick *t*-1 up periodically and read *t*-1 *-3 just to see what *t*-2's going on in our little community. because we don't get an awful lot of coverage in the dallas morning news.</td>\n",
       "      <td>###speakerb54.###i used *-1 to read time magazine a lot,###but i don't read it much anymore.###speakera55.###yeah,### that's, that's kind of a problem for them.###there's a lot of people who *t*-1 fall into that, category.###speakerb56.###speakera57.###speakerb58.</td>\n",
       "    </tr>\n",
       "  </tbody>\n",
       "</table>\n",
       "</div>"
      ],
      "text/plain": [
       "                                                                                                                                                                                                                           EntireSentence  \\\n",
       "9320  and then we have a local rag here in town that i pick *t*-1 up periodically and read *t*-1 *-3 just to see what *t*-2's going on in our little community. because we don't get an awful lot of coverage in the dallas morning news.   \n",
       "\n",
       "                                                                                                                                                                                                                                                             PreceedingContext  \n",
       "9320  ###speakerb54.###i used *-1 to read time magazine a lot,###but i don't read it much anymore.###speakera55.###yeah,### that's, that's kind of a problem for them.###there's a lot of people who *t*-1 fall into that, category.###speakerb56.###speakera57.###speakerb58.  "
      ]
     },
     "execution_count": 11,
     "metadata": {},
     "output_type": "execute_result"
    }
   ],
   "source": [
    "d.loc[d[\"TGrepID\"] == \"164808:75\"][[\"EntireSentence\",\"PreceedingContext\"]]"
   ]
  },
  {
   "cell_type": "code",
   "execution_count": 12,
   "metadata": {},
   "outputs": [
    {
     "data": {
      "text/html": [
       "<div>\n",
       "<style scoped>\n",
       "    .dataframe tbody tr th:only-of-type {\n",
       "        vertical-align: middle;\n",
       "    }\n",
       "\n",
       "    .dataframe tbody tr th {\n",
       "        vertical-align: top;\n",
       "    }\n",
       "\n",
       "    .dataframe thead th {\n",
       "        text-align: right;\n",
       "    }\n",
       "</style>\n",
       "<table border=\"1\" class=\"dataframe\">\n",
       "  <thead>\n",
       "    <tr style=\"text-align: right;\">\n",
       "      <th></th>\n",
       "      <th>EntireSentence</th>\n",
       "      <th>PreceedingContext</th>\n",
       "    </tr>\n",
       "  </thead>\n",
       "  <tbody>\n",
       "    <tr>\n",
       "      <th>1986</th>\n",
       "      <td>uh, but i would like *-1 to see them have a monitoring capability so that they know who *t*-2 has what weapons.</td>\n",
       "      <td>###yeah.###speakera141.###you know. and i'm sure 0 it'd be even less for somebody with a good gun.###speakerb142.###huh.###and i think 0 the federal government is, uh, is really far away from, uh, uh, control.### i, i don't believe in, uh,### i'm s-, i shouldn't probably say control.###i mean regulation.###control is something that i wouldn't want the federal government to have *t*-1.</td>\n",
       "    </tr>\n",
       "  </tbody>\n",
       "</table>\n",
       "</div>"
      ],
      "text/plain": [
       "                                                                                                       EntireSentence  \\\n",
       "1986  uh, but i would like *-1 to see them have a monitoring capability so that they know who *t*-2 has what weapons.   \n",
       "\n",
       "                                                                                                                                                                                                                                                                                                                                                                                        PreceedingContext  \n",
       "1986  ###yeah.###speakera141.###you know. and i'm sure 0 it'd be even less for somebody with a good gun.###speakerb142.###huh.###and i think 0 the federal government is, uh, is really far away from, uh, uh, control.### i, i don't believe in, uh,### i'm s-, i shouldn't probably say control.###i mean regulation.###control is something that i wouldn't want the federal government to have *t*-1.  "
      ]
     },
     "execution_count": 12,
     "metadata": {},
     "output_type": "execute_result"
    }
   ],
   "source": [
    "d.loc[d[\"TGrepID\"] == \"34334:57\"][[\"EntireSentence\",\"PreceedingContext\"]]"
   ]
  },
  {
   "cell_type": "code",
   "execution_count": 13,
   "metadata": {},
   "outputs": [
    {
     "data": {
      "text/html": [
       "<div>\n",
       "<style scoped>\n",
       "    .dataframe tbody tr th:only-of-type {\n",
       "        vertical-align: middle;\n",
       "    }\n",
       "\n",
       "    .dataframe tbody tr th {\n",
       "        vertical-align: top;\n",
       "    }\n",
       "\n",
       "    .dataframe thead th {\n",
       "        text-align: right;\n",
       "    }\n",
       "</style>\n",
       "<table border=\"1\" class=\"dataframe\">\n",
       "  <thead>\n",
       "    <tr style=\"text-align: right;\">\n",
       "      <th></th>\n",
       "      <th>EntireSentence</th>\n",
       "      <th>PreceedingContext</th>\n",
       "    </tr>\n",
       "  </thead>\n",
       "  <tbody>\n",
       "    <tr>\n",
       "      <th>281</th>\n",
       "      <td>astonishing what the younger ages know *t*-1,</td>\n",
       "      <td>###speakerb102.###because you will eventually be killed *-1.###and, i just, i'm just totally aghast at a what *t*-1's going on.###speakera103.###oh, i know.###i know, um,###i work in school. you know,###that's something 0 i do *t*-1###and i, it really is###i'm like you</td>\n",
       "    </tr>\n",
       "  </tbody>\n",
       "</table>\n",
       "</div>"
      ],
      "text/plain": [
       "                                    EntireSentence  \\\n",
       "281  astonishing what the younger ages know *t*-1,   \n",
       "\n",
       "                                                                                                                                                                                                                                                                 PreceedingContext  \n",
       "281  ###speakerb102.###because you will eventually be killed *-1.###and, i just, i'm just totally aghast at a what *t*-1's going on.###speakera103.###oh, i know.###i know, um,###i work in school. you know,###that's something 0 i do *t*-1###and i, it really is###i'm like you  "
      ]
     },
     "execution_count": 13,
     "metadata": {},
     "output_type": "execute_result"
    }
   ],
   "source": [
    "d.loc[d[\"TGrepID\"] == \"4959:7\"][[\"EntireSentence\",\"PreceedingContext\"]]"
   ]
  },
  {
   "cell_type": "code",
   "execution_count": 15,
   "metadata": {},
   "outputs": [
    {
     "data": {
      "text/html": [
       "<div>\n",
       "<style scoped>\n",
       "    .dataframe tbody tr th:only-of-type {\n",
       "        vertical-align: middle;\n",
       "    }\n",
       "\n",
       "    .dataframe tbody tr th {\n",
       "        vertical-align: top;\n",
       "    }\n",
       "\n",
       "    .dataframe thead th {\n",
       "        text-align: right;\n",
       "    }\n",
       "</style>\n",
       "<table border=\"1\" class=\"dataframe\">\n",
       "  <thead>\n",
       "    <tr style=\"text-align: right;\">\n",
       "      <th></th>\n",
       "      <th>EntireSentence</th>\n",
       "      <th>PreceedingContext</th>\n",
       "    </tr>\n",
       "  </thead>\n",
       "  <tbody>\n",
       "    <tr>\n",
       "      <th>4162</th>\n",
       "      <td>oh, you don't know what *t*-1 happens after they get in school.</td>\n",
       "      <td>###oh, yeah.###speakera79.###speakerb80.###yeah,###i have a nine year old that i would trade *t*-1 happily for a baby mumblex.###speakera81.###oh, really.###well, you sound like you're pretty well passed the worst of it as far as * worrying about,###since they're both in school, you don't have *-1 to worry about a full-time person 0 *t*-2 to take care of them.###speakerb82.</td>\n",
       "    </tr>\n",
       "  </tbody>\n",
       "</table>\n",
       "</div>"
      ],
      "text/plain": [
       "                                                       EntireSentence  \\\n",
       "4162  oh, you don't know what *t*-1 happens after they get in school.   \n",
       "\n",
       "                                                                                                                                                                                                                                                                                                                                                                             PreceedingContext  \n",
       "4162  ###oh, yeah.###speakera79.###speakerb80.###yeah,###i have a nine year old that i would trade *t*-1 happily for a baby mumblex.###speakera81.###oh, really.###well, you sound like you're pretty well passed the worst of it as far as * worrying about,###since they're both in school, you don't have *-1 to worry about a full-time person 0 *t*-2 to take care of them.###speakerb82.  "
      ]
     },
     "execution_count": 15,
     "metadata": {},
     "output_type": "execute_result"
    }
   ],
   "source": [
    "d.loc[d[\"TGrepID\"] == \"73191:21\"][[\"EntireSentence\",\"PreceedingContext\"]]"
   ]
  },
  {
   "cell_type": "code",
   "execution_count": 12,
   "metadata": {},
   "outputs": [
    {
     "data": {
      "text/html": [
       "<div>\n",
       "<style scoped>\n",
       "    .dataframe tbody tr th:only-of-type {\n",
       "        vertical-align: middle;\n",
       "    }\n",
       "\n",
       "    .dataframe tbody tr th {\n",
       "        vertical-align: top;\n",
       "    }\n",
       "\n",
       "    .dataframe thead th {\n",
       "        text-align: right;\n",
       "    }\n",
       "</style>\n",
       "<table border=\"1\" class=\"dataframe\">\n",
       "  <thead>\n",
       "    <tr style=\"text-align: right;\">\n",
       "      <th></th>\n",
       "      <th>EntireSentence</th>\n",
       "      <th>PreceedingContext</th>\n",
       "    </tr>\n",
       "  </thead>\n",
       "  <tbody>\n",
       "    <tr>\n",
       "      <th>5835</th>\n",
       "      <td>what, what does it have *t*-1 in it?</td>\n",
       "      <td>###speakera107.###and then,###speakerb108.###yeah,###because i, when i make this chicken casserole *t*-2 i, it, it makes a real big casserole and then another one that i freeze *t*-1.###speakera109.###uh-huh.###speakerb110.### so, or i give it to my mom and dad if i know 0 we're not going *-1 to eat,###speakera111.</td>\n",
       "    </tr>\n",
       "  </tbody>\n",
       "</table>\n",
       "</div>"
      ],
      "text/plain": [
       "                            EntireSentence  \\\n",
       "5835  what, what does it have *t*-1 in it?   \n",
       "\n",
       "                                                                                                                                                                                                                                                                                                                 PreceedingContext  \n",
       "5835  ###speakera107.###and then,###speakerb108.###yeah,###because i, when i make this chicken casserole *t*-2 i, it, it makes a real big casserole and then another one that i freeze *t*-1.###speakera109.###uh-huh.###speakerb110.### so, or i give it to my mom and dad if i know 0 we're not going *-1 to eat,###speakera111.  "
      ]
     },
     "execution_count": 12,
     "metadata": {},
     "output_type": "execute_result"
    }
   ],
   "source": [
    "d.loc[d[\"TGrepID\"] == \"101503:16\"][[\"EntireSentence\",\"PreceedingContext\"]]"
   ]
  },
  {
   "cell_type": "markdown",
   "metadata": {},
   "source": [
    "## KNOW MS"
   ]
  },
  {
   "cell_type": "code",
   "execution_count": 5,
   "metadata": {},
   "outputs": [
    {
     "data": {
      "text/html": [
       "<div>\n",
       "<style scoped>\n",
       "    .dataframe tbody tr th:only-of-type {\n",
       "        vertical-align: middle;\n",
       "    }\n",
       "\n",
       "    .dataframe tbody tr th {\n",
       "        vertical-align: top;\n",
       "    }\n",
       "\n",
       "    .dataframe thead th {\n",
       "        text-align: right;\n",
       "    }\n",
       "</style>\n",
       "<table border=\"1\" class=\"dataframe\">\n",
       "  <thead>\n",
       "    <tr style=\"text-align: right;\">\n",
       "      <th></th>\n",
       "      <th>EntireSentence</th>\n",
       "      <th>PreceedingContext</th>\n",
       "    </tr>\n",
       "  </thead>\n",
       "  <tbody>\n",
       "    <tr>\n",
       "      <th>1488</th>\n",
       "      <td>what else can we talk about *t*-1?</td>\n",
       "      <td>###and then after the years went by, they just sort of kept *-1 creeping up on price,###and actually service merchandise is cheaper than them now.###so.###speakerb118.###so.###speakera119.###so much for circuit city.###speakerb120.###so.###okay,</td>\n",
       "    </tr>\n",
       "  </tbody>\n",
       "</table>\n",
       "</div>"
      ],
      "text/plain": [
       "                          EntireSentence  \\\n",
       "1488  what else can we talk about *t*-1?   \n",
       "\n",
       "                                                                                                                                                                                                                                          PreceedingContext  \n",
       "1488  ###and then after the years went by, they just sort of kept *-1 creeping up on price,###and actually service merchandise is cheaper than them now.###so.###speakerb118.###so.###speakera119.###so much for circuit city.###speakerb120.###so.###okay,  "
      ]
     },
     "execution_count": 5,
     "metadata": {},
     "output_type": "execute_result"
    }
   ],
   "source": [
    "d.loc[d[\"TGrepID\"] == \"26185:5\"][[\"EntireSentence\",\"PreceedingContext\"]]"
   ]
  },
  {
   "cell_type": "code",
   "execution_count": 6,
   "metadata": {},
   "outputs": [
    {
     "data": {
      "text/html": [
       "<div>\n",
       "<style scoped>\n",
       "    .dataframe tbody tr th:only-of-type {\n",
       "        vertical-align: middle;\n",
       "    }\n",
       "\n",
       "    .dataframe tbody tr th {\n",
       "        vertical-align: top;\n",
       "    }\n",
       "\n",
       "    .dataframe thead th {\n",
       "        text-align: right;\n",
       "    }\n",
       "</style>\n",
       "<table border=\"1\" class=\"dataframe\">\n",
       "  <thead>\n",
       "    <tr style=\"text-align: right;\">\n",
       "      <th></th>\n",
       "      <th>EntireSentence</th>\n",
       "      <th>PreceedingContext</th>\n",
       "    </tr>\n",
       "  </thead>\n",
       "  <tbody>\n",
       "    <tr>\n",
       "      <th>1285</th>\n",
       "      <td>i don't know how * to make it better for them *t*-1</td>\n",
       "      <td>###uh-huh.###speakera77.###speakerb78.###yeah,###speakera79.###speakerb80.###and what do those kids do *t*-1,###they get it at school and come home,###what do they do *t*-1 then.### i, i feel, i feel for them,</td>\n",
       "    </tr>\n",
       "  </tbody>\n",
       "</table>\n",
       "</div>"
      ],
      "text/plain": [
       "                                           EntireSentence  \\\n",
       "1285  i don't know how * to make it better for them *t*-1   \n",
       "\n",
       "                                                                                                                                                                                                      PreceedingContext  \n",
       "1285  ###uh-huh.###speakera77.###speakerb78.###yeah,###speakera79.###speakerb80.###and what do those kids do *t*-1,###they get it at school and come home,###what do they do *t*-1 then.### i, i feel, i feel for them,  "
      ]
     },
     "execution_count": 6,
     "metadata": {},
     "output_type": "execute_result"
    }
   ],
   "source": [
    "d.loc[d[\"TGrepID\"] == \"22314:16\"][[\"EntireSentence\",\"PreceedingContext\"]]"
   ]
  },
  {
   "cell_type": "code",
   "execution_count": 7,
   "metadata": {},
   "outputs": [
    {
     "data": {
      "text/html": [
       "<div>\n",
       "<style scoped>\n",
       "    .dataframe tbody tr th:only-of-type {\n",
       "        vertical-align: middle;\n",
       "    }\n",
       "\n",
       "    .dataframe tbody tr th {\n",
       "        vertical-align: top;\n",
       "    }\n",
       "\n",
       "    .dataframe thead th {\n",
       "        text-align: right;\n",
       "    }\n",
       "</style>\n",
       "<table border=\"1\" class=\"dataframe\">\n",
       "  <thead>\n",
       "    <tr style=\"text-align: right;\">\n",
       "      <th></th>\n",
       "      <th>EntireSentence</th>\n",
       "      <th>PreceedingContext</th>\n",
       "    </tr>\n",
       "  </thead>\n",
       "  <tbody>\n",
       "    <tr>\n",
       "      <th>8617</th>\n",
       "      <td>just like i'm not real sure why anybody would need a full automatic weapon *t*-1.</td>\n",
       "      <td>###you could go through the black market like you say.###you know, you always be able *-1 to get around###but, uh,###speakerb72.###sure.###speakera73.###yeah,###it's one of things###but, uh, i don't know.### i guess, i guess 0 some forms of guns should probably be controlled *-1</td>\n",
       "    </tr>\n",
       "  </tbody>\n",
       "</table>\n",
       "</div>"
      ],
      "text/plain": [
       "                                                                         EntireSentence  \\\n",
       "8617  just like i'm not real sure why anybody would need a full automatic weapon *t*-1.   \n",
       "\n",
       "                                                                                                                                                                                                                                                                            PreceedingContext  \n",
       "8617  ###you could go through the black market like you say.###you know, you always be able *-1 to get around###but, uh,###speakerb72.###sure.###speakera73.###yeah,###it's one of things###but, uh, i don't know.### i guess, i guess 0 some forms of guns should probably be controlled *-1  "
      ]
     },
     "execution_count": 7,
     "metadata": {},
     "output_type": "execute_result"
    }
   ],
   "source": [
    "d.loc[d[\"TGrepID\"] == \"153958:24\"][[\"EntireSentence\",\"PreceedingContext\"]]"
   ]
  },
  {
   "cell_type": "code",
   "execution_count": 13,
   "metadata": {},
   "outputs": [
    {
     "data": {
      "text/html": [
       "<div>\n",
       "<style scoped>\n",
       "    .dataframe tbody tr th:only-of-type {\n",
       "        vertical-align: middle;\n",
       "    }\n",
       "\n",
       "    .dataframe tbody tr th {\n",
       "        vertical-align: top;\n",
       "    }\n",
       "\n",
       "    .dataframe thead th {\n",
       "        text-align: right;\n",
       "    }\n",
       "</style>\n",
       "<table border=\"1\" class=\"dataframe\">\n",
       "  <thead>\n",
       "    <tr style=\"text-align: right;\">\n",
       "      <th></th>\n",
       "      <th>EntireSentence</th>\n",
       "      <th>PreceedingContext</th>\n",
       "    </tr>\n",
       "  </thead>\n",
       "  <tbody>\n",
       "    <tr>\n",
       "      <th>742</th>\n",
       "      <td>when, when would people do it *t*-1,</td>\n",
       "      <td>###and i think 0 they've gotten a lot out of it.###speakera5.###well, are you doing any kind of volunteer work now?###speakerb6.###not right now,###but i have done, uh, red clo-, cross work###and, uh, i've taught c p r training###a-,###speakera7.###what about,</td>\n",
       "    </tr>\n",
       "  </tbody>\n",
       "</table>\n",
       "</div>"
      ],
      "text/plain": [
       "                           EntireSentence  \\\n",
       "742  when, when would people do it *t*-1,   \n",
       "\n",
       "                                                                                                                                                                                                                                                        PreceedingContext  \n",
       "742  ###and i think 0 they've gotten a lot out of it.###speakera5.###well, are you doing any kind of volunteer work now?###speakerb6.###not right now,###but i have done, uh, red clo-, cross work###and, uh, i've taught c p r training###a-,###speakera7.###what about,  "
      ]
     },
     "execution_count": 13,
     "metadata": {},
     "output_type": "execute_result"
    }
   ],
   "source": [
    "d.loc[d[\"TGrepID\"] == \"13191:16\"][[\"EntireSentence\",\"PreceedingContext\"]]"
   ]
  },
  {
   "cell_type": "code",
   "execution_count": 15,
   "metadata": {},
   "outputs": [
    {
     "data": {
      "text/html": [
       "<div>\n",
       "<style scoped>\n",
       "    .dataframe tbody tr th:only-of-type {\n",
       "        vertical-align: middle;\n",
       "    }\n",
       "\n",
       "    .dataframe tbody tr th {\n",
       "        vertical-align: top;\n",
       "    }\n",
       "\n",
       "    .dataframe thead th {\n",
       "        text-align: right;\n",
       "    }\n",
       "</style>\n",
       "<table border=\"1\" class=\"dataframe\">\n",
       "  <thead>\n",
       "    <tr style=\"text-align: right;\">\n",
       "      <th></th>\n",
       "      <th>EntireSentence</th>\n",
       "      <th>PreceedingContext</th>\n",
       "    </tr>\n",
       "  </thead>\n",
       "  <tbody>\n",
       "    <tr>\n",
       "      <th>2249</th>\n",
       "      <td>what do you like *-1 to read *t*-2?</td>\n",
       "      <td>###speakera7.###yeah,###i read quite a bit, probably don't read as much as i would like *-1 to *?*.###speakerb8.###i don't read as much as i would like *-1 to *?* either.### i'm, i'm a single mom,###but i have always loved reading.###speakera9.###uh-huh.###speakerb10.</td>\n",
       "    </tr>\n",
       "  </tbody>\n",
       "</table>\n",
       "</div>"
      ],
      "text/plain": [
       "                           EntireSentence  \\\n",
       "2249  what do you like *-1 to read *t*-2?   \n",
       "\n",
       "                                                                                                                                                                                                                                                                 PreceedingContext  \n",
       "2249  ###speakera7.###yeah,###i read quite a bit, probably don't read as much as i would like *-1 to *?*.###speakerb8.###i don't read as much as i would like *-1 to *?* either.### i'm, i'm a single mom,###but i have always loved reading.###speakera9.###uh-huh.###speakerb10.  "
      ]
     },
     "execution_count": 15,
     "metadata": {},
     "output_type": "execute_result"
    }
   ],
   "source": [
    "d.loc[d[\"TGrepID\"] == \"38489:4\"][[\"EntireSentence\",\"PreceedingContext\"]]"
   ]
  },
  {
   "cell_type": "markdown",
   "metadata": {},
   "source": [
    "### MA=MS"
   ]
  },
  {
   "cell_type": "code",
   "execution_count": 8,
   "metadata": {},
   "outputs": [
    {
     "data": {
      "text/html": [
       "<div>\n",
       "<style scoped>\n",
       "    .dataframe tbody tr th:only-of-type {\n",
       "        vertical-align: middle;\n",
       "    }\n",
       "\n",
       "    .dataframe tbody tr th {\n",
       "        vertical-align: top;\n",
       "    }\n",
       "\n",
       "    .dataframe thead th {\n",
       "        text-align: right;\n",
       "    }\n",
       "</style>\n",
       "<table border=\"1\" class=\"dataframe\">\n",
       "  <thead>\n",
       "    <tr style=\"text-align: right;\">\n",
       "      <th></th>\n",
       "      <th>EntireSentence</th>\n",
       "      <th>PreceedingContext</th>\n",
       "    </tr>\n",
       "  </thead>\n",
       "  <tbody>\n",
       "    <tr>\n",
       "      <th>733</th>\n",
       "      <td>i know who you're talking about *t*-1.</td>\n",
       "      <td>###uh, uh, uh, i think 0 i know who you're ta-,###oh, i know who you're talking about *t*-1,###speakera126.###real long legs, and dark hair.###speakerb127.###she's got black hair,###speakera128.###speakerb129.###yeah,###okay,</td>\n",
       "    </tr>\n",
       "  </tbody>\n",
       "</table>\n",
       "</div>"
      ],
      "text/plain": [
       "                             EntireSentence  \\\n",
       "733  i know who you're talking about *t*-1.   \n",
       "\n",
       "                                                                                                                                                                                                                     PreceedingContext  \n",
       "733  ###uh, uh, uh, i think 0 i know who you're ta-,###oh, i know who you're talking about *t*-1,###speakera126.###real long legs, and dark hair.###speakerb127.###she's got black hair,###speakera128.###speakerb129.###yeah,###okay,  "
      ]
     },
     "execution_count": 8,
     "metadata": {},
     "output_type": "execute_result"
    }
   ],
   "source": [
    "d.loc[d[\"TGrepID\"] == \"12883:11\"][[\"EntireSentence\",\"PreceedingContext\"]]"
   ]
  },
  {
   "cell_type": "code",
   "execution_count": null,
   "metadata": {},
   "outputs": [],
   "source": []
  },
  {
   "cell_type": "code",
   "execution_count": 11,
   "metadata": {},
   "outputs": [
    {
     "data": {
      "text/html": [
       "<div>\n",
       "<style scoped>\n",
       "    .dataframe tbody tr th:only-of-type {\n",
       "        vertical-align: middle;\n",
       "    }\n",
       "\n",
       "    .dataframe tbody tr th {\n",
       "        vertical-align: top;\n",
       "    }\n",
       "\n",
       "    .dataframe thead th {\n",
       "        text-align: right;\n",
       "    }\n",
       "</style>\n",
       "<table border=\"1\" class=\"dataframe\">\n",
       "  <thead>\n",
       "    <tr style=\"text-align: right;\">\n",
       "      <th></th>\n",
       "      <th>EntireSentence</th>\n",
       "      <th>PreceedingContext</th>\n",
       "    </tr>\n",
       "  </thead>\n",
       "  <tbody>\n",
       "    <tr>\n",
       "      <th>989</th>\n",
       "      <td>oh, i think 0 i know who you're talking about *t*-1.</td>\n",
       "      <td>###speakerb88.###yeah.###that's good.###speakera89.###yeah.###koontz.###uh, his last name ends in a z,###i know that.###speakerb90.###yeah,</td>\n",
       "    </tr>\n",
       "  </tbody>\n",
       "</table>\n",
       "</div>"
      ],
      "text/plain": [
       "                                           EntireSentence  \\\n",
       "989  oh, i think 0 i know who you're talking about *t*-1.   \n",
       "\n",
       "                                                                                                                               PreceedingContext  \n",
       "989  ###speakerb88.###yeah.###that's good.###speakera89.###yeah.###koontz.###uh, his last name ends in a z,###i know that.###speakerb90.###yeah,  "
      ]
     },
     "execution_count": 11,
     "metadata": {},
     "output_type": "execute_result"
    }
   ],
   "source": [
    "d.loc[d[\"TGrepID\"] == \"17191:26\"][[\"EntireSentence\",\"PreceedingContext\"]]"
   ]
  },
  {
   "cell_type": "markdown",
   "metadata": {},
   "source": [
    "## SURPRISE \n",
    "- the: .52\n",
    "- other: .26\n",
    "- a: .17\n",
    "- every: .05"
   ]
  },
  {
   "cell_type": "code",
   "execution_count": 16,
   "metadata": {},
   "outputs": [
    {
     "data": {
      "text/html": [
       "<div>\n",
       "<style scoped>\n",
       "    .dataframe tbody tr th:only-of-type {\n",
       "        vertical-align: middle;\n",
       "    }\n",
       "\n",
       "    .dataframe tbody tr th {\n",
       "        vertical-align: top;\n",
       "    }\n",
       "\n",
       "    .dataframe thead th {\n",
       "        text-align: right;\n",
       "    }\n",
       "</style>\n",
       "<table border=\"1\" class=\"dataframe\">\n",
       "  <thead>\n",
       "    <tr style=\"text-align: right;\">\n",
       "      <th></th>\n",
       "      <th>EntireSentence</th>\n",
       "      <th>PreceedingContext</th>\n",
       "    </tr>\n",
       "  </thead>\n",
       "  <tbody>\n",
       "    <tr>\n",
       "      <th>4124</th>\n",
       "      <td>and it, it, it's so surprising how it just happens *t*-1, you know.</td>\n",
       "      <td>###yeah,###i know.###speakerb132.###except for tornados.###speakera133.###boy they, they have storms here###i've,###speakerb134.###yes###they do.</td>\n",
       "    </tr>\n",
       "  </tbody>\n",
       "</table>\n",
       "</div>"
      ],
      "text/plain": [
       "                                                           EntireSentence  \\\n",
       "4124  and it, it, it's so surprising how it just happens *t*-1, you know.   \n",
       "\n",
       "                                                                                                                                      PreceedingContext  \n",
       "4124  ###yeah,###i know.###speakerb132.###except for tornados.###speakera133.###boy they, they have storms here###i've,###speakerb134.###yes###they do.  "
      ]
     },
     "execution_count": 16,
     "metadata": {},
     "output_type": "execute_result"
    }
   ],
   "source": [
    "d.loc[d[\"TGrepID\"] == \"72529:48\"][[\"EntireSentence\",\"PreceedingContext\"]]"
   ]
  },
  {
   "cell_type": "markdown",
   "metadata": {},
   "source": [
    "## PREDICT\n",
    "- every: .7\n",
    "- a: .18\n",
    "- other: .09\n",
    "- the: .04"
   ]
  },
  {
   "cell_type": "code",
   "execution_count": 18,
   "metadata": {},
   "outputs": [
    {
     "data": {
      "text/html": [
       "<div>\n",
       "<style scoped>\n",
       "    .dataframe tbody tr th:only-of-type {\n",
       "        vertical-align: middle;\n",
       "    }\n",
       "\n",
       "    .dataframe tbody tr th {\n",
       "        vertical-align: top;\n",
       "    }\n",
       "\n",
       "    .dataframe thead th {\n",
       "        text-align: right;\n",
       "    }\n",
       "</style>\n",
       "<table border=\"1\" class=\"dataframe\">\n",
       "  <thead>\n",
       "    <tr style=\"text-align: right;\">\n",
       "      <th></th>\n",
       "      <th>EntireSentence</th>\n",
       "      <th>PreceedingContext</th>\n",
       "    </tr>\n",
       "  </thead>\n",
       "  <tbody>\n",
       "    <tr>\n",
       "      <th>4282</th>\n",
       "      <td>and i guess 0 the answer, is, is, * stay flexible because nobody can predict what *t*-1's going *-2 to happen in twenty years.</td>\n",
       "      <td>###and it was really only, uh, acceptable if you were engaged and planning *-1 to get married *-2 in, in the relatively near future.###speakerb98.###uh-huh.###speakera99.###and i certainly know from *-1 talking to my stepdaughter that girls in high school were under a whole lot more pressure nowadays.###speakerb100.###oh, yeah.###it's kind of scary when i think of what *t*-2 will happen in twenty years, you know, when i have kids and they're grown *t*-3 and, uh, just kind of some of the changes that *t*-1 will happen even more *t*-4###so.###speakera101.</td>\n",
       "    </tr>\n",
       "  </tbody>\n",
       "</table>\n",
       "</div>"
      ],
      "text/plain": [
       "                                                                                                                      EntireSentence  \\\n",
       "4282  and i guess 0 the answer, is, is, * stay flexible because nobody can predict what *t*-1's going *-2 to happen in twenty years.   \n",
       "\n",
       "                                                                                                                                                                                                                                                                                                                                                                                                                                                                                                                                                                    PreceedingContext  \n",
       "4282  ###and it was really only, uh, acceptable if you were engaged and planning *-1 to get married *-2 in, in the relatively near future.###speakerb98.###uh-huh.###speakera99.###and i certainly know from *-1 talking to my stepdaughter that girls in high school were under a whole lot more pressure nowadays.###speakerb100.###oh, yeah.###it's kind of scary when i think of what *t*-2 will happen in twenty years, you know, when i have kids and they're grown *t*-3 and, uh, just kind of some of the changes that *t*-1 will happen even more *t*-4###so.###speakera101.  "
      ]
     },
     "execution_count": 18,
     "metadata": {},
     "output_type": "execute_result"
    }
   ],
   "source": [
    "d.loc[d[\"TGrepID\"] == \"75191:67\"][[\"EntireSentence\",\"PreceedingContext\"]]"
   ]
  },
  {
   "cell_type": "markdown",
   "metadata": {},
   "source": [
    "# Cases where there's a large change from context to nocontext"
   ]
  },
  {
   "cell_type": "code",
   "execution_count": 4,
   "metadata": {},
   "outputs": [
    {
     "data": {
      "text/html": [
       "<div>\n",
       "<style scoped>\n",
       "    .dataframe tbody tr th:only-of-type {\n",
       "        vertical-align: middle;\n",
       "    }\n",
       "\n",
       "    .dataframe tbody tr th {\n",
       "        vertical-align: top;\n",
       "    }\n",
       "\n",
       "    .dataframe thead th {\n",
       "        text-align: right;\n",
       "    }\n",
       "</style>\n",
       "<table border=\"1\" class=\"dataframe\">\n",
       "  <thead>\n",
       "    <tr style=\"text-align: right;\">\n",
       "      <th></th>\n",
       "      <th>EntireSentence</th>\n",
       "      <th>PreceedingContext</th>\n",
       "    </tr>\n",
       "  </thead>\n",
       "  <tbody>\n",
       "    <tr>\n",
       "      <th>7575</th>\n",
       "      <td>what do you have *t*-1 now?</td>\n",
       "      <td>###speakerb16.###of course i would want one if somebody was was given *-1 to me.###speakera17.###yeah.###speakerb18.###but i maybe would buy a b m w. uh, or, or even a volvo.###speakera19.###uh-huh.###speakerb20.###speakera21.</td>\n",
       "    </tr>\n",
       "  </tbody>\n",
       "</table>\n",
       "</div>"
      ],
      "text/plain": [
       "                   EntireSentence  \\\n",
       "7575  what do you have *t*-1 now?   \n",
       "\n",
       "                                                                                                                                                                                                                       PreceedingContext  \n",
       "7575  ###speakerb16.###of course i would want one if somebody was was given *-1 to me.###speakera17.###yeah.###speakerb18.###but i maybe would buy a b m w. uh, or, or even a volvo.###speakera19.###uh-huh.###speakerb20.###speakera21.  "
      ]
     },
     "execution_count": 4,
     "metadata": {},
     "output_type": "execute_result"
    }
   ],
   "source": [
    "d.loc[d[\"TGrepID\"] == \"132917:4\"][[\"EntireSentence\",\"PreceedingContext\"]]"
   ]
  },
  {
   "cell_type": "code",
   "execution_count": 5,
   "metadata": {},
   "outputs": [
    {
     "data": {
      "text/html": [
       "<div>\n",
       "<style scoped>\n",
       "    .dataframe tbody tr th:only-of-type {\n",
       "        vertical-align: middle;\n",
       "    }\n",
       "\n",
       "    .dataframe tbody tr th {\n",
       "        vertical-align: top;\n",
       "    }\n",
       "\n",
       "    .dataframe thead th {\n",
       "        text-align: right;\n",
       "    }\n",
       "</style>\n",
       "<table border=\"1\" class=\"dataframe\">\n",
       "  <thead>\n",
       "    <tr style=\"text-align: right;\">\n",
       "      <th></th>\n",
       "      <th>EntireSentence</th>\n",
       "      <th>PreceedingContext</th>\n",
       "    </tr>\n",
       "  </thead>\n",
       "  <tbody>\n",
       "    <tr>\n",
       "      <th>5108</th>\n",
       "      <td>what was the last one *t*-1?</td>\n",
       "      <td>###i think 0 that beard gives him a look that he is always grinning, whether he is *?* or not *t*-1.###speakerb110.###yeah.###speakera111.###and he, he has that merry look about his eyes that *t*-1 looks like he stays in mischief all time.###and, i enjoy those,###and i enjoy some of the michael j. fox movies.###i didn't care too much for the last one either.###it just was not enough to it.###speakerb112.</td>\n",
       "    </tr>\n",
       "  </tbody>\n",
       "</table>\n",
       "</div>"
      ],
      "text/plain": [
       "                    EntireSentence  \\\n",
       "5108  what was the last one *t*-1?   \n",
       "\n",
       "                                                                                                                                                                                                                                                                                                                                                                                                            PreceedingContext  \n",
       "5108  ###i think 0 that beard gives him a look that he is always grinning, whether he is *?* or not *t*-1.###speakerb110.###yeah.###speakera111.###and he, he has that merry look about his eyes that *t*-1 looks like he stays in mischief all time.###and, i enjoy those,###and i enjoy some of the michael j. fox movies.###i didn't care too much for the last one either.###it just was not enough to it.###speakerb112.  "
      ]
     },
     "execution_count": 5,
     "metadata": {},
     "output_type": "execute_result"
    }
   ],
   "source": [
    "d.loc[d[\"TGrepID\"] == \"89239:4\"][[\"EntireSentence\",\"PreceedingContext\"]]"
   ]
  },
  {
   "cell_type": "code",
   "execution_count": 7,
   "metadata": {},
   "outputs": [
    {
     "data": {
      "text/html": [
       "<div>\n",
       "<style scoped>\n",
       "    .dataframe tbody tr th:only-of-type {\n",
       "        vertical-align: middle;\n",
       "    }\n",
       "\n",
       "    .dataframe tbody tr th {\n",
       "        vertical-align: top;\n",
       "    }\n",
       "\n",
       "    .dataframe thead th {\n",
       "        text-align: right;\n",
       "    }\n",
       "</style>\n",
       "<table border=\"1\" class=\"dataframe\">\n",
       "  <thead>\n",
       "    <tr style=\"text-align: right;\">\n",
       "      <th></th>\n",
       "      <th>EntireSentence</th>\n",
       "      <th>PreceedingContext</th>\n",
       "    </tr>\n",
       "  </thead>\n",
       "  <tbody>\n",
       "    <tr>\n",
       "      <th>625</th>\n",
       "      <td>where do you live *t*-1?</td>\n",
       "      <td>###oh no.###oh well, * take care.###speakera92.###* take care now.###bye, bye.###speakerb93.###bye, bye.###speakera1.###our community doesn't really have any organized recycling drive.###speakerb2.</td>\n",
       "    </tr>\n",
       "  </tbody>\n",
       "</table>\n",
       "</div>"
      ],
      "text/plain": [
       "               EntireSentence  \\\n",
       "625  where do you live *t*-1?   \n",
       "\n",
       "                                                                                                                                                                                         PreceedingContext  \n",
       "625  ###oh no.###oh well, * take care.###speakera92.###* take care now.###bye, bye.###speakerb93.###bye, bye.###speakera1.###our community doesn't really have any organized recycling drive.###speakerb2.  "
      ]
     },
     "execution_count": 7,
     "metadata": {},
     "output_type": "execute_result"
    }
   ],
   "source": [
    "d.loc[d[\"TGrepID\"] == \"11053:4\"][[\"EntireSentence\",\"PreceedingContext\"]]"
   ]
  },
  {
   "cell_type": "code",
   "execution_count": 8,
   "metadata": {},
   "outputs": [
    {
     "data": {
      "text/html": [
       "<div>\n",
       "<style scoped>\n",
       "    .dataframe tbody tr th:only-of-type {\n",
       "        vertical-align: middle;\n",
       "    }\n",
       "\n",
       "    .dataframe tbody tr th {\n",
       "        vertical-align: top;\n",
       "    }\n",
       "\n",
       "    .dataframe thead th {\n",
       "        text-align: right;\n",
       "    }\n",
       "</style>\n",
       "<table border=\"1\" class=\"dataframe\">\n",
       "  <thead>\n",
       "    <tr style=\"text-align: right;\">\n",
       "      <th></th>\n",
       "      <th>EntireSentence</th>\n",
       "      <th>PreceedingContext</th>\n",
       "    </tr>\n",
       "  </thead>\n",
       "  <tbody>\n",
       "    <tr>\n",
       "      <th>7245</th>\n",
       "      <td>how did radio shack work *t*-1?</td>\n",
       "      <td>###and i did not like *-1 giving it out.###i mumblex gave out my work number###speakerb35.###right.###speakera36.###but i think 0 i'm not sure if it's by law just,###otherwise i think 0 the practice *ich*-2 has basically been eliminated *-1 * asking for a phone number.###speakerb37.###well, that's the thing 0 i hated *t*-1 too about, uh, radio shack.###speakera38.</td>\n",
       "    </tr>\n",
       "  </tbody>\n",
       "</table>\n",
       "</div>"
      ],
      "text/plain": [
       "                       EntireSentence  \\\n",
       "7245  how did radio shack work *t*-1?   \n",
       "\n",
       "                                                                                                                                                                                                                                                                                                                                                                   PreceedingContext  \n",
       "7245  ###and i did not like *-1 giving it out.###i mumblex gave out my work number###speakerb35.###right.###speakera36.###but i think 0 i'm not sure if it's by law just,###otherwise i think 0 the practice *ich*-2 has basically been eliminated *-1 * asking for a phone number.###speakerb37.###well, that's the thing 0 i hated *t*-1 too about, uh, radio shack.###speakera38.  "
      ]
     },
     "execution_count": 8,
     "metadata": {},
     "output_type": "execute_result"
    }
   ],
   "source": [
    "d.loc[d[\"TGrepID\"] == \"126136:4\"][[\"EntireSentence\",\"PreceedingContext\"]]"
   ]
  },
  {
   "cell_type": "code",
   "execution_count": 9,
   "metadata": {
    "scrolled": true
   },
   "outputs": [
    {
     "data": {
      "text/html": [
       "<div>\n",
       "<style scoped>\n",
       "    .dataframe tbody tr th:only-of-type {\n",
       "        vertical-align: middle;\n",
       "    }\n",
       "\n",
       "    .dataframe tbody tr th {\n",
       "        vertical-align: top;\n",
       "    }\n",
       "\n",
       "    .dataframe thead th {\n",
       "        text-align: right;\n",
       "    }\n",
       "</style>\n",
       "<table border=\"1\" class=\"dataframe\">\n",
       "  <thead>\n",
       "    <tr style=\"text-align: right;\">\n",
       "      <th></th>\n",
       "      <th>EntireSentence</th>\n",
       "      <th>PreceedingContext</th>\n",
       "    </tr>\n",
       "  </thead>\n",
       "  <tbody>\n",
       "    <tr>\n",
       "      <th>2839</th>\n",
       "      <td>what did you have *t*-1 before you bought that.</td>\n",
       "      <td>###the only thing 0 i've ever heard *t*-1 about hondas is that the breaks go out first.###speakerb19.###oh, really?###speakera20.###yeah.###speakerb21.###i hadn't heard that.###speakera22.###yeah.###speakerb23.</td>\n",
       "    </tr>\n",
       "  </tbody>\n",
       "</table>\n",
       "</div>"
      ],
      "text/plain": [
       "                                       EntireSentence  \\\n",
       "2839  what did you have *t*-1 before you bought that.   \n",
       "\n",
       "                                                                                                                                                                                                       PreceedingContext  \n",
       "2839  ###the only thing 0 i've ever heard *t*-1 about hondas is that the breaks go out first.###speakerb19.###oh, really?###speakera20.###yeah.###speakerb21.###i hadn't heard that.###speakera22.###yeah.###speakerb23.  "
      ]
     },
     "execution_count": 9,
     "metadata": {},
     "output_type": "execute_result"
    }
   ],
   "source": [
    "d.loc[d[\"TGrepID\"] == \"49447:4\"][[\"EntireSentence\",\"PreceedingContext\"]]"
   ]
  },
  {
   "cell_type": "code",
   "execution_count": null,
   "metadata": {},
   "outputs": [],
   "source": []
  },
  {
   "cell_type": "code",
   "execution_count": null,
   "metadata": {},
   "outputs": [],
   "source": []
  },
  {
   "cell_type": "code",
   "execution_count": 11,
   "metadata": {},
   "outputs": [
    {
     "data": {
      "text/html": [
       "<div>\n",
       "<style scoped>\n",
       "    .dataframe tbody tr th:only-of-type {\n",
       "        vertical-align: middle;\n",
       "    }\n",
       "\n",
       "    .dataframe tbody tr th {\n",
       "        vertical-align: top;\n",
       "    }\n",
       "\n",
       "    .dataframe thead th {\n",
       "        text-align: right;\n",
       "    }\n",
       "</style>\n",
       "<table border=\"1\" class=\"dataframe\">\n",
       "  <thead>\n",
       "    <tr style=\"text-align: right;\">\n",
       "      <th></th>\n",
       "      <th>EntireSentence</th>\n",
       "      <th>PreceedingContext</th>\n",
       "    </tr>\n",
       "  </thead>\n",
       "  <tbody>\n",
       "    <tr>\n",
       "      <th>784</th>\n",
       "      <td>uh, i have wondered why they allowed, or let, you know, both the father and mother go *t*-1, uh,</td>\n",
       "      <td>###uh-huh.###speakerb8.###and i guess 0 that's a significant change that i've both participated in *t*-1 an-, and noticed *t*-1.###speakera9.###i agree, uh,###the equality of, uh, the roles *ich*-1 now between the sexes, i guess 0 *t*-3 has been dramatically demonstrated *-2 with this war, especially compared with, uh, the vietnam war###and you see women *ich*-1 going off to wars as well as men.###speakerb10.###uh-huh.###speakera11.</td>\n",
       "    </tr>\n",
       "  </tbody>\n",
       "</table>\n",
       "</div>"
      ],
      "text/plain": [
       "                                                                                       EntireSentence  \\\n",
       "784  uh, i have wondered why they allowed, or let, you know, both the father and mother go *t*-1, uh,   \n",
       "\n",
       "                                                                                                                                                                                                                                                                                                                                                                                                                                        PreceedingContext  \n",
       "784  ###uh-huh.###speakerb8.###and i guess 0 that's a significant change that i've both participated in *t*-1 an-, and noticed *t*-1.###speakera9.###i agree, uh,###the equality of, uh, the roles *ich*-1 now between the sexes, i guess 0 *t*-3 has been dramatically demonstrated *-2 with this war, especially compared with, uh, the vietnam war###and you see women *ich*-1 going off to wars as well as men.###speakerb10.###uh-huh.###speakera11.  "
      ]
     },
     "execution_count": 11,
     "metadata": {},
     "output_type": "execute_result"
    }
   ],
   "source": [
    "d.loc[d[\"TGrepID\"] == \"13656:19\"][[\"EntireSentence\",\"PreceedingContext\"]]"
   ]
  },
  {
   "cell_type": "code",
   "execution_count": 10,
   "metadata": {},
   "outputs": [
    {
     "data": {
      "text/html": [
       "<div>\n",
       "<style scoped>\n",
       "    .dataframe tbody tr th:only-of-type {\n",
       "        vertical-align: middle;\n",
       "    }\n",
       "\n",
       "    .dataframe tbody tr th {\n",
       "        vertical-align: top;\n",
       "    }\n",
       "\n",
       "    .dataframe thead th {\n",
       "        text-align: right;\n",
       "    }\n",
       "</style>\n",
       "<table border=\"1\" class=\"dataframe\">\n",
       "  <thead>\n",
       "    <tr style=\"text-align: right;\">\n",
       "      <th></th>\n",
       "      <th>EntireSentence</th>\n",
       "      <th>PreceedingContext</th>\n",
       "    </tr>\n",
       "  </thead>\n",
       "  <tbody>\n",
       "    <tr>\n",
       "      <th>3386</th>\n",
       "      <td>and my mother taught me how * to make it *t*-1.</td>\n",
       "      <td>###and, um, the sticky buns, of course, would last, you know three or four days###and that would be it.###speakera116.###yeah,###then be gone.###i know,###that's the thing about baking.### i used *-1 to, i, i don't mind *-2 baking at all###and i, i can do a pretty good pie,###we have this pie crust recipe *ich*-1 in our family that my grandmother gave my mother *t*-2</td>\n",
       "    </tr>\n",
       "  </tbody>\n",
       "</table>\n",
       "</div>"
      ],
      "text/plain": [
       "                                       EntireSentence  \\\n",
       "3386  and my mother taught me how * to make it *t*-1.   \n",
       "\n",
       "                                                                                                                                                                                                                                                                                                                                                                      PreceedingContext  \n",
       "3386  ###and, um, the sticky buns, of course, would last, you know three or four days###and that would be it.###speakera116.###yeah,###then be gone.###i know,###that's the thing about baking.### i used *-1 to, i, i don't mind *-2 baking at all###and i, i can do a pretty good pie,###we have this pie crust recipe *ich*-1 in our family that my grandmother gave my mother *t*-2  "
      ]
     },
     "execution_count": 10,
     "metadata": {},
     "output_type": "execute_result"
    }
   ],
   "source": [
    "d.loc[d[\"TGrepID\"] == \"58758:18\"][[\"EntireSentence\",\"PreceedingContext\"]]"
   ]
  },
  {
   "cell_type": "markdown",
   "metadata": {},
   "source": [
    "## Cases with little difference"
   ]
  },
  {
   "cell_type": "code",
   "execution_count": 12,
   "metadata": {},
   "outputs": [
    {
     "data": {
      "text/html": [
       "<div>\n",
       "<style scoped>\n",
       "    .dataframe tbody tr th:only-of-type {\n",
       "        vertical-align: middle;\n",
       "    }\n",
       "\n",
       "    .dataframe tbody tr th {\n",
       "        vertical-align: top;\n",
       "    }\n",
       "\n",
       "    .dataframe thead th {\n",
       "        text-align: right;\n",
       "    }\n",
       "</style>\n",
       "<table border=\"1\" class=\"dataframe\">\n",
       "  <thead>\n",
       "    <tr style=\"text-align: right;\">\n",
       "      <th></th>\n",
       "      <th>EntireSentence</th>\n",
       "      <th>PreceedingContext</th>\n",
       "    </tr>\n",
       "  </thead>\n",
       "  <tbody>\n",
       "    <tr>\n",
       "      <th>3355</th>\n",
       "      <td>but what did we do *t*-1.</td>\n",
       "      <td>###speakerb72.###i mean, it was, they're, they still don't know what they were there for *t*-1.###speakera73.###no,###there was no feeling of accomplishment, no goal,###no,###speakerb74.###no.###speakera75.###we went in</td>\n",
       "    </tr>\n",
       "  </tbody>\n",
       "</table>\n",
       "</div>"
      ],
      "text/plain": [
       "                 EntireSentence  \\\n",
       "3355  but what did we do *t*-1.   \n",
       "\n",
       "                                                                                                                                                                                                                PreceedingContext  \n",
       "3355  ###speakerb72.###i mean, it was, they're, they still don't know what they were there for *t*-1.###speakera73.###no,###there was no feeling of accomplishment, no goal,###no,###speakerb74.###no.###speakera75.###we went in  "
      ]
     },
     "execution_count": 12,
     "metadata": {},
     "output_type": "execute_result"
    }
   ],
   "source": [
    "# every --> the\n",
    "d.loc[d[\"TGrepID\"] == \"58058:6\"][[\"EntireSentence\",\"PreceedingContext\"]]"
   ]
  },
  {
   "cell_type": "code",
   "execution_count": 13,
   "metadata": {
    "scrolled": true
   },
   "outputs": [
    {
     "data": {
      "text/html": [
       "<div>\n",
       "<style scoped>\n",
       "    .dataframe tbody tr th:only-of-type {\n",
       "        vertical-align: middle;\n",
       "    }\n",
       "\n",
       "    .dataframe tbody tr th {\n",
       "        vertical-align: top;\n",
       "    }\n",
       "\n",
       "    .dataframe thead th {\n",
       "        text-align: right;\n",
       "    }\n",
       "</style>\n",
       "<table border=\"1\" class=\"dataframe\">\n",
       "  <thead>\n",
       "    <tr style=\"text-align: right;\">\n",
       "      <th></th>\n",
       "      <th>EntireSentence</th>\n",
       "      <th>PreceedingContext</th>\n",
       "    </tr>\n",
       "  </thead>\n",
       "  <tbody>\n",
       "    <tr>\n",
       "      <th>8296</th>\n",
       "      <td>where do you buy your tole painting paints at *t*-1 around here?</td>\n",
       "      <td>###speakera99.###uh-huh.###speakerb100.###so i think 0 you'll enjoy *-1 doing it.###speakera101.###yeah.###speakerb102.###it's fun.###speakera103.###* sounds fun.</td>\n",
       "    </tr>\n",
       "  </tbody>\n",
       "</table>\n",
       "</div>"
      ],
      "text/plain": [
       "                                                        EntireSentence  \\\n",
       "8296  where do you buy your tole painting paints at *t*-1 around here?   \n",
       "\n",
       "                                                                                                                                                       PreceedingContext  \n",
       "8296  ###speakera99.###uh-huh.###speakerb100.###so i think 0 you'll enjoy *-1 doing it.###speakera101.###yeah.###speakerb102.###it's fun.###speakera103.###* sounds fun.  "
      ]
     },
     "execution_count": 13,
     "metadata": {},
     "output_type": "execute_result"
    }
   ],
   "source": [
    "# no real change\n",
    "d.loc[d[\"TGrepID\"] == \"148861:4\"][[\"EntireSentence\",\"PreceedingContext\"]]"
   ]
  },
  {
   "cell_type": "code",
   "execution_count": 14,
   "metadata": {},
   "outputs": [
    {
     "data": {
      "text/html": [
       "<div>\n",
       "<style scoped>\n",
       "    .dataframe tbody tr th:only-of-type {\n",
       "        vertical-align: middle;\n",
       "    }\n",
       "\n",
       "    .dataframe tbody tr th {\n",
       "        vertical-align: top;\n",
       "    }\n",
       "\n",
       "    .dataframe thead th {\n",
       "        text-align: right;\n",
       "    }\n",
       "</style>\n",
       "<table border=\"1\" class=\"dataframe\">\n",
       "  <thead>\n",
       "    <tr style=\"text-align: right;\">\n",
       "      <th></th>\n",
       "      <th>EntireSentence</th>\n",
       "      <th>PreceedingContext</th>\n",
       "    </tr>\n",
       "  </thead>\n",
       "  <tbody>\n",
       "    <tr>\n",
       "      <th>290</th>\n",
       "      <td>and he says how do you get that from there to the material *t*-1.</td>\n",
       "      <td>###have you been cross-stitching long?###speakera9.###oh, several years.###my husband is even interested in it now.###he likes *-1 to help me design, um, you know, projects that *t*-2 are, a little more customized.###speakerb10.###oh, really.###speakera11.###speakerb12.### mine, sort of, he looks at the pattern</td>\n",
       "    </tr>\n",
       "  </tbody>\n",
       "</table>\n",
       "</div>"
      ],
      "text/plain": [
       "                                                        EntireSentence  \\\n",
       "290  and he says how do you get that from there to the material *t*-1.   \n",
       "\n",
       "                                                                                                                                                                                                                                                                                                            PreceedingContext  \n",
       "290  ###have you been cross-stitching long?###speakera9.###oh, several years.###my husband is even interested in it now.###he likes *-1 to help me design, um, you know, projects that *t*-2 are, a little more customized.###speakerb10.###oh, really.###speakera11.###speakerb12.### mine, sort of, he looks at the pattern  "
      ]
     },
     "execution_count": 14,
     "metadata": {},
     "output_type": "execute_result"
    }
   ],
   "source": [
    "# no real change\n",
    "d.loc[d[\"TGrepID\"] == \"5042:13\"][[\"EntireSentence\",\"PreceedingContext\"]]"
   ]
  },
  {
   "cell_type": "code",
   "execution_count": null,
   "metadata": {},
   "outputs": [],
   "source": []
  },
  {
   "cell_type": "code",
   "execution_count": null,
   "metadata": {},
   "outputs": [],
   "source": []
  },
  {
   "cell_type": "code",
   "execution_count": null,
   "metadata": {},
   "outputs": [],
   "source": []
  },
  {
   "cell_type": "code",
   "execution_count": 4,
   "metadata": {},
   "outputs": [
    {
     "data": {
      "text/html": [
       "<div>\n",
       "<style scoped>\n",
       "    .dataframe tbody tr th:only-of-type {\n",
       "        vertical-align: middle;\n",
       "    }\n",
       "\n",
       "    .dataframe tbody tr th {\n",
       "        vertical-align: top;\n",
       "    }\n",
       "\n",
       "    .dataframe thead th {\n",
       "        text-align: right;\n",
       "    }\n",
       "</style>\n",
       "<table border=\"1\" class=\"dataframe\">\n",
       "  <thead>\n",
       "    <tr style=\"text-align: right;\">\n",
       "      <th></th>\n",
       "      <th>EntireSentence</th>\n",
       "      <th>PreceedingContext</th>\n",
       "    </tr>\n",
       "  </thead>\n",
       "  <tbody>\n",
       "    <tr>\n",
       "      <th>4282</th>\n",
       "      <td>and i guess 0 the answer, is, is, * stay flexible because nobody can predict what *t*-1's going *-2 to happen in twenty years.</td>\n",
       "      <td>###and it was really only, uh, acceptable if you were engaged and planning *-1 to get married *-2 in, in the relatively near future.###speakerb98.###uh-huh.###speakera99.###and i certainly know from *-1 talking to my stepdaughter that girls in high school were under a whole lot more pressure nowadays.###speakerb100.###oh, yeah.###it's kind of scary when i think of what *t*-2 will happen in twenty years, you know, when i have kids and they're grown *t*-3 and, uh, just kind of some of the changes that *t*-1 will happen even more *t*-4###so.###speakera101.</td>\n",
       "    </tr>\n",
       "  </tbody>\n",
       "</table>\n",
       "</div>"
      ],
      "text/plain": [
       "                                                                                                                      EntireSentence  \\\n",
       "4282  and i guess 0 the answer, is, is, * stay flexible because nobody can predict what *t*-1's going *-2 to happen in twenty years.   \n",
       "\n",
       "                                                                                                                                                                                                                                                                                                                                                                                                                                                                                                                                                                    PreceedingContext  \n",
       "4282  ###and it was really only, uh, acceptable if you were engaged and planning *-1 to get married *-2 in, in the relatively near future.###speakerb98.###uh-huh.###speakera99.###and i certainly know from *-1 talking to my stepdaughter that girls in high school were under a whole lot more pressure nowadays.###speakerb100.###oh, yeah.###it's kind of scary when i think of what *t*-2 will happen in twenty years, you know, when i have kids and they're grown *t*-3 and, uh, just kind of some of the changes that *t*-1 will happen even more *t*-4###so.###speakera101.  "
      ]
     },
     "execution_count": 4,
     "metadata": {},
     "output_type": "execute_result"
    }
   ],
   "source": [
    "d.loc[d[\"TGrepID\"] == \"75191:67\"][[\"EntireSentence\",\"PreceedingContext\"]]"
   ]
  },
  {
   "cell_type": "code",
   "execution_count": null,
   "metadata": {},
   "outputs": [],
   "source": []
  }
 ],
 "metadata": {
  "kernelspec": {
   "display_name": "Python 3",
   "language": "python",
   "name": "python3"
  },
  "language_info": {
   "codemirror_mode": {
    "name": "ipython",
    "version": 3
   },
   "file_extension": ".py",
   "mimetype": "text/x-python",
   "name": "python",
   "nbconvert_exporter": "python",
   "pygments_lexer": "ipython3",
   "version": "3.8.3"
  }
 },
 "nbformat": 4,
 "nbformat_minor": 4
}
